{
  "nbformat": 4,
  "nbformat_minor": 0,
  "metadata": {
    "colab": {
      "provenance": []
    },
    "kernelspec": {
      "name": "python3",
      "display_name": "Python 3"
    },
    "language_info": {
      "name": "python"
    }
  },
  "cells": [
    {
      "cell_type": "code",
      "source": [
        "#Loading the required libraries\n",
        "from sklearn.feature_extraction.text import TfidfVectorizer\n",
        "import pandas as pd\n",
        "import numpy as np\n",
        "from sklearn.decomposition import TruncatedSVD\n",
        "from sklearn.metrics.pairwise import cosine_similarity"
      ],
      "metadata": {
        "id": "J06C57PlB8XQ"
      },
      "execution_count": null,
      "outputs": []
    },
    {
      "cell_type": "code",
      "execution_count": null,
      "metadata": {
        "id": "70r2SN8MBHvs"
      },
      "outputs": [],
      "source": [
        "## A toy example- a list of 5 documents are considered as corpus\n",
        "\n",
        "docs=['Romeo  Juliet',\n",
        "'Juliet O happy dagger!',\n",
        "'Romeo died  dagger',\n",
        "'Live free or die  New-Hampshire motto.',\n",
        "'Did you know New-Hampshire  New-England.','Romeo in Japan']"
      ]
    },
    {
      "cell_type": "code",
      "source": [
        "## Converting text to a structured form (rows being documents and columns are the unique words)\n",
        "tfidf=TfidfVectorizer()\n",
        "mat= tfidf.fit_transform(docs)"
      ],
      "metadata": {
        "id": "chneEC63CPqs"
      },
      "execution_count": null,
      "outputs": []
    },
    {
      "cell_type": "code",
      "source": [
        "### Mat is a sparse matrix\n",
        "mat"
      ],
      "metadata": {
        "colab": {
          "base_uri": "https://localhost:8080/"
        },
        "id": "PEUFzFPr0G_b",
        "outputId": "f8bc2f10-21a8-4823-98a3-0d7ff4c4c05c"
      },
      "execution_count": null,
      "outputs": [
        {
          "output_type": "execute_result",
          "data": {
            "text/plain": [
              "<6x18 sparse matrix of type '<class 'numpy.float64'>'\n",
              "\twith 24 stored elements in Compressed Sparse Row format>"
            ]
          },
          "metadata": {},
          "execution_count": 4
        }
      ]
    },
    {
      "cell_type": "code",
      "source": [
        "mat.todense()"
      ],
      "metadata": {
        "colab": {
          "base_uri": "https://localhost:8080/"
        },
        "id": "WzYIUbK2LlIn",
        "outputId": "0e5bb8c8-5ff3-4c12-e669-e3d9901b18eb"
      },
      "execution_count": null,
      "outputs": [
        {
          "output_type": "execute_result",
          "data": {
            "text/plain": [
              "matrix([[0.        , 0.        , 0.        , 0.        , 0.        ,\n",
              "         0.        , 0.        , 0.        , 0.        , 0.        ,\n",
              "         0.7640961 , 0.        , 0.        , 0.        , 0.        ,\n",
              "         0.        , 0.64510243, 0.        ],\n",
              "        [0.5355058 , 0.        , 0.        , 0.        , 0.        ,\n",
              "         0.        , 0.        , 0.65304446, 0.        , 0.        ,\n",
              "         0.5355058 , 0.        , 0.        , 0.        , 0.        ,\n",
              "         0.        , 0.        , 0.        ],\n",
              "        [0.55902156, 0.        , 0.        , 0.68172171, 0.        ,\n",
              "         0.        , 0.        , 0.        , 0.        , 0.        ,\n",
              "         0.        , 0.        , 0.        , 0.        , 0.        ,\n",
              "         0.        , 0.47196441, 0.        ],\n",
              "        [0.        , 0.        , 0.39699901, 0.        , 0.        ,\n",
              "         0.39699901, 0.32554487, 0.        , 0.        , 0.        ,\n",
              "         0.        , 0.        , 0.39699901, 0.39699901, 0.32554487,\n",
              "         0.39699901, 0.        , 0.        ],\n",
              "        [0.        , 0.36855188, 0.        , 0.        , 0.36855188,\n",
              "         0.        , 0.30221782, 0.        , 0.        , 0.        ,\n",
              "         0.        , 0.36855188, 0.        , 0.        , 0.60443563,\n",
              "         0.        , 0.        , 0.36855188],\n",
              "        [0.        , 0.        , 0.        , 0.        , 0.        ,\n",
              "         0.        , 0.        , 0.        , 0.63509072, 0.63509072,\n",
              "         0.        , 0.        , 0.        , 0.        , 0.        ,\n",
              "         0.        , 0.4396812 , 0.        ]])"
            ]
          },
          "metadata": {},
          "execution_count": 5
        }
      ]
    },
    {
      "cell_type": "code",
      "source": [
        "## To view the document term matrix\n",
        "Data=pd.DataFrame(mat.todense(),columns=tfidf.get_feature_names_out())\n",
        "Data=pd.concat([pd.Series(docs),Data],axis=1)"
      ],
      "metadata": {
        "id": "sKoZirF7y91G"
      },
      "execution_count": null,
      "outputs": []
    },
    {
      "cell_type": "code",
      "source": [
        "Data"
      ],
      "metadata": {
        "colab": {
          "base_uri": "https://localhost:8080/",
          "height": 561
        },
        "id": "txmpIOw60vN6",
        "outputId": "ca0a5f9d-7426-4d59-9bff-e290a572f855"
      },
      "execution_count": null,
      "outputs": [
        {
          "output_type": "execute_result",
          "data": {
            "text/plain": [
              "                                          0    dagger       did       die  \\\n",
              "0                             Romeo  Juliet  0.000000  0.000000  0.000000   \n",
              "1                    Juliet O happy dagger!  0.535506  0.000000  0.000000   \n",
              "2                        Romeo died  dagger  0.559022  0.000000  0.000000   \n",
              "3    Live free or die  New-Hampshire motto.  0.000000  0.000000  0.396999   \n",
              "4  Did you know New-Hampshire  New-England.  0.000000  0.368552  0.000000   \n",
              "5                            Romeo in Japan  0.000000  0.000000  0.000000   \n",
              "\n",
              "       died   england      free  hampshire     happy        in     japan  \\\n",
              "0  0.000000  0.000000  0.000000   0.000000  0.000000  0.000000  0.000000   \n",
              "1  0.000000  0.000000  0.000000   0.000000  0.653044  0.000000  0.000000   \n",
              "2  0.681722  0.000000  0.000000   0.000000  0.000000  0.000000  0.000000   \n",
              "3  0.000000  0.000000  0.396999   0.325545  0.000000  0.000000  0.000000   \n",
              "4  0.000000  0.368552  0.000000   0.302218  0.000000  0.000000  0.000000   \n",
              "5  0.000000  0.000000  0.000000   0.000000  0.000000  0.635091  0.635091   \n",
              "\n",
              "     juliet      know      live     motto       new        or     romeo  \\\n",
              "0  0.764096  0.000000  0.000000  0.000000  0.000000  0.000000  0.645102   \n",
              "1  0.535506  0.000000  0.000000  0.000000  0.000000  0.000000  0.000000   \n",
              "2  0.000000  0.000000  0.000000  0.000000  0.000000  0.000000  0.471964   \n",
              "3  0.000000  0.000000  0.396999  0.396999  0.325545  0.396999  0.000000   \n",
              "4  0.000000  0.368552  0.000000  0.000000  0.604436  0.000000  0.000000   \n",
              "5  0.000000  0.000000  0.000000  0.000000  0.000000  0.000000  0.439681   \n",
              "\n",
              "        you  \n",
              "0  0.000000  \n",
              "1  0.000000  \n",
              "2  0.000000  \n",
              "3  0.000000  \n",
              "4  0.368552  \n",
              "5  0.000000  "
            ],
            "text/html": [
              "\n",
              "  <div id=\"df-a0da5f0f-0415-4ef5-bf41-b66f045e5a6c\">\n",
              "    <div class=\"colab-df-container\">\n",
              "      <div>\n",
              "<style scoped>\n",
              "    .dataframe tbody tr th:only-of-type {\n",
              "        vertical-align: middle;\n",
              "    }\n",
              "\n",
              "    .dataframe tbody tr th {\n",
              "        vertical-align: top;\n",
              "    }\n",
              "\n",
              "    .dataframe thead th {\n",
              "        text-align: right;\n",
              "    }\n",
              "</style>\n",
              "<table border=\"1\" class=\"dataframe\">\n",
              "  <thead>\n",
              "    <tr style=\"text-align: right;\">\n",
              "      <th></th>\n",
              "      <th>0</th>\n",
              "      <th>dagger</th>\n",
              "      <th>did</th>\n",
              "      <th>die</th>\n",
              "      <th>died</th>\n",
              "      <th>england</th>\n",
              "      <th>free</th>\n",
              "      <th>hampshire</th>\n",
              "      <th>happy</th>\n",
              "      <th>in</th>\n",
              "      <th>japan</th>\n",
              "      <th>juliet</th>\n",
              "      <th>know</th>\n",
              "      <th>live</th>\n",
              "      <th>motto</th>\n",
              "      <th>new</th>\n",
              "      <th>or</th>\n",
              "      <th>romeo</th>\n",
              "      <th>you</th>\n",
              "    </tr>\n",
              "  </thead>\n",
              "  <tbody>\n",
              "    <tr>\n",
              "      <th>0</th>\n",
              "      <td>Romeo  Juliet</td>\n",
              "      <td>0.000000</td>\n",
              "      <td>0.000000</td>\n",
              "      <td>0.000000</td>\n",
              "      <td>0.000000</td>\n",
              "      <td>0.000000</td>\n",
              "      <td>0.000000</td>\n",
              "      <td>0.000000</td>\n",
              "      <td>0.000000</td>\n",
              "      <td>0.000000</td>\n",
              "      <td>0.000000</td>\n",
              "      <td>0.764096</td>\n",
              "      <td>0.000000</td>\n",
              "      <td>0.000000</td>\n",
              "      <td>0.000000</td>\n",
              "      <td>0.000000</td>\n",
              "      <td>0.000000</td>\n",
              "      <td>0.645102</td>\n",
              "      <td>0.000000</td>\n",
              "    </tr>\n",
              "    <tr>\n",
              "      <th>1</th>\n",
              "      <td>Juliet O happy dagger!</td>\n",
              "      <td>0.535506</td>\n",
              "      <td>0.000000</td>\n",
              "      <td>0.000000</td>\n",
              "      <td>0.000000</td>\n",
              "      <td>0.000000</td>\n",
              "      <td>0.000000</td>\n",
              "      <td>0.000000</td>\n",
              "      <td>0.653044</td>\n",
              "      <td>0.000000</td>\n",
              "      <td>0.000000</td>\n",
              "      <td>0.535506</td>\n",
              "      <td>0.000000</td>\n",
              "      <td>0.000000</td>\n",
              "      <td>0.000000</td>\n",
              "      <td>0.000000</td>\n",
              "      <td>0.000000</td>\n",
              "      <td>0.000000</td>\n",
              "      <td>0.000000</td>\n",
              "    </tr>\n",
              "    <tr>\n",
              "      <th>2</th>\n",
              "      <td>Romeo died  dagger</td>\n",
              "      <td>0.559022</td>\n",
              "      <td>0.000000</td>\n",
              "      <td>0.000000</td>\n",
              "      <td>0.681722</td>\n",
              "      <td>0.000000</td>\n",
              "      <td>0.000000</td>\n",
              "      <td>0.000000</td>\n",
              "      <td>0.000000</td>\n",
              "      <td>0.000000</td>\n",
              "      <td>0.000000</td>\n",
              "      <td>0.000000</td>\n",
              "      <td>0.000000</td>\n",
              "      <td>0.000000</td>\n",
              "      <td>0.000000</td>\n",
              "      <td>0.000000</td>\n",
              "      <td>0.000000</td>\n",
              "      <td>0.471964</td>\n",
              "      <td>0.000000</td>\n",
              "    </tr>\n",
              "    <tr>\n",
              "      <th>3</th>\n",
              "      <td>Live free or die  New-Hampshire motto.</td>\n",
              "      <td>0.000000</td>\n",
              "      <td>0.000000</td>\n",
              "      <td>0.396999</td>\n",
              "      <td>0.000000</td>\n",
              "      <td>0.000000</td>\n",
              "      <td>0.396999</td>\n",
              "      <td>0.325545</td>\n",
              "      <td>0.000000</td>\n",
              "      <td>0.000000</td>\n",
              "      <td>0.000000</td>\n",
              "      <td>0.000000</td>\n",
              "      <td>0.000000</td>\n",
              "      <td>0.396999</td>\n",
              "      <td>0.396999</td>\n",
              "      <td>0.325545</td>\n",
              "      <td>0.396999</td>\n",
              "      <td>0.000000</td>\n",
              "      <td>0.000000</td>\n",
              "    </tr>\n",
              "    <tr>\n",
              "      <th>4</th>\n",
              "      <td>Did you know New-Hampshire  New-England.</td>\n",
              "      <td>0.000000</td>\n",
              "      <td>0.368552</td>\n",
              "      <td>0.000000</td>\n",
              "      <td>0.000000</td>\n",
              "      <td>0.368552</td>\n",
              "      <td>0.000000</td>\n",
              "      <td>0.302218</td>\n",
              "      <td>0.000000</td>\n",
              "      <td>0.000000</td>\n",
              "      <td>0.000000</td>\n",
              "      <td>0.000000</td>\n",
              "      <td>0.368552</td>\n",
              "      <td>0.000000</td>\n",
              "      <td>0.000000</td>\n",
              "      <td>0.604436</td>\n",
              "      <td>0.000000</td>\n",
              "      <td>0.000000</td>\n",
              "      <td>0.368552</td>\n",
              "    </tr>\n",
              "    <tr>\n",
              "      <th>5</th>\n",
              "      <td>Romeo in Japan</td>\n",
              "      <td>0.000000</td>\n",
              "      <td>0.000000</td>\n",
              "      <td>0.000000</td>\n",
              "      <td>0.000000</td>\n",
              "      <td>0.000000</td>\n",
              "      <td>0.000000</td>\n",
              "      <td>0.000000</td>\n",
              "      <td>0.000000</td>\n",
              "      <td>0.635091</td>\n",
              "      <td>0.635091</td>\n",
              "      <td>0.000000</td>\n",
              "      <td>0.000000</td>\n",
              "      <td>0.000000</td>\n",
              "      <td>0.000000</td>\n",
              "      <td>0.000000</td>\n",
              "      <td>0.000000</td>\n",
              "      <td>0.439681</td>\n",
              "      <td>0.000000</td>\n",
              "    </tr>\n",
              "  </tbody>\n",
              "</table>\n",
              "</div>\n",
              "      <button class=\"colab-df-convert\" onclick=\"convertToInteractive('df-a0da5f0f-0415-4ef5-bf41-b66f045e5a6c')\"\n",
              "              title=\"Convert this dataframe to an interactive table.\"\n",
              "              style=\"display:none;\">\n",
              "        \n",
              "  <svg xmlns=\"http://www.w3.org/2000/svg\" height=\"24px\"viewBox=\"0 0 24 24\"\n",
              "       width=\"24px\">\n",
              "    <path d=\"M0 0h24v24H0V0z\" fill=\"none\"/>\n",
              "    <path d=\"M18.56 5.44l.94 2.06.94-2.06 2.06-.94-2.06-.94-.94-2.06-.94 2.06-2.06.94zm-11 1L8.5 8.5l.94-2.06 2.06-.94-2.06-.94L8.5 2.5l-.94 2.06-2.06.94zm10 10l.94 2.06.94-2.06 2.06-.94-2.06-.94-.94-2.06-.94 2.06-2.06.94z\"/><path d=\"M17.41 7.96l-1.37-1.37c-.4-.4-.92-.59-1.43-.59-.52 0-1.04.2-1.43.59L10.3 9.45l-7.72 7.72c-.78.78-.78 2.05 0 2.83L4 21.41c.39.39.9.59 1.41.59.51 0 1.02-.2 1.41-.59l7.78-7.78 2.81-2.81c.8-.78.8-2.07 0-2.86zM5.41 20L4 18.59l7.72-7.72 1.47 1.35L5.41 20z\"/>\n",
              "  </svg>\n",
              "      </button>\n",
              "      \n",
              "  <style>\n",
              "    .colab-df-container {\n",
              "      display:flex;\n",
              "      flex-wrap:wrap;\n",
              "      gap: 12px;\n",
              "    }\n",
              "\n",
              "    .colab-df-convert {\n",
              "      background-color: #E8F0FE;\n",
              "      border: none;\n",
              "      border-radius: 50%;\n",
              "      cursor: pointer;\n",
              "      display: none;\n",
              "      fill: #1967D2;\n",
              "      height: 32px;\n",
              "      padding: 0 0 0 0;\n",
              "      width: 32px;\n",
              "    }\n",
              "\n",
              "    .colab-df-convert:hover {\n",
              "      background-color: #E2EBFA;\n",
              "      box-shadow: 0px 1px 2px rgba(60, 64, 67, 0.3), 0px 1px 3px 1px rgba(60, 64, 67, 0.15);\n",
              "      fill: #174EA6;\n",
              "    }\n",
              "\n",
              "    [theme=dark] .colab-df-convert {\n",
              "      background-color: #3B4455;\n",
              "      fill: #D2E3FC;\n",
              "    }\n",
              "\n",
              "    [theme=dark] .colab-df-convert:hover {\n",
              "      background-color: #434B5C;\n",
              "      box-shadow: 0px 1px 3px 1px rgba(0, 0, 0, 0.15);\n",
              "      filter: drop-shadow(0px 1px 2px rgba(0, 0, 0, 0.3));\n",
              "      fill: #FFFFFF;\n",
              "    }\n",
              "  </style>\n",
              "\n",
              "      <script>\n",
              "        const buttonEl =\n",
              "          document.querySelector('#df-a0da5f0f-0415-4ef5-bf41-b66f045e5a6c button.colab-df-convert');\n",
              "        buttonEl.style.display =\n",
              "          google.colab.kernel.accessAllowed ? 'block' : 'none';\n",
              "\n",
              "        async function convertToInteractive(key) {\n",
              "          const element = document.querySelector('#df-a0da5f0f-0415-4ef5-bf41-b66f045e5a6c');\n",
              "          const dataTable =\n",
              "            await google.colab.kernel.invokeFunction('convertToInteractive',\n",
              "                                                     [key], {});\n",
              "          if (!dataTable) return;\n",
              "\n",
              "          const docLinkHtml = 'Like what you see? Visit the ' +\n",
              "            '<a target=\"_blank\" href=https://colab.research.google.com/notebooks/data_table.ipynb>data table notebook</a>'\n",
              "            + ' to learn more about interactive tables.';\n",
              "          element.innerHTML = '';\n",
              "          dataTable['output_type'] = 'display_data';\n",
              "          await google.colab.output.renderOutput(dataTable, element);\n",
              "          const docLink = document.createElement('div');\n",
              "          docLink.innerHTML = docLinkHtml;\n",
              "          element.appendChild(docLink);\n",
              "        }\n",
              "      </script>\n",
              "    </div>\n",
              "  </div>\n",
              "  "
            ]
          },
          "metadata": {},
          "execution_count": 7
        }
      ]
    },
    {
      "cell_type": "code",
      "source": [
        "### Lets consider a test query for which relevant articles from the corpus should be given out\n",
        "test='die dagger'\n",
        "t1=tfidf.transform([test])"
      ],
      "metadata": {
        "id": "ZFboITN6DIui"
      },
      "execution_count": null,
      "outputs": []
    },
    {
      "cell_type": "code",
      "source": [
        "t1.todense()"
      ],
      "metadata": {
        "colab": {
          "base_uri": "https://localhost:8080/"
        },
        "id": "CEJelM1QLdZn",
        "outputId": "1b4728ed-6de4-4646-a3f9-4a23f02b0e6c"
      },
      "execution_count": null,
      "outputs": [
        {
          "output_type": "execute_result",
          "data": {
            "text/plain": [
              "matrix([[0.6340862 , 0.        , 0.77326237, 0.        , 0.        ,\n",
              "         0.        , 0.        , 0.        , 0.        , 0.        ,\n",
              "         0.        , 0.        , 0.        , 0.        , 0.        ,\n",
              "         0.        , 0.        , 0.        ]])"
            ]
          },
          "metadata": {},
          "execution_count": 9
        }
      ]
    },
    {
      "cell_type": "code",
      "source": [
        "sim1=cosine_similarity(np.asarray(t1.todense()),np.asarray(mat.todense()))\n",
        "sim1"
      ],
      "metadata": {
        "colab": {
          "base_uri": "https://localhost:8080/"
        },
        "id": "xk2vulGqLOi7",
        "outputId": "e916681a-ebb9-434a-efc3-cff09ba63a58"
      },
      "execution_count": null,
      "outputs": [
        {
          "output_type": "execute_result",
          "data": {
            "text/plain": [
              "array([[0.        , 0.33955684, 0.35446786, 0.3069844 , 0.        ,\n",
              "        0.        ]])"
            ]
          },
          "metadata": {},
          "execution_count": 10
        }
      ]
    },
    {
      "cell_type": "code",
      "source": [
        "## To understand the hidden relations we do matrix factorization (SVD)- we get 3 entities that expose relations\n",
        "## 1. Documents- Topics matrix, topics-topics strength and word-topics\n",
        "\n",
        "## Since singular values are eigen values which captures information- lower eigen values implies lesser information so we consider only top n eigen values\n",
        "## In this case we considered 2 eigen values\n",
        "tsvt=TruncatedSVD(n_components=2)"
      ],
      "metadata": {
        "id": "PnAQAnnsDTID"
      },
      "execution_count": null,
      "outputs": []
    },
    {
      "cell_type": "code",
      "source": [
        "tsvt"
      ],
      "metadata": {
        "colab": {
          "base_uri": "https://localhost:8080/"
        },
        "id": "U6hvhi9fo6WG",
        "outputId": "e62f20c4-fb8d-4749-bbe5-21e62bdccc60"
      },
      "execution_count": null,
      "outputs": [
        {
          "output_type": "execute_result",
          "data": {
            "text/plain": [
              "TruncatedSVD()"
            ]
          },
          "metadata": {},
          "execution_count": 27
        }
      ]
    },
    {
      "cell_type": "code",
      "source": [
        "### Here we perform the matrix factorization on document term matrix, to explore the relationships\n",
        "lsa=tsvt.fit_transform(mat) ## lsa will have (as mentioned earlier) topics strength, documents to topics relation and words to topics relation"
      ],
      "metadata": {
        "id": "uKWQg2aADiZj"
      },
      "execution_count": null,
      "outputs": []
    },
    {
      "cell_type": "code",
      "source": [
        "## By default the output here reveals documents to topics i.e what topics are talked about in the docs\n",
        "lsa"
      ],
      "metadata": {
        "colab": {
          "base_uri": "https://localhost:8080/"
        },
        "id": "QIXtwDZTDsLj",
        "outputId": "e287fcc4-f3b4-414c-c592-26eb2276cf71"
      },
      "execution_count": null,
      "outputs": [
        {
          "output_type": "execute_result",
          "data": {
            "text/plain": [
              "array([[ 7.91975656e-01, -7.43150395e-17],\n",
              "       [ 6.77369665e-01, -8.99237022e-16],\n",
              "       [ 6.90765217e-01,  1.85524541e-15],\n",
              "       [-1.50281571e-16,  8.04722430e-01],\n",
              "       [-2.53627383e-16,  8.04722430e-01],\n",
              "       [ 4.69548168e-01, -8.08147584e-16]])"
            ]
          },
          "metadata": {},
          "execution_count": 13
        }
      ]
    },
    {
      "cell_type": "code",
      "source": [
        "from IPython.core.display import display\n",
        "## A better representation of the  above one\n",
        "Data=pd.DataFrame(lsa,columns=['Topic1','Topic2'])\n",
        "Data['Original']=docs\n",
        "display(Data[['Original',\"Topic1\",\"Topic2\"]])"
      ],
      "metadata": {
        "id": "UZ1KTbPVDvRw",
        "colab": {
          "base_uri": "https://localhost:8080/",
          "height": 237
        },
        "outputId": "4fa7e8b7-6552-4405-df5d-8327ac71e508"
      },
      "execution_count": null,
      "outputs": [
        {
          "output_type": "display_data",
          "data": {
            "text/plain": [
              "                                   Original        Topic1        Topic2\n",
              "0                             Romeo  Juliet  7.919757e-01 -7.431504e-17\n",
              "1                    Juliet O happy dagger!  6.773697e-01 -8.992370e-16\n",
              "2                        Romeo died  dagger  6.907652e-01  1.855245e-15\n",
              "3    Live free or die  New-Hampshire motto. -1.502816e-16  8.047224e-01\n",
              "4  Did you know New-Hampshire  New-England. -2.536274e-16  8.047224e-01\n",
              "5                            Romeo in Japan  4.695482e-01 -8.081476e-16"
            ],
            "text/html": [
              "\n",
              "  <div id=\"df-cc84998d-55af-4680-a8e7-b4f5979b37c1\">\n",
              "    <div class=\"colab-df-container\">\n",
              "      <div>\n",
              "<style scoped>\n",
              "    .dataframe tbody tr th:only-of-type {\n",
              "        vertical-align: middle;\n",
              "    }\n",
              "\n",
              "    .dataframe tbody tr th {\n",
              "        vertical-align: top;\n",
              "    }\n",
              "\n",
              "    .dataframe thead th {\n",
              "        text-align: right;\n",
              "    }\n",
              "</style>\n",
              "<table border=\"1\" class=\"dataframe\">\n",
              "  <thead>\n",
              "    <tr style=\"text-align: right;\">\n",
              "      <th></th>\n",
              "      <th>Original</th>\n",
              "      <th>Topic1</th>\n",
              "      <th>Topic2</th>\n",
              "    </tr>\n",
              "  </thead>\n",
              "  <tbody>\n",
              "    <tr>\n",
              "      <th>0</th>\n",
              "      <td>Romeo  Juliet</td>\n",
              "      <td>7.919757e-01</td>\n",
              "      <td>-7.431504e-17</td>\n",
              "    </tr>\n",
              "    <tr>\n",
              "      <th>1</th>\n",
              "      <td>Juliet O happy dagger!</td>\n",
              "      <td>6.773697e-01</td>\n",
              "      <td>-8.992370e-16</td>\n",
              "    </tr>\n",
              "    <tr>\n",
              "      <th>2</th>\n",
              "      <td>Romeo died  dagger</td>\n",
              "      <td>6.907652e-01</td>\n",
              "      <td>1.855245e-15</td>\n",
              "    </tr>\n",
              "    <tr>\n",
              "      <th>3</th>\n",
              "      <td>Live free or die  New-Hampshire motto.</td>\n",
              "      <td>-1.502816e-16</td>\n",
              "      <td>8.047224e-01</td>\n",
              "    </tr>\n",
              "    <tr>\n",
              "      <th>4</th>\n",
              "      <td>Did you know New-Hampshire  New-England.</td>\n",
              "      <td>-2.536274e-16</td>\n",
              "      <td>8.047224e-01</td>\n",
              "    </tr>\n",
              "    <tr>\n",
              "      <th>5</th>\n",
              "      <td>Romeo in Japan</td>\n",
              "      <td>4.695482e-01</td>\n",
              "      <td>-8.081476e-16</td>\n",
              "    </tr>\n",
              "  </tbody>\n",
              "</table>\n",
              "</div>\n",
              "      <button class=\"colab-df-convert\" onclick=\"convertToInteractive('df-cc84998d-55af-4680-a8e7-b4f5979b37c1')\"\n",
              "              title=\"Convert this dataframe to an interactive table.\"\n",
              "              style=\"display:none;\">\n",
              "        \n",
              "  <svg xmlns=\"http://www.w3.org/2000/svg\" height=\"24px\"viewBox=\"0 0 24 24\"\n",
              "       width=\"24px\">\n",
              "    <path d=\"M0 0h24v24H0V0z\" fill=\"none\"/>\n",
              "    <path d=\"M18.56 5.44l.94 2.06.94-2.06 2.06-.94-2.06-.94-.94-2.06-.94 2.06-2.06.94zm-11 1L8.5 8.5l.94-2.06 2.06-.94-2.06-.94L8.5 2.5l-.94 2.06-2.06.94zm10 10l.94 2.06.94-2.06 2.06-.94-2.06-.94-.94-2.06-.94 2.06-2.06.94z\"/><path d=\"M17.41 7.96l-1.37-1.37c-.4-.4-.92-.59-1.43-.59-.52 0-1.04.2-1.43.59L10.3 9.45l-7.72 7.72c-.78.78-.78 2.05 0 2.83L4 21.41c.39.39.9.59 1.41.59.51 0 1.02-.2 1.41-.59l7.78-7.78 2.81-2.81c.8-.78.8-2.07 0-2.86zM5.41 20L4 18.59l7.72-7.72 1.47 1.35L5.41 20z\"/>\n",
              "  </svg>\n",
              "      </button>\n",
              "      \n",
              "  <style>\n",
              "    .colab-df-container {\n",
              "      display:flex;\n",
              "      flex-wrap:wrap;\n",
              "      gap: 12px;\n",
              "    }\n",
              "\n",
              "    .colab-df-convert {\n",
              "      background-color: #E8F0FE;\n",
              "      border: none;\n",
              "      border-radius: 50%;\n",
              "      cursor: pointer;\n",
              "      display: none;\n",
              "      fill: #1967D2;\n",
              "      height: 32px;\n",
              "      padding: 0 0 0 0;\n",
              "      width: 32px;\n",
              "    }\n",
              "\n",
              "    .colab-df-convert:hover {\n",
              "      background-color: #E2EBFA;\n",
              "      box-shadow: 0px 1px 2px rgba(60, 64, 67, 0.3), 0px 1px 3px 1px rgba(60, 64, 67, 0.15);\n",
              "      fill: #174EA6;\n",
              "    }\n",
              "\n",
              "    [theme=dark] .colab-df-convert {\n",
              "      background-color: #3B4455;\n",
              "      fill: #D2E3FC;\n",
              "    }\n",
              "\n",
              "    [theme=dark] .colab-df-convert:hover {\n",
              "      background-color: #434B5C;\n",
              "      box-shadow: 0px 1px 3px 1px rgba(0, 0, 0, 0.15);\n",
              "      filter: drop-shadow(0px 1px 2px rgba(0, 0, 0, 0.3));\n",
              "      fill: #FFFFFF;\n",
              "    }\n",
              "  </style>\n",
              "\n",
              "      <script>\n",
              "        const buttonEl =\n",
              "          document.querySelector('#df-cc84998d-55af-4680-a8e7-b4f5979b37c1 button.colab-df-convert');\n",
              "        buttonEl.style.display =\n",
              "          google.colab.kernel.accessAllowed ? 'block' : 'none';\n",
              "\n",
              "        async function convertToInteractive(key) {\n",
              "          const element = document.querySelector('#df-cc84998d-55af-4680-a8e7-b4f5979b37c1');\n",
              "          const dataTable =\n",
              "            await google.colab.kernel.invokeFunction('convertToInteractive',\n",
              "                                                     [key], {});\n",
              "          if (!dataTable) return;\n",
              "\n",
              "          const docLinkHtml = 'Like what you see? Visit the ' +\n",
              "            '<a target=\"_blank\" href=https://colab.research.google.com/notebooks/data_table.ipynb>data table notebook</a>'\n",
              "            + ' to learn more about interactive tables.';\n",
              "          element.innerHTML = '';\n",
              "          dataTable['output_type'] = 'display_data';\n",
              "          await google.colab.output.renderOutput(dataTable, element);\n",
              "          const docLink = document.createElement('div');\n",
              "          docLink.innerHTML = docLinkHtml;\n",
              "          element.appendChild(docLink);\n",
              "        }\n",
              "      </script>\n",
              "    </div>\n",
              "  </div>\n",
              "  "
            ]
          },
          "metadata": {}
        }
      ]
    },
    {
      "cell_type": "markdown",
      "source": [
        "- Observe that the documents related to Romeo etc have a high value for topic 1 and new-hampshire has highr value for topic 2"
      ],
      "metadata": {
        "id": "BwD5-kbg4L-D"
      }
    },
    {
      "cell_type": "code",
      "source": [
        "dictionary=tfidf.get_feature_names_out()\n",
        "dictionary"
      ],
      "metadata": {
        "colab": {
          "base_uri": "https://localhost:8080/"
        },
        "id": "9gTvW_6EETUY",
        "outputId": "65b32ec5-ec23-4a00-aa76-9eae15584e62"
      },
      "execution_count": null,
      "outputs": [
        {
          "output_type": "execute_result",
          "data": {
            "text/plain": [
              "array(['dagger', 'did', 'die', 'died', 'england', 'free', 'hampshire',\n",
              "       'happy', 'in', 'japan', 'juliet', 'know', 'live', 'motto', 'new',\n",
              "       'or', 'romeo', 'you'], dtype=object)"
            ]
          },
          "metadata": {},
          "execution_count": 15
        }
      ]
    },
    {
      "cell_type": "code",
      "source": [
        "## Observe that there are 18 words and now we have here topics to words relations\n",
        "print(tsvt.components_)\n",
        "print(tsvt.components_.shape)"
      ],
      "metadata": {
        "colab": {
          "base_uri": "https://localhost:8080/"
        },
        "id": "Rdw6A5iAI8TC",
        "outputId": "4c55227a-5a73-4958-e9bd-3a51eb19d625"
      },
      "execution_count": null,
      "outputs": [
        {
          "output_type": "stream",
          "name": "stdout",
          "text": [
            "[[ 4.19853910e-01 -7.45982907e-17 -6.95310927e-17  2.64009102e-01\n",
            "  -1.09771327e-16 -3.27773418e-17 -8.20095743e-17  2.47998930e-01\n",
            "   1.67184969e-01  1.67184969e-01  5.42629287e-01 -1.09530544e-16\n",
            "  -3.28576028e-17 -3.28576028e-17 -1.34648473e-16 -3.28576028e-17\n",
            "   5.84953201e-01 -1.06196271e-16]\n",
            " [ 5.30895740e-16  2.28993171e-01  2.46668290e-01  1.75476841e-15\n",
            "   2.28993171e-01  2.46668290e-01  3.90049203e-01 -1.20127943e-15\n",
            "  -9.01896346e-16 -9.01896346e-16 -7.45175663e-16  2.28993171e-01\n",
            "   2.46668290e-01  2.46668290e-01  5.77826879e-01  2.46668290e-01\n",
            "   7.67429720e-16  2.28993171e-01]]\n",
            "(2, 18)\n"
          ]
        }
      ]
    },
    {
      "cell_type": "code",
      "source": [
        "### To have a better representation of which word is more into which topic\n",
        "encoding_matrix=pd.DataFrame(tsvt.components_,index=['Topic1','Topic2'],columns=dictionary).T\n",
        "encoding_matrix"
      ],
      "metadata": {
        "colab": {
          "base_uri": "https://localhost:8080/",
          "height": 613
        },
        "id": "AzVmnYMnEvz9",
        "outputId": "6e7b757b-2c39-410c-d45a-81b0dd693f1a"
      },
      "execution_count": null,
      "outputs": [
        {
          "output_type": "execute_result",
          "data": {
            "text/plain": [
              "                 Topic1        Topic2\n",
              "dagger     4.198539e-01  5.308957e-16\n",
              "did       -7.459829e-17  2.289932e-01\n",
              "die       -6.953109e-17  2.466683e-01\n",
              "died       2.640091e-01  1.754768e-15\n",
              "england   -1.097713e-16  2.289932e-01\n",
              "free      -3.277734e-17  2.466683e-01\n",
              "hampshire -8.200957e-17  3.900492e-01\n",
              "happy      2.479989e-01 -1.201279e-15\n",
              "in         1.671850e-01 -9.018963e-16\n",
              "japan      1.671850e-01 -9.018963e-16\n",
              "juliet     5.426293e-01 -7.451757e-16\n",
              "know      -1.095305e-16  2.289932e-01\n",
              "live      -3.285760e-17  2.466683e-01\n",
              "motto     -3.285760e-17  2.466683e-01\n",
              "new       -1.346485e-16  5.778269e-01\n",
              "or        -3.285760e-17  2.466683e-01\n",
              "romeo      5.849532e-01  7.674297e-16\n",
              "you       -1.061963e-16  2.289932e-01"
            ],
            "text/html": [
              "\n",
              "  <div id=\"df-5cfd6794-6fb4-432a-b7a2-8d4ff5c163c1\">\n",
              "    <div class=\"colab-df-container\">\n",
              "      <div>\n",
              "<style scoped>\n",
              "    .dataframe tbody tr th:only-of-type {\n",
              "        vertical-align: middle;\n",
              "    }\n",
              "\n",
              "    .dataframe tbody tr th {\n",
              "        vertical-align: top;\n",
              "    }\n",
              "\n",
              "    .dataframe thead th {\n",
              "        text-align: right;\n",
              "    }\n",
              "</style>\n",
              "<table border=\"1\" class=\"dataframe\">\n",
              "  <thead>\n",
              "    <tr style=\"text-align: right;\">\n",
              "      <th></th>\n",
              "      <th>Topic1</th>\n",
              "      <th>Topic2</th>\n",
              "    </tr>\n",
              "  </thead>\n",
              "  <tbody>\n",
              "    <tr>\n",
              "      <th>dagger</th>\n",
              "      <td>4.198539e-01</td>\n",
              "      <td>5.308957e-16</td>\n",
              "    </tr>\n",
              "    <tr>\n",
              "      <th>did</th>\n",
              "      <td>-7.459829e-17</td>\n",
              "      <td>2.289932e-01</td>\n",
              "    </tr>\n",
              "    <tr>\n",
              "      <th>die</th>\n",
              "      <td>-6.953109e-17</td>\n",
              "      <td>2.466683e-01</td>\n",
              "    </tr>\n",
              "    <tr>\n",
              "      <th>died</th>\n",
              "      <td>2.640091e-01</td>\n",
              "      <td>1.754768e-15</td>\n",
              "    </tr>\n",
              "    <tr>\n",
              "      <th>england</th>\n",
              "      <td>-1.097713e-16</td>\n",
              "      <td>2.289932e-01</td>\n",
              "    </tr>\n",
              "    <tr>\n",
              "      <th>free</th>\n",
              "      <td>-3.277734e-17</td>\n",
              "      <td>2.466683e-01</td>\n",
              "    </tr>\n",
              "    <tr>\n",
              "      <th>hampshire</th>\n",
              "      <td>-8.200957e-17</td>\n",
              "      <td>3.900492e-01</td>\n",
              "    </tr>\n",
              "    <tr>\n",
              "      <th>happy</th>\n",
              "      <td>2.479989e-01</td>\n",
              "      <td>-1.201279e-15</td>\n",
              "    </tr>\n",
              "    <tr>\n",
              "      <th>in</th>\n",
              "      <td>1.671850e-01</td>\n",
              "      <td>-9.018963e-16</td>\n",
              "    </tr>\n",
              "    <tr>\n",
              "      <th>japan</th>\n",
              "      <td>1.671850e-01</td>\n",
              "      <td>-9.018963e-16</td>\n",
              "    </tr>\n",
              "    <tr>\n",
              "      <th>juliet</th>\n",
              "      <td>5.426293e-01</td>\n",
              "      <td>-7.451757e-16</td>\n",
              "    </tr>\n",
              "    <tr>\n",
              "      <th>know</th>\n",
              "      <td>-1.095305e-16</td>\n",
              "      <td>2.289932e-01</td>\n",
              "    </tr>\n",
              "    <tr>\n",
              "      <th>live</th>\n",
              "      <td>-3.285760e-17</td>\n",
              "      <td>2.466683e-01</td>\n",
              "    </tr>\n",
              "    <tr>\n",
              "      <th>motto</th>\n",
              "      <td>-3.285760e-17</td>\n",
              "      <td>2.466683e-01</td>\n",
              "    </tr>\n",
              "    <tr>\n",
              "      <th>new</th>\n",
              "      <td>-1.346485e-16</td>\n",
              "      <td>5.778269e-01</td>\n",
              "    </tr>\n",
              "    <tr>\n",
              "      <th>or</th>\n",
              "      <td>-3.285760e-17</td>\n",
              "      <td>2.466683e-01</td>\n",
              "    </tr>\n",
              "    <tr>\n",
              "      <th>romeo</th>\n",
              "      <td>5.849532e-01</td>\n",
              "      <td>7.674297e-16</td>\n",
              "    </tr>\n",
              "    <tr>\n",
              "      <th>you</th>\n",
              "      <td>-1.061963e-16</td>\n",
              "      <td>2.289932e-01</td>\n",
              "    </tr>\n",
              "  </tbody>\n",
              "</table>\n",
              "</div>\n",
              "      <button class=\"colab-df-convert\" onclick=\"convertToInteractive('df-5cfd6794-6fb4-432a-b7a2-8d4ff5c163c1')\"\n",
              "              title=\"Convert this dataframe to an interactive table.\"\n",
              "              style=\"display:none;\">\n",
              "        \n",
              "  <svg xmlns=\"http://www.w3.org/2000/svg\" height=\"24px\"viewBox=\"0 0 24 24\"\n",
              "       width=\"24px\">\n",
              "    <path d=\"M0 0h24v24H0V0z\" fill=\"none\"/>\n",
              "    <path d=\"M18.56 5.44l.94 2.06.94-2.06 2.06-.94-2.06-.94-.94-2.06-.94 2.06-2.06.94zm-11 1L8.5 8.5l.94-2.06 2.06-.94-2.06-.94L8.5 2.5l-.94 2.06-2.06.94zm10 10l.94 2.06.94-2.06 2.06-.94-2.06-.94-.94-2.06-.94 2.06-2.06.94z\"/><path d=\"M17.41 7.96l-1.37-1.37c-.4-.4-.92-.59-1.43-.59-.52 0-1.04.2-1.43.59L10.3 9.45l-7.72 7.72c-.78.78-.78 2.05 0 2.83L4 21.41c.39.39.9.59 1.41.59.51 0 1.02-.2 1.41-.59l7.78-7.78 2.81-2.81c.8-.78.8-2.07 0-2.86zM5.41 20L4 18.59l7.72-7.72 1.47 1.35L5.41 20z\"/>\n",
              "  </svg>\n",
              "      </button>\n",
              "      \n",
              "  <style>\n",
              "    .colab-df-container {\n",
              "      display:flex;\n",
              "      flex-wrap:wrap;\n",
              "      gap: 12px;\n",
              "    }\n",
              "\n",
              "    .colab-df-convert {\n",
              "      background-color: #E8F0FE;\n",
              "      border: none;\n",
              "      border-radius: 50%;\n",
              "      cursor: pointer;\n",
              "      display: none;\n",
              "      fill: #1967D2;\n",
              "      height: 32px;\n",
              "      padding: 0 0 0 0;\n",
              "      width: 32px;\n",
              "    }\n",
              "\n",
              "    .colab-df-convert:hover {\n",
              "      background-color: #E2EBFA;\n",
              "      box-shadow: 0px 1px 2px rgba(60, 64, 67, 0.3), 0px 1px 3px 1px rgba(60, 64, 67, 0.15);\n",
              "      fill: #174EA6;\n",
              "    }\n",
              "\n",
              "    [theme=dark] .colab-df-convert {\n",
              "      background-color: #3B4455;\n",
              "      fill: #D2E3FC;\n",
              "    }\n",
              "\n",
              "    [theme=dark] .colab-df-convert:hover {\n",
              "      background-color: #434B5C;\n",
              "      box-shadow: 0px 1px 3px 1px rgba(0, 0, 0, 0.15);\n",
              "      filter: drop-shadow(0px 1px 2px rgba(0, 0, 0, 0.3));\n",
              "      fill: #FFFFFF;\n",
              "    }\n",
              "  </style>\n",
              "\n",
              "      <script>\n",
              "        const buttonEl =\n",
              "          document.querySelector('#df-5cfd6794-6fb4-432a-b7a2-8d4ff5c163c1 button.colab-df-convert');\n",
              "        buttonEl.style.display =\n",
              "          google.colab.kernel.accessAllowed ? 'block' : 'none';\n",
              "\n",
              "        async function convertToInteractive(key) {\n",
              "          const element = document.querySelector('#df-5cfd6794-6fb4-432a-b7a2-8d4ff5c163c1');\n",
              "          const dataTable =\n",
              "            await google.colab.kernel.invokeFunction('convertToInteractive',\n",
              "                                                     [key], {});\n",
              "          if (!dataTable) return;\n",
              "\n",
              "          const docLinkHtml = 'Like what you see? Visit the ' +\n",
              "            '<a target=\"_blank\" href=https://colab.research.google.com/notebooks/data_table.ipynb>data table notebook</a>'\n",
              "            + ' to learn more about interactive tables.';\n",
              "          element.innerHTML = '';\n",
              "          dataTable['output_type'] = 'display_data';\n",
              "          await google.colab.output.renderOutput(dataTable, element);\n",
              "          const docLink = document.createElement('div');\n",
              "          docLink.innerHTML = docLinkHtml;\n",
              "          element.appendChild(docLink);\n",
              "        }\n",
              "      </script>\n",
              "    </div>\n",
              "  </div>\n",
              "  "
            ]
          },
          "metadata": {},
          "execution_count": 17
        }
      ]
    },
    {
      "cell_type": "markdown",
      "source": [
        "- Observe that dagger, happy, die, romeo etc all are having topic 1 strength and motto, live etc have strong topic 2"
      ],
      "metadata": {
        "id": "wqfgRLWl4-48"
      }
    },
    {
      "cell_type": "code",
      "source": [
        "## We have a search query \"die dagger\", we have converted into a document term matrix.\n",
        "t1.todense()"
      ],
      "metadata": {
        "colab": {
          "base_uri": "https://localhost:8080/"
        },
        "id": "4876uZe3GOTF",
        "outputId": "698f8c13-e224-4564-e274-5b5a9f7dbc48"
      },
      "execution_count": null,
      "outputs": [
        {
          "output_type": "execute_result",
          "data": {
            "text/plain": [
              "matrix([[0.6340862 , 0.        , 0.77326237, 0.        , 0.        ,\n",
              "         0.        , 0.        , 0.        , 0.        , 0.        ,\n",
              "         0.        , 0.        , 0.        , 0.        , 0.        ,\n",
              "         0.        , 0.        , 0.        ]])"
            ]
          },
          "metadata": {},
          "execution_count": 18
        }
      ]
    },
    {
      "cell_type": "code",
      "source": [
        "t1.todense().shape"
      ],
      "metadata": {
        "colab": {
          "base_uri": "https://localhost:8080/"
        },
        "id": "4Um76RQ5Gcw9",
        "outputId": "2c136185-681d-4986-c58b-655ba0824bc7"
      },
      "execution_count": null,
      "outputs": [
        {
          "output_type": "execute_result",
          "data": {
            "text/plain": [
              "(1, 18)"
            ]
          },
          "metadata": {},
          "execution_count": 19
        }
      ]
    },
    {
      "cell_type": "code",
      "source": [
        "## But to retrieve the relevant documents (as per the topics they constitute), the test query should also be transformed into lsa space\n",
        "## Remember, the documents in lsa space have shape of 5 X 2 - each document, topic strength relation (from cell number 13)\n",
        "query_vec= tsvt.transform(t1)\n",
        "query_vec"
      ],
      "metadata": {
        "colab": {
          "base_uri": "https://localhost:8080/"
        },
        "id": "wrBP6kPQFSf9",
        "outputId": "75018cc1-f03d-4c28-b691-8d980447b1ad"
      },
      "execution_count": null,
      "outputs": [
        {
          "output_type": "execute_result",
          "data": {
            "text/plain": [
              "array([[0.26622357, 0.19073931]])"
            ]
          },
          "metadata": {},
          "execution_count": 20
        }
      ]
    },
    {
      "cell_type": "code",
      "source": [
        "\n",
        "##A calculation to show how the document topics matrix is created\n",
        "## The document term matrix is multiplied with\n",
        "doc_trans= np.dot(mat.todense(),tsvt.components_.T)\n",
        "doc_trans"
      ],
      "metadata": {
        "id": "xa3rcQmwImJi",
        "colab": {
          "base_uri": "https://localhost:8080/"
        },
        "outputId": "71e4a2f8-adc1-476a-c494-56a416734896"
      },
      "execution_count": null,
      "outputs": [
        {
          "output_type": "execute_result",
          "data": {
            "text/plain": [
              "matrix([[ 7.91975656e-01, -7.43150395e-17],\n",
              "        [ 6.77369665e-01, -8.99237022e-16],\n",
              "        [ 6.90765217e-01,  1.85524541e-15],\n",
              "        [-1.50281571e-16,  8.04722430e-01],\n",
              "        [-2.53627383e-16,  8.04722430e-01],\n",
              "        [ 4.69548168e-01, -8.08147584e-16]])"
            ]
          },
          "metadata": {},
          "execution_count": 21
        }
      ]
    },
    {
      "cell_type": "code",
      "source": [
        "## Now get the cosine similarity of query to all the documents in the document-topic space\n",
        "from sklearn.metrics.pairwise import cosine_similarity"
      ],
      "metadata": {
        "id": "yLfPO0GSHwBw"
      },
      "execution_count": null,
      "outputs": []
    },
    {
      "cell_type": "code",
      "source": [
        "sim=cosine_similarity(np.asarray(query_vec),np.asarray(doc_trans))"
      ],
      "metadata": {
        "id": "W8KcERahH7bh"
      },
      "execution_count": null,
      "outputs": []
    },
    {
      "cell_type": "code",
      "source": [
        "## To make the array one dimensional\n",
        "sim=sim.reshape(-1)\n",
        "sim"
      ],
      "metadata": {
        "colab": {
          "base_uri": "https://localhost:8080/"
        },
        "id": "0H8ZE_hR9qgI",
        "outputId": "bf0178ec-c440-47bb-d841-6a9667169a76"
      },
      "execution_count": null,
      "outputs": [
        {
          "output_type": "execute_result",
          "data": {
            "text/plain": [
              "array([0.81289556, 0.81289556, 0.81289556, 0.58240949, 0.58240949,\n",
              "       0.81289556])"
            ]
          },
          "metadata": {},
          "execution_count": 24
        }
      ]
    },
    {
      "cell_type": "code",
      "source": [
        "pd.concat([Data['Original'],pd.Series(sim)],axis=1)"
      ],
      "metadata": {
        "id": "DQkRb5OqJVoE",
        "colab": {
          "base_uri": "https://localhost:8080/",
          "height": 237
        },
        "outputId": "10c39bcc-c2a4-4789-9444-fde1d02bf74b"
      },
      "execution_count": null,
      "outputs": [
        {
          "output_type": "execute_result",
          "data": {
            "text/plain": [
              "                                   Original         0\n",
              "0                             Romeo  Juliet  0.812896\n",
              "1                    Juliet O happy dagger!  0.812896\n",
              "2                        Romeo died  dagger  0.812896\n",
              "3    Live free or die  New-Hampshire motto.  0.582409\n",
              "4  Did you know New-Hampshire  New-England.  0.582409\n",
              "5                            Romeo in Japan  0.812896"
            ],
            "text/html": [
              "\n",
              "  <div id=\"df-aeafbe1d-a18c-4713-b23b-eb4829eff91c\">\n",
              "    <div class=\"colab-df-container\">\n",
              "      <div>\n",
              "<style scoped>\n",
              "    .dataframe tbody tr th:only-of-type {\n",
              "        vertical-align: middle;\n",
              "    }\n",
              "\n",
              "    .dataframe tbody tr th {\n",
              "        vertical-align: top;\n",
              "    }\n",
              "\n",
              "    .dataframe thead th {\n",
              "        text-align: right;\n",
              "    }\n",
              "</style>\n",
              "<table border=\"1\" class=\"dataframe\">\n",
              "  <thead>\n",
              "    <tr style=\"text-align: right;\">\n",
              "      <th></th>\n",
              "      <th>Original</th>\n",
              "      <th>0</th>\n",
              "    </tr>\n",
              "  </thead>\n",
              "  <tbody>\n",
              "    <tr>\n",
              "      <th>0</th>\n",
              "      <td>Romeo  Juliet</td>\n",
              "      <td>0.812896</td>\n",
              "    </tr>\n",
              "    <tr>\n",
              "      <th>1</th>\n",
              "      <td>Juliet O happy dagger!</td>\n",
              "      <td>0.812896</td>\n",
              "    </tr>\n",
              "    <tr>\n",
              "      <th>2</th>\n",
              "      <td>Romeo died  dagger</td>\n",
              "      <td>0.812896</td>\n",
              "    </tr>\n",
              "    <tr>\n",
              "      <th>3</th>\n",
              "      <td>Live free or die  New-Hampshire motto.</td>\n",
              "      <td>0.582409</td>\n",
              "    </tr>\n",
              "    <tr>\n",
              "      <th>4</th>\n",
              "      <td>Did you know New-Hampshire  New-England.</td>\n",
              "      <td>0.582409</td>\n",
              "    </tr>\n",
              "    <tr>\n",
              "      <th>5</th>\n",
              "      <td>Romeo in Japan</td>\n",
              "      <td>0.812896</td>\n",
              "    </tr>\n",
              "  </tbody>\n",
              "</table>\n",
              "</div>\n",
              "      <button class=\"colab-df-convert\" onclick=\"convertToInteractive('df-aeafbe1d-a18c-4713-b23b-eb4829eff91c')\"\n",
              "              title=\"Convert this dataframe to an interactive table.\"\n",
              "              style=\"display:none;\">\n",
              "        \n",
              "  <svg xmlns=\"http://www.w3.org/2000/svg\" height=\"24px\"viewBox=\"0 0 24 24\"\n",
              "       width=\"24px\">\n",
              "    <path d=\"M0 0h24v24H0V0z\" fill=\"none\"/>\n",
              "    <path d=\"M18.56 5.44l.94 2.06.94-2.06 2.06-.94-2.06-.94-.94-2.06-.94 2.06-2.06.94zm-11 1L8.5 8.5l.94-2.06 2.06-.94-2.06-.94L8.5 2.5l-.94 2.06-2.06.94zm10 10l.94 2.06.94-2.06 2.06-.94-2.06-.94-.94-2.06-.94 2.06-2.06.94z\"/><path d=\"M17.41 7.96l-1.37-1.37c-.4-.4-.92-.59-1.43-.59-.52 0-1.04.2-1.43.59L10.3 9.45l-7.72 7.72c-.78.78-.78 2.05 0 2.83L4 21.41c.39.39.9.59 1.41.59.51 0 1.02-.2 1.41-.59l7.78-7.78 2.81-2.81c.8-.78.8-2.07 0-2.86zM5.41 20L4 18.59l7.72-7.72 1.47 1.35L5.41 20z\"/>\n",
              "  </svg>\n",
              "      </button>\n",
              "      \n",
              "  <style>\n",
              "    .colab-df-container {\n",
              "      display:flex;\n",
              "      flex-wrap:wrap;\n",
              "      gap: 12px;\n",
              "    }\n",
              "\n",
              "    .colab-df-convert {\n",
              "      background-color: #E8F0FE;\n",
              "      border: none;\n",
              "      border-radius: 50%;\n",
              "      cursor: pointer;\n",
              "      display: none;\n",
              "      fill: #1967D2;\n",
              "      height: 32px;\n",
              "      padding: 0 0 0 0;\n",
              "      width: 32px;\n",
              "    }\n",
              "\n",
              "    .colab-df-convert:hover {\n",
              "      background-color: #E2EBFA;\n",
              "      box-shadow: 0px 1px 2px rgba(60, 64, 67, 0.3), 0px 1px 3px 1px rgba(60, 64, 67, 0.15);\n",
              "      fill: #174EA6;\n",
              "    }\n",
              "\n",
              "    [theme=dark] .colab-df-convert {\n",
              "      background-color: #3B4455;\n",
              "      fill: #D2E3FC;\n",
              "    }\n",
              "\n",
              "    [theme=dark] .colab-df-convert:hover {\n",
              "      background-color: #434B5C;\n",
              "      box-shadow: 0px 1px 3px 1px rgba(0, 0, 0, 0.15);\n",
              "      filter: drop-shadow(0px 1px 2px rgba(0, 0, 0, 0.3));\n",
              "      fill: #FFFFFF;\n",
              "    }\n",
              "  </style>\n",
              "\n",
              "      <script>\n",
              "        const buttonEl =\n",
              "          document.querySelector('#df-aeafbe1d-a18c-4713-b23b-eb4829eff91c button.colab-df-convert');\n",
              "        buttonEl.style.display =\n",
              "          google.colab.kernel.accessAllowed ? 'block' : 'none';\n",
              "\n",
              "        async function convertToInteractive(key) {\n",
              "          const element = document.querySelector('#df-aeafbe1d-a18c-4713-b23b-eb4829eff91c');\n",
              "          const dataTable =\n",
              "            await google.colab.kernel.invokeFunction('convertToInteractive',\n",
              "                                                     [key], {});\n",
              "          if (!dataTable) return;\n",
              "\n",
              "          const docLinkHtml = 'Like what you see? Visit the ' +\n",
              "            '<a target=\"_blank\" href=https://colab.research.google.com/notebooks/data_table.ipynb>data table notebook</a>'\n",
              "            + ' to learn more about interactive tables.';\n",
              "          element.innerHTML = '';\n",
              "          dataTable['output_type'] = 'display_data';\n",
              "          await google.colab.output.renderOutput(dataTable, element);\n",
              "          const docLink = document.createElement('div');\n",
              "          docLink.innerHTML = docLinkHtml;\n",
              "          element.appendChild(docLink);\n",
              "        }\n",
              "      </script>\n",
              "    </div>\n",
              "  </div>\n",
              "  "
            ]
          },
          "metadata": {},
          "execution_count": 25
        }
      ]
    },
    {
      "cell_type": "markdown",
      "source": [
        "- Observe that when 'die dagger' is given as a query, the document \"Romeo and juliet\" is also found to be similar as die and romeo are connected someother document"
      ],
      "metadata": {
        "id": "6xdFAfYT8NpR"
      }
    },
    {
      "cell_type": "code",
      "source": [
        "# Singular-value decomposition\n",
        "from numpy import array\n",
        "from scipy.linalg import svd\n",
        "# define a matrix\n",
        "A = array([[1,2], [3,4], [5,6]])\n",
        "print(A)\n",
        "# SVD\n",
        "U, s, VT = svd(A)\n",
        "print(U)\n",
        "print(s)\n",
        "print(VT)\n",
        "print(\"<---------------------------->\")\n",
        "# print(np.dot(VT,np.dot(U,s)))"
      ],
      "metadata": {
        "id": "W55TVTDJ0sWr",
        "outputId": "59413f54-ea1f-4d11-a609-f0455f283817",
        "colab": {
          "base_uri": "https://localhost:8080/"
        }
      },
      "execution_count": null,
      "outputs": [
        {
          "output_type": "stream",
          "name": "stdout",
          "text": [
            "[[1 2]\n",
            " [3 4]\n",
            " [5 6]]\n",
            "[[-0.2298477   0.88346102  0.40824829]\n",
            " [-0.52474482  0.24078249 -0.81649658]\n",
            " [-0.81964194 -0.40189603  0.40824829]]\n",
            "[9.52551809 0.51430058]\n",
            "[[-0.61962948 -0.78489445]\n",
            " [-0.78489445  0.61962948]]\n",
            "<---------------------------->\n"
          ]
        }
      ]
    },
    {
      "cell_type": "code",
      "source": [],
      "metadata": {
        "id": "1wpGhrCkmUWs"
      },
      "execution_count": null,
      "outputs": []
    }
  ]
}