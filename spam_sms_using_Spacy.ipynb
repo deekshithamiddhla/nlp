{
  "nbformat": 4,
  "nbformat_minor": 0,
  "metadata": {
    "kernelspec": {
      "display_name": "Python 3",
      "language": "python",
      "name": "python3"
    },
    "language_info": {
      "codemirror_mode": {
        "name": "ipython",
        "version": 3
      },
      "file_extension": ".py",
      "mimetype": "text/x-python",
      "name": "python",
      "nbconvert_exporter": "python",
      "pygments_lexer": "ipython3",
      "version": "3.7.6"
    },
    "colab": {
      "provenance": [],
      "collapsed_sections": [
        "N7FL39Rs1tTR",
        "efGJDXZ61tTh"
      ]
    }
  },
  "cells": [
    {
      "cell_type": "markdown",
      "metadata": {
        "id": "dAZvnGs_0YIn"
      },
      "source": [
        "### Connecting Google Colab with your Google Drive"
      ]
    },
    {
      "cell_type": "code",
      "metadata": {
        "colab": {
          "base_uri": "https://localhost:8080/"
        },
        "id": "E4qX0VFDtPew",
        "outputId": "fcd6190d-8793-46bd-ef6a-ae79c15e70a7"
      },
      "source": [
        "from google.colab import drive\n",
        "drive.mount(\"/content/drive\")"
      ],
      "execution_count": null,
      "outputs": [
        {
          "output_type": "stream",
          "name": "stdout",
          "text": [
            "Mounted at /content/drive\n"
          ]
        }
      ]
    },
    {
      "cell_type": "code",
      "metadata": {
        "id": "qdHcPZ3lth0F"
      },
      "source": [
        "import os\n",
        "os.chdir(\"/content/drive/My Drive/NLP_Lec_Lab_material/Lab/Day01/TextClassification_Spacy\")"
      ],
      "execution_count": null,
      "outputs": []
    },
    {
      "cell_type": "markdown",
      "metadata": {
        "id": "-WSdysXE1tS3"
      },
      "source": [
        "## Text Classification"
      ]
    },
    {
      "cell_type": "markdown",
      "metadata": {
        "id": "abkwJEsI1tTB"
      },
      "source": [
        "* Text Classification is an automated process of classification of text into pre-defined categories. We can classify emails into spam or non-spam, news articles into different categories like Politics, Technology, Sports, etc."
      ]
    },
    {
      "cell_type": "code",
      "metadata": {
        "colab": {
          "base_uri": "https://localhost:8080/",
          "height": 367
        },
        "id": "Td3AkYd_1tTC",
        "outputId": "b57e323c-9c64-4fd1-b014-e1338749a670"
      },
      "source": [
        "from IPython.display import Image\n",
        "Image(\"./img/text_img.png\")"
      ],
      "execution_count": null,
      "outputs": [
        {
          "output_type": "execute_result",
          "data": {
            "image/png": "[encoded data removed]",
            "text/plain": [
              "<IPython.core.display.Image object>"
            ]
          },
          "metadata": {},
          "execution_count": 4
        }
      ]
    },
    {
      "cell_type": "markdown",
      "metadata": {
        "id": "a1hnCGQ21tTG"
      },
      "source": [
        "#### Loading required libraries"
      ]
    },
    {
      "cell_type": "code",
      "metadata": {
        "id": "pntdQ1hL1tTG",
        "colab": {
          "base_uri": "https://localhost:8080/"
        },
        "outputId": "99c180cd-6e3e-47ee-fbd0-8bd29b75bd26"
      },
      "source": [
        "import pandas as pd\n",
        "import numpy as np\n",
        "\n",
        "import spacy\n",
        "nlp = spacy.load('en_core_web_sm')\n",
        "\n",
        "from spacy.lang.en.stop_words import STOP_WORDS\n",
        "\n",
        "from sklearn.feature_extraction.text import TfidfVectorizer\n",
        "from sklearn import naive_bayes, svm\n",
        "from sklearn.metrics import accuracy_score, recall_score, precision_score\n",
        "from sklearn.model_selection import train_test_split\n",
        "\n",
        "import warnings\n",
        "warnings.filterwarnings(\"ignore\")"
      ],
      "execution_count": null,
      "outputs": [
        {
          "output_type": "stream",
          "name": "stderr",
          "text": [
            "/usr/local/lib/python3.8/dist-packages/torch/cuda/__init__.py:497: UserWarning: Can't initialize NVML\n",
            "  warnings.warn(\"Can't initialize NVML\")\n"
          ]
        }
      ]
    },
    {
      "cell_type": "markdown",
      "metadata": {
        "id": "F60H7SJr1tTH"
      },
      "source": [
        "#### SMS Spam Collection Dataset\n",
        "\n",
        "__Context:__\n",
        "\n",
        "The SMS Spam Collection is a set of SMS tagged messages that have been collected for SMS Spam research. It contains one set of SMS messages in English of 5,572 messages, tagged as \"ham\" (legitimate) or \"spam\".\n",
        "\n",
        "__Content:__\n",
        "\n",
        "The file 'SMSSpamCollection.csv' contains one message per line. Each line is composed of two columns: column1 contains the label (ham or spam) and column2 contains the raw text."
      ]
    },
    {
      "cell_type": "code",
      "source": [],
      "metadata": {
        "id": "VULh2ibSpoa4"
      },
      "execution_count": null,
      "outputs": []
    },
    {
      "cell_type": "markdown",
      "source": [
        "Junk messages are labeled spam, while legitimate messages are labeled ham.\n",
        "\n",
        "People classify SMS Spam as annoying (32.3%), wasting time(24.8%), and violating personal privacy (21.3%)"
      ],
      "metadata": {
        "id": "2U2ZnXZFrSwB"
      }
    },
    {
      "cell_type": "code",
      "metadata": {
        "id": "atZFxFbr1tTK"
      },
      "source": [
        "pd.set_option('display.max_colwidth', 200)"
      ],
      "execution_count": null,
      "outputs": []
    },
    {
      "cell_type": "markdown",
      "metadata": {
        "id": "-4fyyWbi1tTI"
      },
      "source": [
        "#### Reading the dataset"
      ]
    },
    {
      "cell_type": "code",
      "metadata": {
        "id": "yZIT-60G1tTI",
        "colab": {
          "base_uri": "https://localhost:8080/",
          "height": 423
        },
        "outputId": "e9d352f7-5d59-4b99-ca5d-81ae015566d9"
      },
      "source": [
        "corpus = pd.read_csv(\"SMSSpamCollection.csv\", delimiter=\"\\t\", encoding='utf-8', header=None)\n",
        "corpus"
      ],
      "execution_count": null,
      "outputs": [
        {
          "output_type": "execute_result",
          "data": {
            "text/plain": [
              "         0  \\\n",
              "0      ham   \n",
              "1      ham   \n",
              "2     spam   \n",
              "3      ham   \n",
              "4      ham   \n",
              "...    ...   \n",
              "5567  spam   \n",
              "5568   ham   \n",
              "5569   ham   \n",
              "5570   ham   \n",
              "5571   ham   \n",
              "\n",
              "                                                                                                                                                                     1  \n",
              "0                                                      Go until jurong point, crazy.. Available only in bugis n great world la e buffet... Cine there got amore wat...  \n",
              "1                                                                                                                                        Ok lar... Joking wif u oni...  \n",
              "2          Free entry in 2 a wkly comp to win FA Cup final tkts 21st May 2005. Text FA to 87121 to receive entry question(std txt rate)T&C's apply 08452810075over18's  \n",
              "3                                                                                                                    U dun say so early hor... U c already then say...  \n",
              "4                                                                                                        Nah I don't think he goes to usf, he lives around here though  \n",
              "...                                                                                                                                                                ...  \n",
              "5567  This is the 2nd time we have tried 2 contact u. U have won the £750 Pound prize. 2 claim is easy, call 087187272008 NOW1! Only 10p per minute. BT-national-rate.  \n",
              "5568                                                                                                                              Will ü b going to esplanade fr home?  \n",
              "5569                                                                                                         Pity, * was in mood for that. So...any other suggestions?  \n",
              "5570                                     The guy did some bitching but I acted like i'd be interested in buying something else next week and he gave it to us for free  \n",
              "5571                                                                                                                                        Rofl. Its true to its name  \n",
              "\n",
              "[5572 rows x 2 columns]"
            ],
            "text/html": [
              "\n",
              "  <div id=\"df-c1c4c220-b09c-461b-b4a9-563772c41beb\">\n",
              "    <div class=\"colab-df-container\">\n",
              "      <div>\n",
              "<style scoped>\n",
              "    .dataframe tbody tr th:only-of-type {\n",
              "        vertical-align: middle;\n",
              "    }\n",
              "\n",
              "    .dataframe tbody tr th {\n",
              "        vertical-align: top;\n",
              "    }\n",
              "\n",
              "    .dataframe thead th {\n",
              "        text-align: right;\n",
              "    }\n",
              "</style>\n",
              "<table border=\"1\" class=\"dataframe\">\n",
              "  <thead>\n",
              "    <tr style=\"text-align: right;\">\n",
              "      <th></th>\n",
              "      <th>0</th>\n",
              "      <th>1</th>\n",
              "    </tr>\n",
              "  </thead>\n",
              "  <tbody>\n",
              "    <tr>\n",
              "      <th>0</th>\n",
              "      <td>ham</td>\n",
              "      <td>Go until jurong point, crazy.. Available only in bugis n great world la e buffet... Cine there got amore wat...</td>\n",
              "    </tr>\n",
              "    <tr>\n",
              "      <th>1</th>\n",
              "      <td>ham</td>\n",
              "      <td>Ok lar... Joking wif u oni...</td>\n",
              "    </tr>\n",
              "    <tr>\n",
              "      <th>2</th>\n",
              "      <td>spam</td>\n",
              "      <td>Free entry in 2 a wkly comp to win FA Cup final tkts 21st May 2005. Text FA to 87121 to receive entry question(std txt rate)T&amp;C's apply 08452810075over18's</td>\n",
              "    </tr>\n",
              "    <tr>\n",
              "      <th>3</th>\n",
              "      <td>ham</td>\n",
              "      <td>U dun say so early hor... U c already then say...</td>\n",
              "    </tr>\n",
              "    <tr>\n",
              "      <th>4</th>\n",
              "      <td>ham</td>\n",
              "      <td>Nah I don't think he goes to usf, he lives around here though</td>\n",
              "    </tr>\n",
              "    <tr>\n",
              "      <th>...</th>\n",
              "      <td>...</td>\n",
              "      <td>...</td>\n",
              "    </tr>\n",
              "    <tr>\n",
              "      <th>5567</th>\n",
              "      <td>spam</td>\n",
              "      <td>This is the 2nd time we have tried 2 contact u. U have won the £750 Pound prize. 2 claim is easy, call 087187272008 NOW1! Only 10p per minute. BT-national-rate.</td>\n",
              "    </tr>\n",
              "    <tr>\n",
              "      <th>5568</th>\n",
              "      <td>ham</td>\n",
              "      <td>Will ü b going to esplanade fr home?</td>\n",
              "    </tr>\n",
              "    <tr>\n",
              "      <th>5569</th>\n",
              "      <td>ham</td>\n",
              "      <td>Pity, * was in mood for that. So...any other suggestions?</td>\n",
              "    </tr>\n",
              "    <tr>\n",
              "      <th>5570</th>\n",
              "      <td>ham</td>\n",
              "      <td>The guy did some bitching but I acted like i'd be interested in buying something else next week and he gave it to us for free</td>\n",
              "    </tr>\n",
              "    <tr>\n",
              "      <th>5571</th>\n",
              "      <td>ham</td>\n",
              "      <td>Rofl. Its true to its name</td>\n",
              "    </tr>\n",
              "  </tbody>\n",
              "</table>\n",
              "<p>5572 rows × 2 columns</p>\n",
              "</div>\n",
              "      <button class=\"colab-df-convert\" onclick=\"convertToInteractive('df-c1c4c220-b09c-461b-b4a9-563772c41beb')\"\n",
              "              title=\"Convert this dataframe to an interactive table.\"\n",
              "              style=\"display:none;\">\n",
              "        \n",
              "  <svg xmlns=\"http://www.w3.org/2000/svg\" height=\"24px\"viewBox=\"0 0 24 24\"\n",
              "       width=\"24px\">\n",
              "    <path d=\"M0 0h24v24H0V0z\" fill=\"none\"/>\n",
              "    <path d=\"M18.56 5.44l.94 2.06.94-2.06 2.06-.94-2.06-.94-.94-2.06-.94 2.06-2.06.94zm-11 1L8.5 8.5l.94-2.06 2.06-.94-2.06-.94L8.5 2.5l-.94 2.06-2.06.94zm10 10l.94 2.06.94-2.06 2.06-.94-2.06-.94-.94-2.06-.94 2.06-2.06.94z\"/><path d=\"M17.41 7.96l-1.37-1.37c-.4-.4-.92-.59-1.43-.59-.52 0-1.04.2-1.43.59L10.3 9.45l-7.72 7.72c-.78.78-.78 2.05 0 2.83L4 21.41c.39.39.9.59 1.41.59.51 0 1.02-.2 1.41-.59l7.78-7.78 2.81-2.81c.8-.78.8-2.07 0-2.86zM5.41 20L4 18.59l7.72-7.72 1.47 1.35L5.41 20z\"/>\n",
              "  </svg>\n",
              "      </button>\n",
              "      \n",
              "  <style>\n",
              "    .colab-df-container {\n",
              "      display:flex;\n",
              "      flex-wrap:wrap;\n",
              "      gap: 12px;\n",
              "    }\n",
              "\n",
              "    .colab-df-convert {\n",
              "      background-color: #E8F0FE;\n",
              "      border: none;\n",
              "      border-radius: 50%;\n",
              "      cursor: pointer;\n",
              "      display: none;\n",
              "      fill: #1967D2;\n",
              "      height: 32px;\n",
              "      padding: 0 0 0 0;\n",
              "      width: 32px;\n",
              "    }\n",
              "\n",
              "    .colab-df-convert:hover {\n",
              "      background-color: #E2EBFA;\n",
              "      box-shadow: 0px 1px 2px rgba(60, 64, 67, 0.3), 0px 1px 3px 1px rgba(60, 64, 67, 0.15);\n",
              "      fill: #174EA6;\n",
              "    }\n",
              "\n",
              "    [theme=dark] .colab-df-convert {\n",
              "      background-color: #3B4455;\n",
              "      fill: #D2E3FC;\n",
              "    }\n",
              "\n",
              "    [theme=dark] .colab-df-convert:hover {\n",
              "      background-color: #434B5C;\n",
              "      box-shadow: 0px 1px 3px 1px rgba(0, 0, 0, 0.15);\n",
              "      filter: drop-shadow(0px 1px 2px rgba(0, 0, 0, 0.3));\n",
              "      fill: #FFFFFF;\n",
              "    }\n",
              "  </style>\n",
              "\n",
              "      <script>\n",
              "        const buttonEl =\n",
              "          document.querySelector('#df-c1c4c220-b09c-461b-b4a9-563772c41beb button.colab-df-convert');\n",
              "        buttonEl.style.display =\n",
              "          google.colab.kernel.accessAllowed ? 'block' : 'none';\n",
              "\n",
              "        async function convertToInteractive(key) {\n",
              "          const element = document.querySelector('#df-c1c4c220-b09c-461b-b4a9-563772c41beb');\n",
              "          const dataTable =\n",
              "            await google.colab.kernel.invokeFunction('convertToInteractive',\n",
              "                                                     [key], {});\n",
              "          if (!dataTable) return;\n",
              "\n",
              "          const docLinkHtml = 'Like what you see? Visit the ' +\n",
              "            '<a target=\"_blank\" href=https://colab.research.google.com/notebooks/data_table.ipynb>data table notebook</a>'\n",
              "            + ' to learn more about interactive tables.';\n",
              "          element.innerHTML = '';\n",
              "          dataTable['output_type'] = 'display_data';\n",
              "          await google.colab.output.renderOutput(dataTable, element);\n",
              "          const docLink = document.createElement('div');\n",
              "          docLink.innerHTML = docLinkHtml;\n",
              "          element.appendChild(docLink);\n",
              "        }\n",
              "      </script>\n",
              "    </div>\n",
              "  </div>\n",
              "  "
            ]
          },
          "metadata": {},
          "execution_count": 8
        }
      ]
    },
    {
      "cell_type": "markdown",
      "metadata": {
        "id": "rH6GyJmYvQBl"
      },
      "source": [
        "#### Understand and analyse data"
      ]
    },
    {
      "cell_type": "markdown",
      "metadata": {
        "id": "SnklqeAy1tTJ"
      },
      "source": [
        "Check the number of rows and columns"
      ]
    },
    {
      "cell_type": "code",
      "metadata": {
        "id": "5fE74bRB1tTK",
        "colab": {
          "base_uri": "https://localhost:8080/"
        },
        "outputId": "639ec41d-6213-4ef8-95da-ca483af13512"
      },
      "source": [
        "corpus.shape"
      ],
      "execution_count": null,
      "outputs": [
        {
          "output_type": "execute_result",
          "data": {
            "text/plain": [
              "(5572, 2)"
            ]
          },
          "metadata": {},
          "execution_count": 9
        }
      ]
    },
    {
      "cell_type": "markdown",
      "metadata": {
        "id": "xiq_po0o1tTL"
      },
      "source": [
        "#### Display top 5 rows"
      ]
    },
    {
      "cell_type": "code",
      "metadata": {
        "id": "zmjtdHh91tTL",
        "colab": {
          "base_uri": "https://localhost:8080/",
          "height": 206
        },
        "outputId": "5f0d9cdf-498c-41a0-ec8c-1c8761b0bd62"
      },
      "source": [
        "corpus.head()"
      ],
      "execution_count": null,
      "outputs": [
        {
          "output_type": "execute_result",
          "data": {
            "text/plain": [
              "      0  \\\n",
              "0   ham   \n",
              "1   ham   \n",
              "2  spam   \n",
              "3   ham   \n",
              "4   ham   \n",
              "\n",
              "                                                                                                                                                             1  \n",
              "0                                              Go until jurong point, crazy.. Available only in bugis n great world la e buffet... Cine there got amore wat...  \n",
              "1                                                                                                                                Ok lar... Joking wif u oni...  \n",
              "2  Free entry in 2 a wkly comp to win FA Cup final tkts 21st May 2005. Text FA to 87121 to receive entry question(std txt rate)T&C's apply 08452810075over18's  \n",
              "3                                                                                                            U dun say so early hor... U c already then say...  \n",
              "4                                                                                                Nah I don't think he goes to usf, he lives around here though  "
            ],
            "text/html": [
              "\n",
              "  <div id=\"df-d844cc07-cfc3-441e-be80-caad950845d9\">\n",
              "    <div class=\"colab-df-container\">\n",
              "      <div>\n",
              "<style scoped>\n",
              "    .dataframe tbody tr th:only-of-type {\n",
              "        vertical-align: middle;\n",
              "    }\n",
              "\n",
              "    .dataframe tbody tr th {\n",
              "        vertical-align: top;\n",
              "    }\n",
              "\n",
              "    .dataframe thead th {\n",
              "        text-align: right;\n",
              "    }\n",
              "</style>\n",
              "<table border=\"1\" class=\"dataframe\">\n",
              "  <thead>\n",
              "    <tr style=\"text-align: right;\">\n",
              "      <th></th>\n",
              "      <th>0</th>\n",
              "      <th>1</th>\n",
              "    </tr>\n",
              "  </thead>\n",
              "  <tbody>\n",
              "    <tr>\n",
              "      <th>0</th>\n",
              "      <td>ham</td>\n",
              "      <td>Go until jurong point, crazy.. Available only in bugis n great world la e buffet... Cine there got amore wat...</td>\n",
              "    </tr>\n",
              "    <tr>\n",
              "      <th>1</th>\n",
              "      <td>ham</td>\n",
              "      <td>Ok lar... Joking wif u oni...</td>\n",
              "    </tr>\n",
              "    <tr>\n",
              "      <th>2</th>\n",
              "      <td>spam</td>\n",
              "      <td>Free entry in 2 a wkly comp to win FA Cup final tkts 21st May 2005. Text FA to 87121 to receive entry question(std txt rate)T&amp;C's apply 08452810075over18's</td>\n",
              "    </tr>\n",
              "    <tr>\n",
              "      <th>3</th>\n",
              "      <td>ham</td>\n",
              "      <td>U dun say so early hor... U c already then say...</td>\n",
              "    </tr>\n",
              "    <tr>\n",
              "      <th>4</th>\n",
              "      <td>ham</td>\n",
              "      <td>Nah I don't think he goes to usf, he lives around here though</td>\n",
              "    </tr>\n",
              "  </tbody>\n",
              "</table>\n",
              "</div>\n",
              "      <button class=\"colab-df-convert\" onclick=\"convertToInteractive('df-d844cc07-cfc3-441e-be80-caad950845d9')\"\n",
              "              title=\"Convert this dataframe to an interactive table.\"\n",
              "              style=\"display:none;\">\n",
              "        \n",
              "  <svg xmlns=\"http://www.w3.org/2000/svg\" height=\"24px\"viewBox=\"0 0 24 24\"\n",
              "       width=\"24px\">\n",
              "    <path d=\"M0 0h24v24H0V0z\" fill=\"none\"/>\n",
              "    <path d=\"M18.56 5.44l.94 2.06.94-2.06 2.06-.94-2.06-.94-.94-2.06-.94 2.06-2.06.94zm-11 1L8.5 8.5l.94-2.06 2.06-.94-2.06-.94L8.5 2.5l-.94 2.06-2.06.94zm10 10l.94 2.06.94-2.06 2.06-.94-2.06-.94-.94-2.06-.94 2.06-2.06.94z\"/><path d=\"M17.41 7.96l-1.37-1.37c-.4-.4-.92-.59-1.43-.59-.52 0-1.04.2-1.43.59L10.3 9.45l-7.72 7.72c-.78.78-.78 2.05 0 2.83L4 21.41c.39.39.9.59 1.41.59.51 0 1.02-.2 1.41-.59l7.78-7.78 2.81-2.81c.8-.78.8-2.07 0-2.86zM5.41 20L4 18.59l7.72-7.72 1.47 1.35L5.41 20z\"/>\n",
              "  </svg>\n",
              "      </button>\n",
              "      \n",
              "  <style>\n",
              "    .colab-df-container {\n",
              "      display:flex;\n",
              "      flex-wrap:wrap;\n",
              "      gap: 12px;\n",
              "    }\n",
              "\n",
              "    .colab-df-convert {\n",
              "      background-color: #E8F0FE;\n",
              "      border: none;\n",
              "      border-radius: 50%;\n",
              "      cursor: pointer;\n",
              "      display: none;\n",
              "      fill: #1967D2;\n",
              "      height: 32px;\n",
              "      padding: 0 0 0 0;\n",
              "      width: 32px;\n",
              "    }\n",
              "\n",
              "    .colab-df-convert:hover {\n",
              "      background-color: #E2EBFA;\n",
              "      box-shadow: 0px 1px 2px rgba(60, 64, 67, 0.3), 0px 1px 3px 1px rgba(60, 64, 67, 0.15);\n",
              "      fill: #174EA6;\n",
              "    }\n",
              "\n",
              "    [theme=dark] .colab-df-convert {\n",
              "      background-color: #3B4455;\n",
              "      fill: #D2E3FC;\n",
              "    }\n",
              "\n",
              "    [theme=dark] .colab-df-convert:hover {\n",
              "      background-color: #434B5C;\n",
              "      box-shadow: 0px 1px 3px 1px rgba(0, 0, 0, 0.15);\n",
              "      filter: drop-shadow(0px 1px 2px rgba(0, 0, 0, 0.3));\n",
              "      fill: #FFFFFF;\n",
              "    }\n",
              "  </style>\n",
              "\n",
              "      <script>\n",
              "        const buttonEl =\n",
              "          document.querySelector('#df-d844cc07-cfc3-441e-be80-caad950845d9 button.colab-df-convert');\n",
              "        buttonEl.style.display =\n",
              "          google.colab.kernel.accessAllowed ? 'block' : 'none';\n",
              "\n",
              "        async function convertToInteractive(key) {\n",
              "          const element = document.querySelector('#df-d844cc07-cfc3-441e-be80-caad950845d9');\n",
              "          const dataTable =\n",
              "            await google.colab.kernel.invokeFunction('convertToInteractive',\n",
              "                                                     [key], {});\n",
              "          if (!dataTable) return;\n",
              "\n",
              "          const docLinkHtml = 'Like what you see? Visit the ' +\n",
              "            '<a target=\"_blank\" href=https://colab.research.google.com/notebooks/data_table.ipynb>data table notebook</a>'\n",
              "            + ' to learn more about interactive tables.';\n",
              "          element.innerHTML = '';\n",
              "          dataTable['output_type'] = 'display_data';\n",
              "          await google.colab.output.renderOutput(dataTable, element);\n",
              "          const docLink = document.createElement('div');\n",
              "          docLink.innerHTML = docLinkHtml;\n",
              "          element.appendChild(docLink);\n",
              "        }\n",
              "      </script>\n",
              "    </div>\n",
              "  </div>\n",
              "  "
            ]
          },
          "metadata": {},
          "execution_count": 10
        }
      ]
    },
    {
      "cell_type": "markdown",
      "metadata": {
        "id": "zhbgYJvu1tTM"
      },
      "source": [
        "Change column names from 0 and 1 to 'type' and 'text' respectively"
      ]
    },
    {
      "cell_type": "code",
      "metadata": {
        "id": "TobXjoVk1tTN"
      },
      "source": [
        "corpus.columns = ['type', 'text'] # Changing Column names"
      ],
      "execution_count": null,
      "outputs": []
    },
    {
      "cell_type": "markdown",
      "metadata": {
        "id": "CeSn8a4r1tTN"
      },
      "source": [
        "Display top 5 rows"
      ]
    },
    {
      "cell_type": "code",
      "metadata": {
        "id": "_x2Qz1071tTN",
        "colab": {
          "base_uri": "https://localhost:8080/",
          "height": 206
        },
        "outputId": "e7146f7a-f0d7-4101-f17c-8acbc38b5fca"
      },
      "source": [
        "corpus.head()"
      ],
      "execution_count": null,
      "outputs": [
        {
          "output_type": "execute_result",
          "data": {
            "text/plain": [
              "   type  \\\n",
              "0   ham   \n",
              "1   ham   \n",
              "2  spam   \n",
              "3   ham   \n",
              "4   ham   \n",
              "\n",
              "                                                                                                                                                          text  \n",
              "0                                              Go until jurong point, crazy.. Available only in bugis n great world la e buffet... Cine there got amore wat...  \n",
              "1                                                                                                                                Ok lar... Joking wif u oni...  \n",
              "2  Free entry in 2 a wkly comp to win FA Cup final tkts 21st May 2005. Text FA to 87121 to receive entry question(std txt rate)T&C's apply 08452810075over18's  \n",
              "3                                                                                                            U dun say so early hor... U c already then say...  \n",
              "4                                                                                                Nah I don't think he goes to usf, he lives around here though  "
            ],
            "text/html": [
              "\n",
              "  <div id=\"df-bd677162-24d2-4d98-9065-c13ddc764b7f\">\n",
              "    <div class=\"colab-df-container\">\n",
              "      <div>\n",
              "<style scoped>\n",
              "    .dataframe tbody tr th:only-of-type {\n",
              "        vertical-align: middle;\n",
              "    }\n",
              "\n",
              "    .dataframe tbody tr th {\n",
              "        vertical-align: top;\n",
              "    }\n",
              "\n",
              "    .dataframe thead th {\n",
              "        text-align: right;\n",
              "    }\n",
              "</style>\n",
              "<table border=\"1\" class=\"dataframe\">\n",
              "  <thead>\n",
              "    <tr style=\"text-align: right;\">\n",
              "      <th></th>\n",
              "      <th>type</th>\n",
              "      <th>text</th>\n",
              "    </tr>\n",
              "  </thead>\n",
              "  <tbody>\n",
              "    <tr>\n",
              "      <th>0</th>\n",
              "      <td>ham</td>\n",
              "      <td>Go until jurong point, crazy.. Available only in bugis n great world la e buffet... Cine there got amore wat...</td>\n",
              "    </tr>\n",
              "    <tr>\n",
              "      <th>1</th>\n",
              "      <td>ham</td>\n",
              "      <td>Ok lar... Joking wif u oni...</td>\n",
              "    </tr>\n",
              "    <tr>\n",
              "      <th>2</th>\n",
              "      <td>spam</td>\n",
              "      <td>Free entry in 2 a wkly comp to win FA Cup final tkts 21st May 2005. Text FA to 87121 to receive entry question(std txt rate)T&amp;C's apply 08452810075over18's</td>\n",
              "    </tr>\n",
              "    <tr>\n",
              "      <th>3</th>\n",
              "      <td>ham</td>\n",
              "      <td>U dun say so early hor... U c already then say...</td>\n",
              "    </tr>\n",
              "    <tr>\n",
              "      <th>4</th>\n",
              "      <td>ham</td>\n",
              "      <td>Nah I don't think he goes to usf, he lives around here though</td>\n",
              "    </tr>\n",
              "  </tbody>\n",
              "</table>\n",
              "</div>\n",
              "      <button class=\"colab-df-convert\" onclick=\"convertToInteractive('df-bd677162-24d2-4d98-9065-c13ddc764b7f')\"\n",
              "              title=\"Convert this dataframe to an interactive table.\"\n",
              "              style=\"display:none;\">\n",
              "        \n",
              "  <svg xmlns=\"http://www.w3.org/2000/svg\" height=\"24px\"viewBox=\"0 0 24 24\"\n",
              "       width=\"24px\">\n",
              "    <path d=\"M0 0h24v24H0V0z\" fill=\"none\"/>\n",
              "    <path d=\"M18.56 5.44l.94 2.06.94-2.06 2.06-.94-2.06-.94-.94-2.06-.94 2.06-2.06.94zm-11 1L8.5 8.5l.94-2.06 2.06-.94-2.06-.94L8.5 2.5l-.94 2.06-2.06.94zm10 10l.94 2.06.94-2.06 2.06-.94-2.06-.94-.94-2.06-.94 2.06-2.06.94z\"/><path d=\"M17.41 7.96l-1.37-1.37c-.4-.4-.92-.59-1.43-.59-.52 0-1.04.2-1.43.59L10.3 9.45l-7.72 7.72c-.78.78-.78 2.05 0 2.83L4 21.41c.39.39.9.59 1.41.59.51 0 1.02-.2 1.41-.59l7.78-7.78 2.81-2.81c.8-.78.8-2.07 0-2.86zM5.41 20L4 18.59l7.72-7.72 1.47 1.35L5.41 20z\"/>\n",
              "  </svg>\n",
              "      </button>\n",
              "      \n",
              "  <style>\n",
              "    .colab-df-container {\n",
              "      display:flex;\n",
              "      flex-wrap:wrap;\n",
              "      gap: 12px;\n",
              "    }\n",
              "\n",
              "    .colab-df-convert {\n",
              "      background-color: #E8F0FE;\n",
              "      border: none;\n",
              "      border-radius: 50%;\n",
              "      cursor: pointer;\n",
              "      display: none;\n",
              "      fill: #1967D2;\n",
              "      height: 32px;\n",
              "      padding: 0 0 0 0;\n",
              "      width: 32px;\n",
              "    }\n",
              "\n",
              "    .colab-df-convert:hover {\n",
              "      background-color: #E2EBFA;\n",
              "      box-shadow: 0px 1px 2px rgba(60, 64, 67, 0.3), 0px 1px 3px 1px rgba(60, 64, 67, 0.15);\n",
              "      fill: #174EA6;\n",
              "    }\n",
              "\n",
              "    [theme=dark] .colab-df-convert {\n",
              "      background-color: #3B4455;\n",
              "      fill: #D2E3FC;\n",
              "    }\n",
              "\n",
              "    [theme=dark] .colab-df-convert:hover {\n",
              "      background-color: #434B5C;\n",
              "      box-shadow: 0px 1px 3px 1px rgba(0, 0, 0, 0.15);\n",
              "      filter: drop-shadow(0px 1px 2px rgba(0, 0, 0, 0.3));\n",
              "      fill: #FFFFFF;\n",
              "    }\n",
              "  </style>\n",
              "\n",
              "      <script>\n",
              "        const buttonEl =\n",
              "          document.querySelector('#df-bd677162-24d2-4d98-9065-c13ddc764b7f button.colab-df-convert');\n",
              "        buttonEl.style.display =\n",
              "          google.colab.kernel.accessAllowed ? 'block' : 'none';\n",
              "\n",
              "        async function convertToInteractive(key) {\n",
              "          const element = document.querySelector('#df-bd677162-24d2-4d98-9065-c13ddc764b7f');\n",
              "          const dataTable =\n",
              "            await google.colab.kernel.invokeFunction('convertToInteractive',\n",
              "                                                     [key], {});\n",
              "          if (!dataTable) return;\n",
              "\n",
              "          const docLinkHtml = 'Like what you see? Visit the ' +\n",
              "            '<a target=\"_blank\" href=https://colab.research.google.com/notebooks/data_table.ipynb>data table notebook</a>'\n",
              "            + ' to learn more about interactive tables.';\n",
              "          element.innerHTML = '';\n",
              "          dataTable['output_type'] = 'display_data';\n",
              "          await google.colab.output.renderOutput(dataTable, element);\n",
              "          const docLink = document.createElement('div');\n",
              "          docLink.innerHTML = docLinkHtml;\n",
              "          element.appendChild(docLink);\n",
              "        }\n",
              "      </script>\n",
              "    </div>\n",
              "  </div>\n",
              "  "
            ]
          },
          "metadata": {},
          "execution_count": 12
        }
      ]
    },
    {
      "cell_type": "markdown",
      "metadata": {
        "id": "2AVI7ej01tTO"
      },
      "source": [
        "#### Distribution of data w.r.t type"
      ]
    },
    {
      "cell_type": "code",
      "metadata": {
        "id": "F6UYmp731tTO",
        "colab": {
          "base_uri": "https://localhost:8080/"
        },
        "outputId": "41828e07-5930-4c97-85d9-029edc65ca10"
      },
      "source": [
        "corpus['type'].value_counts()"
      ],
      "execution_count": null,
      "outputs": [
        {
          "output_type": "execute_result",
          "data": {
            "text/plain": [
              "ham     4825\n",
              "spam     747\n",
              "Name: type, dtype: int64"
            ]
          },
          "metadata": {},
          "execution_count": 13
        }
      ]
    },
    {
      "cell_type": "markdown",
      "metadata": {
        "id": "yhvrmfjx1tTP"
      },
      "source": [
        "% distribution of data w.r.t type"
      ]
    },
    {
      "cell_type": "code",
      "metadata": {
        "id": "HmLrbY1B1tTP",
        "colab": {
          "base_uri": "https://localhost:8080/"
        },
        "outputId": "f72f0a53-b677-4052-cf6a-649258b6668d"
      },
      "source": [
        "corpus['type'].value_counts(normalize=True)*100"
      ],
      "execution_count": null,
      "outputs": [
        {
          "output_type": "execute_result",
          "data": {
            "text/plain": [
              "ham     86.593683\n",
              "spam    13.406317\n",
              "Name: type, dtype: float64"
            ]
          },
          "metadata": {},
          "execution_count": 14
        }
      ]
    },
    {
      "cell_type": "markdown",
      "metadata": {
        "id": "6jAaK0ZA1tTQ"
      },
      "source": [
        "#### Checking for Null values"
      ]
    },
    {
      "cell_type": "code",
      "metadata": {
        "id": "V4E8DfR91tTQ",
        "colab": {
          "base_uri": "https://localhost:8080/"
        },
        "outputId": "80b150e0-92fd-4c40-e99c-64ef6635a7ed"
      },
      "source": [
        "corpus.isnull().sum()"
      ],
      "execution_count": null,
      "outputs": [
        {
          "output_type": "execute_result",
          "data": {
            "text/plain": [
              "type    0\n",
              "text    0\n",
              "dtype: int64"
            ]
          },
          "metadata": {},
          "execution_count": 15
        }
      ]
    },
    {
      "cell_type": "markdown",
      "metadata": {
        "id": "N7FL39Rs1tTR"
      },
      "source": [
        "#### Observation: There are no Null values in the dataset"
      ]
    },
    {
      "cell_type": "markdown",
      "metadata": {
        "id": "EbbxtXfl1tTR"
      },
      "source": [
        "### Text Pre-processing"
      ]
    },
    {
      "cell_type": "code",
      "source": [
        "# list(enumerate(corpus['text']))"
      ],
      "metadata": {
        "id": "7xVl1OAluwgr"
      },
      "execution_count": null,
      "outputs": []
    },
    {
      "cell_type": "code",
      "metadata": {
        "id": "KILYNoV81tTS"
      },
      "source": [
        "# Step - a: Remove blank rows if any\n",
        "# corpus['text'].dropna(inplace=True)\n",
        "\n",
        "# Step - b: Change all the text to lower case. This is required as python interprets 'data' and 'DATA' differently\n",
        "corpus['text'] = [sentence.lower() for sentence in corpus['text']]\n",
        "\n",
        "# Step - c: Tokenization and Remove Stop words, Non-Numeric and perfom Word Lemmatization.\n",
        "stop_words = list(STOP_WORDS)\n",
        "for index, entry in enumerate(corpus['text']):\n",
        "    tokens = [token.lemma_ for token in nlp(entry) if ((str(token) not in stop_words) and (token.is_alpha == True))]\n",
        "    clean_text = \" \".join(tokens)\n",
        "    corpus.loc[index,'clean_text'] = clean_text"
      ],
      "execution_count": null,
      "outputs": []
    },
    {
      "cell_type": "code",
      "metadata": {
        "colab": {
          "base_uri": "https://localhost:8080/"
        },
        "id": "jFrc6-wGcKBL",
        "outputId": "c67a23b9-f767-41b2-e2f6-4ceeb5e30ac1"
      },
      "source": [
        "for entry in enumerate(\"ABCD\"):\n",
        "    print (entry)"
      ],
      "execution_count": null,
      "outputs": [
        {
          "output_type": "stream",
          "name": "stdout",
          "text": [
            "(0, 'A')\n",
            "(1, 'B')\n",
            "(2, 'C')\n",
            "(3, 'D')\n"
          ]
        }
      ]
    },
    {
      "cell_type": "markdown",
      "metadata": {
        "id": "iD0wu_Iw1tTS"
      },
      "source": [
        "#### Display top 5 rows after Text Pre-processing"
      ]
    },
    {
      "cell_type": "code",
      "metadata": {
        "id": "KE2NMY_O1tTT",
        "colab": {
          "base_uri": "https://localhost:8080/",
          "height": 285
        },
        "outputId": "b1ac5ebb-80ea-4885-ba2d-ea81d0ef6322"
      },
      "source": [
        "corpus.head()"
      ],
      "execution_count": null,
      "outputs": [
        {
          "output_type": "execute_result",
          "data": {
            "text/plain": [
              "   type  \\\n",
              "0   ham   \n",
              "1   ham   \n",
              "2  spam   \n",
              "3   ham   \n",
              "4   ham   \n",
              "\n",
              "                                                                                                                                                          text  \\\n",
              "0                                              go until jurong point, crazy.. available only in bugis n great world la e buffet... cine there got amore wat...   \n",
              "1                                                                                                                                ok lar... joking wif u oni...   \n",
              "2  free entry in 2 a wkly comp to win fa cup final tkts 21st may 2005. text fa to 87121 to receive entry question(std txt rate)t&c's apply 08452810075over18's   \n",
              "3                                                                                                            u dun say so early hor... u c already then say...   \n",
              "4                                                                                                nah i don't think he goes to usf, he lives around here though   \n",
              "\n",
              "                                                                        clean_text  \n",
              "0  jurong point crazy available bugis n great world la e buffet cine get amore wat  \n",
              "1                                                            ok lar joke wif u oni  \n",
              "2       free entry wkly comp win fa cup final tkts text fa receive entry txt apply  \n",
              "3                                                              u dun early hor u c  \n",
              "4                                                            nah think go usf live  "
            ],
            "text/html": [
              "\n",
              "  <div id=\"df-1e5fc335-f3af-4df3-8ed7-6804837dfe25\">\n",
              "    <div class=\"colab-df-container\">\n",
              "      <div>\n",
              "<style scoped>\n",
              "    .dataframe tbody tr th:only-of-type {\n",
              "        vertical-align: middle;\n",
              "    }\n",
              "\n",
              "    .dataframe tbody tr th {\n",
              "        vertical-align: top;\n",
              "    }\n",
              "\n",
              "    .dataframe thead th {\n",
              "        text-align: right;\n",
              "    }\n",
              "</style>\n",
              "<table border=\"1\" class=\"dataframe\">\n",
              "  <thead>\n",
              "    <tr style=\"text-align: right;\">\n",
              "      <th></th>\n",
              "      <th>type</th>\n",
              "      <th>text</th>\n",
              "      <th>clean_text</th>\n",
              "    </tr>\n",
              "  </thead>\n",
              "  <tbody>\n",
              "    <tr>\n",
              "      <th>0</th>\n",
              "      <td>ham</td>\n",
              "      <td>go until jurong point, crazy.. available only in bugis n great world la e buffet... cine there got amore wat...</td>\n",
              "      <td>jurong point crazy available bugis n great world la e buffet cine get amore wat</td>\n",
              "    </tr>\n",
              "    <tr>\n",
              "      <th>1</th>\n",
              "      <td>ham</td>\n",
              "      <td>ok lar... joking wif u oni...</td>\n",
              "      <td>ok lar joke wif u oni</td>\n",
              "    </tr>\n",
              "    <tr>\n",
              "      <th>2</th>\n",
              "      <td>spam</td>\n",
              "      <td>free entry in 2 a wkly comp to win fa cup final tkts 21st may 2005. text fa to 87121 to receive entry question(std txt rate)t&amp;c's apply 08452810075over18's</td>\n",
              "      <td>free entry wkly comp win fa cup final tkts text fa receive entry txt apply</td>\n",
              "    </tr>\n",
              "    <tr>\n",
              "      <th>3</th>\n",
              "      <td>ham</td>\n",
              "      <td>u dun say so early hor... u c already then say...</td>\n",
              "      <td>u dun early hor u c</td>\n",
              "    </tr>\n",
              "    <tr>\n",
              "      <th>4</th>\n",
              "      <td>ham</td>\n",
              "      <td>nah i don't think he goes to usf, he lives around here though</td>\n",
              "      <td>nah think go usf live</td>\n",
              "    </tr>\n",
              "  </tbody>\n",
              "</table>\n",
              "</div>\n",
              "      <button class=\"colab-df-convert\" onclick=\"convertToInteractive('df-1e5fc335-f3af-4df3-8ed7-6804837dfe25')\"\n",
              "              title=\"Convert this dataframe to an interactive table.\"\n",
              "              style=\"display:none;\">\n",
              "        \n",
              "  <svg xmlns=\"http://www.w3.org/2000/svg\" height=\"24px\"viewBox=\"0 0 24 24\"\n",
              "       width=\"24px\">\n",
              "    <path d=\"M0 0h24v24H0V0z\" fill=\"none\"/>\n",
              "    <path d=\"M18.56 5.44l.94 2.06.94-2.06 2.06-.94-2.06-.94-.94-2.06-.94 2.06-2.06.94zm-11 1L8.5 8.5l.94-2.06 2.06-.94-2.06-.94L8.5 2.5l-.94 2.06-2.06.94zm10 10l.94 2.06.94-2.06 2.06-.94-2.06-.94-.94-2.06-.94 2.06-2.06.94z\"/><path d=\"M17.41 7.96l-1.37-1.37c-.4-.4-.92-.59-1.43-.59-.52 0-1.04.2-1.43.59L10.3 9.45l-7.72 7.72c-.78.78-.78 2.05 0 2.83L4 21.41c.39.39.9.59 1.41.59.51 0 1.02-.2 1.41-.59l7.78-7.78 2.81-2.81c.8-.78.8-2.07 0-2.86zM5.41 20L4 18.59l7.72-7.72 1.47 1.35L5.41 20z\"/>\n",
              "  </svg>\n",
              "      </button>\n",
              "      \n",
              "  <style>\n",
              "    .colab-df-container {\n",
              "      display:flex;\n",
              "      flex-wrap:wrap;\n",
              "      gap: 12px;\n",
              "    }\n",
              "\n",
              "    .colab-df-convert {\n",
              "      background-color: #E8F0FE;\n",
              "      border: none;\n",
              "      border-radius: 50%;\n",
              "      cursor: pointer;\n",
              "      display: none;\n",
              "      fill: #1967D2;\n",
              "      height: 32px;\n",
              "      padding: 0 0 0 0;\n",
              "      width: 32px;\n",
              "    }\n",
              "\n",
              "    .colab-df-convert:hover {\n",
              "      background-color: #E2EBFA;\n",
              "      box-shadow: 0px 1px 2px rgba(60, 64, 67, 0.3), 0px 1px 3px 1px rgba(60, 64, 67, 0.15);\n",
              "      fill: #174EA6;\n",
              "    }\n",
              "\n",
              "    [theme=dark] .colab-df-convert {\n",
              "      background-color: #3B4455;\n",
              "      fill: #D2E3FC;\n",
              "    }\n",
              "\n",
              "    [theme=dark] .colab-df-convert:hover {\n",
              "      background-color: #434B5C;\n",
              "      box-shadow: 0px 1px 3px 1px rgba(0, 0, 0, 0.15);\n",
              "      filter: drop-shadow(0px 1px 2px rgba(0, 0, 0, 0.3));\n",
              "      fill: #FFFFFF;\n",
              "    }\n",
              "  </style>\n",
              "\n",
              "      <script>\n",
              "        const buttonEl =\n",
              "          document.querySelector('#df-1e5fc335-f3af-4df3-8ed7-6804837dfe25 button.colab-df-convert');\n",
              "        buttonEl.style.display =\n",
              "          google.colab.kernel.accessAllowed ? 'block' : 'none';\n",
              "\n",
              "        async function convertToInteractive(key) {\n",
              "          const element = document.querySelector('#df-1e5fc335-f3af-4df3-8ed7-6804837dfe25');\n",
              "          const dataTable =\n",
              "            await google.colab.kernel.invokeFunction('convertToInteractive',\n",
              "                                                     [key], {});\n",
              "          if (!dataTable) return;\n",
              "\n",
              "          const docLinkHtml = 'Like what you see? Visit the ' +\n",
              "            '<a target=\"_blank\" href=https://colab.research.google.com/notebooks/data_table.ipynb>data table notebook</a>'\n",
              "            + ' to learn more about interactive tables.';\n",
              "          element.innerHTML = '';\n",
              "          dataTable['output_type'] = 'display_data';\n",
              "          await google.colab.output.renderOutput(dataTable, element);\n",
              "          const docLink = document.createElement('div');\n",
              "          docLink.innerHTML = docLinkHtml;\n",
              "          element.appendChild(docLink);\n",
              "        }\n",
              "      </script>\n",
              "    </div>\n",
              "  </div>\n",
              "  "
            ]
          },
          "metadata": {},
          "execution_count": 22
        }
      ]
    },
    {
      "cell_type": "code",
      "metadata": {
        "id": "Idrkjt_-1tTT"
      },
      "source": [
        "# remove short words (length < 2)\n",
        "corpus['meaningful_text'] = corpus['clean_text'].apply(lambda x: ' '.join([w for w in x.split() if len(w)>1]))"
      ],
      "execution_count": null,
      "outputs": []
    },
    {
      "cell_type": "code",
      "metadata": {
        "id": "OrhVMgFK1tTT",
        "colab": {
          "base_uri": "https://localhost:8080/",
          "height": 285
        },
        "outputId": "fbdd7fc6-8567-4aef-eb9c-5503567b671e"
      },
      "source": [
        "corpus.head()"
      ],
      "execution_count": null,
      "outputs": [
        {
          "output_type": "execute_result",
          "data": {
            "text/plain": [
              "   type  \\\n",
              "0   ham   \n",
              "1   ham   \n",
              "2  spam   \n",
              "3   ham   \n",
              "4   ham   \n",
              "\n",
              "                                                                                                                                                          text  \\\n",
              "0                                              go until jurong point, crazy.. available only in bugis n great world la e buffet... cine there got amore wat...   \n",
              "1                                                                                                                                ok lar... joking wif u oni...   \n",
              "2  free entry in 2 a wkly comp to win fa cup final tkts 21st may 2005. text fa to 87121 to receive entry question(std txt rate)t&c's apply 08452810075over18's   \n",
              "3                                                                                                            u dun say so early hor... u c already then say...   \n",
              "4                                                                                                nah i don't think he goes to usf, he lives around here though   \n",
              "\n",
              "                                                                        clean_text  \\\n",
              "0  jurong point crazy available bugis n great world la e buffet cine get amore wat   \n",
              "1                                                            ok lar joke wif u oni   \n",
              "2       free entry wkly comp win fa cup final tkts text fa receive entry txt apply   \n",
              "3                                                              u dun early hor u c   \n",
              "4                                                            nah think go usf live   \n",
              "\n",
              "                                                               meaningful_text  \n",
              "0  jurong point crazy available bugis great world la buffet cine get amore wat  \n",
              "1                                                          ok lar joke wif oni  \n",
              "2   free entry wkly comp win fa cup final tkts text fa receive entry txt apply  \n",
              "3                                                                dun early hor  \n",
              "4                                                        nah think go usf live  "
            ],
            "text/html": [
              "\n",
              "  <div id=\"df-add1a9dc-57df-452e-93a8-6d5f5858870f\">\n",
              "    <div class=\"colab-df-container\">\n",
              "      <div>\n",
              "<style scoped>\n",
              "    .dataframe tbody tr th:only-of-type {\n",
              "        vertical-align: middle;\n",
              "    }\n",
              "\n",
              "    .dataframe tbody tr th {\n",
              "        vertical-align: top;\n",
              "    }\n",
              "\n",
              "    .dataframe thead th {\n",
              "        text-align: right;\n",
              "    }\n",
              "</style>\n",
              "<table border=\"1\" class=\"dataframe\">\n",
              "  <thead>\n",
              "    <tr style=\"text-align: right;\">\n",
              "      <th></th>\n",
              "      <th>type</th>\n",
              "      <th>text</th>\n",
              "      <th>clean_text</th>\n",
              "      <th>meaningful_text</th>\n",
              "    </tr>\n",
              "  </thead>\n",
              "  <tbody>\n",
              "    <tr>\n",
              "      <th>0</th>\n",
              "      <td>ham</td>\n",
              "      <td>go until jurong point, crazy.. available only in bugis n great world la e buffet... cine there got amore wat...</td>\n",
              "      <td>jurong point crazy available bugis n great world la e buffet cine get amore wat</td>\n",
              "      <td>jurong point crazy available bugis great world la buffet cine get amore wat</td>\n",
              "    </tr>\n",
              "    <tr>\n",
              "      <th>1</th>\n",
              "      <td>ham</td>\n",
              "      <td>ok lar... joking wif u oni...</td>\n",
              "      <td>ok lar joke wif u oni</td>\n",
              "      <td>ok lar joke wif oni</td>\n",
              "    </tr>\n",
              "    <tr>\n",
              "      <th>2</th>\n",
              "      <td>spam</td>\n",
              "      <td>free entry in 2 a wkly comp to win fa cup final tkts 21st may 2005. text fa to 87121 to receive entry question(std txt rate)t&amp;c's apply 08452810075over18's</td>\n",
              "      <td>free entry wkly comp win fa cup final tkts text fa receive entry txt apply</td>\n",
              "      <td>free entry wkly comp win fa cup final tkts text fa receive entry txt apply</td>\n",
              "    </tr>\n",
              "    <tr>\n",
              "      <th>3</th>\n",
              "      <td>ham</td>\n",
              "      <td>u dun say so early hor... u c already then say...</td>\n",
              "      <td>u dun early hor u c</td>\n",
              "      <td>dun early hor</td>\n",
              "    </tr>\n",
              "    <tr>\n",
              "      <th>4</th>\n",
              "      <td>ham</td>\n",
              "      <td>nah i don't think he goes to usf, he lives around here though</td>\n",
              "      <td>nah think go usf live</td>\n",
              "      <td>nah think go usf live</td>\n",
              "    </tr>\n",
              "  </tbody>\n",
              "</table>\n",
              "</div>\n",
              "      <button class=\"colab-df-convert\" onclick=\"convertToInteractive('df-add1a9dc-57df-452e-93a8-6d5f5858870f')\"\n",
              "              title=\"Convert this dataframe to an interactive table.\"\n",
              "              style=\"display:none;\">\n",
              "        \n",
              "  <svg xmlns=\"http://www.w3.org/2000/svg\" height=\"24px\"viewBox=\"0 0 24 24\"\n",
              "       width=\"24px\">\n",
              "    <path d=\"M0 0h24v24H0V0z\" fill=\"none\"/>\n",
              "    <path d=\"M18.56 5.44l.94 2.06.94-2.06 2.06-.94-2.06-.94-.94-2.06-.94 2.06-2.06.94zm-11 1L8.5 8.5l.94-2.06 2.06-.94-2.06-.94L8.5 2.5l-.94 2.06-2.06.94zm10 10l.94 2.06.94-2.06 2.06-.94-2.06-.94-.94-2.06-.94 2.06-2.06.94z\"/><path d=\"M17.41 7.96l-1.37-1.37c-.4-.4-.92-.59-1.43-.59-.52 0-1.04.2-1.43.59L10.3 9.45l-7.72 7.72c-.78.78-.78 2.05 0 2.83L4 21.41c.39.39.9.59 1.41.59.51 0 1.02-.2 1.41-.59l7.78-7.78 2.81-2.81c.8-.78.8-2.07 0-2.86zM5.41 20L4 18.59l7.72-7.72 1.47 1.35L5.41 20z\"/>\n",
              "  </svg>\n",
              "      </button>\n",
              "      \n",
              "  <style>\n",
              "    .colab-df-container {\n",
              "      display:flex;\n",
              "      flex-wrap:wrap;\n",
              "      gap: 12px;\n",
              "    }\n",
              "\n",
              "    .colab-df-convert {\n",
              "      background-color: #E8F0FE;\n",
              "      border: none;\n",
              "      border-radius: 50%;\n",
              "      cursor: pointer;\n",
              "      display: none;\n",
              "      fill: #1967D2;\n",
              "      height: 32px;\n",
              "      padding: 0 0 0 0;\n",
              "      width: 32px;\n",
              "    }\n",
              "\n",
              "    .colab-df-convert:hover {\n",
              "      background-color: #E2EBFA;\n",
              "      box-shadow: 0px 1px 2px rgba(60, 64, 67, 0.3), 0px 1px 3px 1px rgba(60, 64, 67, 0.15);\n",
              "      fill: #174EA6;\n",
              "    }\n",
              "\n",
              "    [theme=dark] .colab-df-convert {\n",
              "      background-color: #3B4455;\n",
              "      fill: #D2E3FC;\n",
              "    }\n",
              "\n",
              "    [theme=dark] .colab-df-convert:hover {\n",
              "      background-color: #434B5C;\n",
              "      box-shadow: 0px 1px 3px 1px rgba(0, 0, 0, 0.15);\n",
              "      filter: drop-shadow(0px 1px 2px rgba(0, 0, 0, 0.3));\n",
              "      fill: #FFFFFF;\n",
              "    }\n",
              "  </style>\n",
              "\n",
              "      <script>\n",
              "        const buttonEl =\n",
              "          document.querySelector('#df-add1a9dc-57df-452e-93a8-6d5f5858870f button.colab-df-convert');\n",
              "        buttonEl.style.display =\n",
              "          google.colab.kernel.accessAllowed ? 'block' : 'none';\n",
              "\n",
              "        async function convertToInteractive(key) {\n",
              "          const element = document.querySelector('#df-add1a9dc-57df-452e-93a8-6d5f5858870f');\n",
              "          const dataTable =\n",
              "            await google.colab.kernel.invokeFunction('convertToInteractive',\n",
              "                                                     [key], {});\n",
              "          if (!dataTable) return;\n",
              "\n",
              "          const docLinkHtml = 'Like what you see? Visit the ' +\n",
              "            '<a target=\"_blank\" href=https://colab.research.google.com/notebooks/data_table.ipynb>data table notebook</a>'\n",
              "            + ' to learn more about interactive tables.';\n",
              "          element.innerHTML = '';\n",
              "          dataTable['output_type'] = 'display_data';\n",
              "          await google.colab.output.renderOutput(dataTable, element);\n",
              "          const docLink = document.createElement('div');\n",
              "          docLink.innerHTML = docLinkHtml;\n",
              "          element.appendChild(docLink);\n",
              "        }\n",
              "      </script>\n",
              "    </div>\n",
              "  </div>\n",
              "  "
            ]
          },
          "metadata": {},
          "execution_count": 25
        }
      ]
    },
    {
      "cell_type": "code",
      "metadata": {
        "id": "k-9DwMEI1tTU",
        "colab": {
          "base_uri": "https://localhost:8080/"
        },
        "outputId": "756e230a-000d-4a20-e10e-b73312ab7591"
      },
      "source": [
        "corpus.dtypes"
      ],
      "execution_count": null,
      "outputs": [
        {
          "output_type": "execute_result",
          "data": {
            "text/plain": [
              "type               object\n",
              "text               object\n",
              "clean_text         object\n",
              "meaningful_text    object\n",
              "dtype: object"
            ]
          },
          "metadata": {},
          "execution_count": 24
        }
      ]
    },
    {
      "cell_type": "code",
      "metadata": {
        "id": "c7jFozZK1tTV"
      },
      "source": [
        "# Convert the 'type' column to appropriate datatype\n",
        "corpus['type'] = corpus['type'].astype(\"category\")"
      ],
      "execution_count": null,
      "outputs": []
    },
    {
      "cell_type": "code",
      "metadata": {
        "id": "Hqk4sAHi1tTW",
        "colab": {
          "base_uri": "https://localhost:8080/"
        },
        "outputId": "cb50b2d0-5d09-4d69-fc44-eca19ad341ba"
      },
      "source": [
        "corpus.dtypes"
      ],
      "execution_count": null,
      "outputs": [
        {
          "output_type": "execute_result",
          "data": {
            "text/plain": [
              "type               category\n",
              "text                 object\n",
              "clean_text           object\n",
              "meaningful_text      object\n",
              "dtype: object"
            ]
          },
          "metadata": {},
          "execution_count": 26
        }
      ]
    },
    {
      "cell_type": "markdown",
      "metadata": {
        "id": "Dyaqc72_1tTY"
      },
      "source": [
        "### Visualizing most frequent words using WordCloud"
      ]
    },
    {
      "cell_type": "markdown",
      "metadata": {
        "id": "qOSkVPYW1Qxk"
      },
      "source": [
        "```Python\n",
        "!pip install wordcloud\n",
        "  (or)\n",
        "!conda install -c conda-forge wordcloud=1.6.0\n",
        "```"
      ]
    },
    {
      "cell_type": "code",
      "metadata": {
        "id": "HHwRRzkR1tTZ"
      },
      "source": [
        "from wordcloud import WordCloud\n",
        "import matplotlib.pyplot as plt"
      ],
      "execution_count": null,
      "outputs": []
    },
    {
      "cell_type": "code",
      "metadata": {
        "id": "r2elrUgL1tTa"
      },
      "source": [
        "spam_messages = corpus[corpus[\"type\"] == \"spam\"][\"meaningful_text\"]\n",
        "ham_messages = corpus[corpus[\"type\"] == \"ham\"][\"meaningful_text\"]"
      ],
      "execution_count": null,
      "outputs": []
    },
    {
      "cell_type": "code",
      "metadata": {
        "id": "zm-kn7861tTa",
        "colab": {
          "base_uri": "https://localhost:8080/",
          "height": 310
        },
        "outputId": "209e9d9f-f926-46f3-c21d-6456382368e0"
      },
      "source": [
        "wordcloud = WordCloud(max_font_size=80,max_words=30, background_color=\"red\").generate(str(spam_messages))\n",
        "plt.figure(figsize=(10,8))\n",
        "plt.imshow(wordcloud)\n",
        "plt.axis(\"off\")\n",
        "plt.show()"
      ],
      "execution_count": null,
      "outputs": [
        {
          "output_type": "display_data",
          "data": {
            "text/plain": [
              "<Figure size 720x576 with 1 Axes>"
            ],
            "image/png": "[encoded data removed]"
          },
          "metadata": {
            "needs_background": "light"
          }
        }
      ]
    },
    {
      "cell_type": "code",
      "metadata": {
        "id": "OyMSZgY_1tTb",
        "colab": {
          "base_uri": "https://localhost:8080/",
          "height": 310
        },
        "outputId": "738bd0c2-158f-42c3-ccbd-247779063bf7"
      },
      "source": [
        "wordcloud = WordCloud(max_font_size=80,max_words=30, background_color=\"gray\").generate(str(ham_messages))\n",
        "plt.figure(figsize=(10,8))\n",
        "plt.imshow(wordcloud)\n",
        "plt.axis(\"off\")\n",
        "plt.show()"
      ],
      "execution_count": null,
      "outputs": [
        {
          "output_type": "display_data",
          "data": {
            "text/plain": [
              "<Figure size 720x576 with 1 Axes>"
            ],
            "image/png": "[encoded data removed]"
          },
          "metadata": {
            "needs_background": "light"
          }
        }
      ]
    },
    {
      "cell_type": "markdown",
      "metadata": {
        "id": "p4sjcedl1tTb"
      },
      "source": [
        "#### Perform the train test split on the data and then build the model"
      ]
    },
    {
      "cell_type": "code",
      "metadata": {
        "id": "FU0I5lRf1tTc"
      },
      "source": [
        "train_X, test_X, train_y, test_y = train_test_split(corpus['meaningful_text'], corpus['type'],\n",
        "                                                    stratify = corpus['type'],\n",
        "                                                    test_size=0.3, random_state=123)\n"
      ],
      "execution_count": null,
      "outputs": []
    },
    {
      "cell_type": "code",
      "metadata": {
        "id": "JWy4WZg81tTc",
        "colab": {
          "base_uri": "https://localhost:8080/"
        },
        "outputId": "204a5b9b-90b9-4d49-996e-d88196d7ed92"
      },
      "source": [
        "print(train_X.shape)\n",
        "print(test_X.shape)\n",
        "print(train_y.shape)\n",
        "print(test_y.shape)"
      ],
      "execution_count": null,
      "outputs": [
        {
          "output_type": "stream",
          "name": "stdout",
          "text": [
            "(3900,)\n",
            "(1672,)\n",
            "(3900,)\n",
            "(1672,)\n"
          ]
        }
      ]
    },
    {
      "cell_type": "code",
      "metadata": {
        "id": "8dw2RPCX1tTd",
        "colab": {
          "base_uri": "https://localhost:8080/"
        },
        "outputId": "83fa7480-ce74-49e8-dcc3-505649210196"
      },
      "source": [
        "train_X.head()"
      ],
      "execution_count": null,
      "outputs": [
        {
          "output_type": "execute_result",
          "data": {
            "text/plain": [
              "4897                                                                           half year miss\n",
              "376                                                                                    happen\n",
              "2896                                                                     go ganesh dress shop\n",
              "3472    heart love mind wisdom eye dream amp life frnd alwys touch good night amp sweet dream\n",
              "2264           hear rude chat private line cum wan pic gettin shag text pix send stop sam xxx\n",
              "Name: meaningful_text, dtype: object"
            ]
          },
          "metadata": {},
          "execution_count": 33
        }
      ]
    },
    {
      "cell_type": "code",
      "metadata": {
        "id": "2-Bt4ytK1tTd",
        "colab": {
          "base_uri": "https://localhost:8080/"
        },
        "outputId": "bdacc508-9428-4072-bbbc-a8f823456893"
      },
      "source": [
        "train_y.head()"
      ],
      "execution_count": null,
      "outputs": [
        {
          "output_type": "execute_result",
          "data": {
            "text/plain": [
              "4897     ham\n",
              "376      ham\n",
              "2896     ham\n",
              "3472     ham\n",
              "2264    spam\n",
              "Name: type, dtype: category\n",
              "Categories (2, object): ['ham', 'spam']"
            ]
          },
          "metadata": {},
          "execution_count": 34
        }
      ]
    },
    {
      "cell_type": "code",
      "metadata": {
        "id": "jGOjU6xZ1tTd",
        "colab": {
          "base_uri": "https://localhost:8080/"
        },
        "outputId": "fc6396a3-76c6-4052-c2d1-56f3d6268f36"
      },
      "source": [
        "test_X.head()"
      ],
      "execution_count": null,
      "outputs": [
        {
          "output_type": "execute_result",
          "data": {
            "text/plain": [
              "4620                                                                   sorry later meeting\n",
              "573                                                                              open door\n",
              "1591        somewhr surely god decide perfect time meet dat person till den enjoy ur crush\n",
              "1236    opinion jada kusruthi lovable silent spl character mature stylish simple pls reply\n",
              "4819                                                                              ur paper\n",
              "Name: meaningful_text, dtype: object"
            ]
          },
          "metadata": {},
          "execution_count": 35
        }
      ]
    },
    {
      "cell_type": "code",
      "metadata": {
        "id": "Nw-5jaNv1tTe",
        "colab": {
          "base_uri": "https://localhost:8080/"
        },
        "outputId": "05b2f9f7-054b-4f16-d45b-ae637ea89e23"
      },
      "source": [
        "test_y.head()"
      ],
      "execution_count": null,
      "outputs": [
        {
          "output_type": "execute_result",
          "data": {
            "text/plain": [
              "4620    ham\n",
              "573     ham\n",
              "1591    ham\n",
              "1236    ham\n",
              "4819    ham\n",
              "Name: type, dtype: category\n",
              "Categories (2, object): ['ham', 'spam']"
            ]
          },
          "metadata": {},
          "execution_count": 36
        }
      ]
    },
    {
      "cell_type": "markdown",
      "metadata": {
        "id": "NnirwThm1tTe"
      },
      "source": [
        "### Calculate TF-TDF\n",
        "####  Term Frequency: This summarizes how often a given word appears within a document\n",
        "#### Inverse Document Frequency: This down scales words that appear a lot across documents"
      ]
    },
    {
      "cell_type": "code",
      "source": [],
      "metadata": {
        "id": "zO1gBz9LwuUa"
      },
      "execution_count": null,
      "outputs": []
    },
    {
      "cell_type": "markdown",
      "source": [
        "The extended stop words list is passed as an argument to the \"stop_words\" parameter of the TfidfVectorizer, which means that these words will be ignored during the creation of the TF-IDF matrix. The max_df parameter sets a threshold for the maximum frequency of a word to be considered in the matrix, it is set to 0.8 which means any word that appears in more than 80% of the documents will be ignored. This can be useful to exclude common words that may not be informative or relevant to the text analysis being performed."
      ],
      "metadata": {
        "id": "4E8UhexGwvtc"
      }
    },
    {
      "cell_type": "code",
      "metadata": {
        "id": "sFbbPbn51tTf"
      },
      "source": [
        "# Extending stop words list\n",
        "stop_words = list(stop_words) + ['aa','aah','da','lar','ok']\n",
        "\n",
        "Tfidf_vect = TfidfVectorizer(stop_words=stop_words, max_df=0.8) #ignore too frequency terms above 0.8\n",
        "\n",
        "Tfidf_vect.fit(train_X)\n",
        "\n",
        "train_X_Tfidf = Tfidf_vect.transform(train_X)\n",
        "test_X_Tfidf = Tfidf_vect.transform(test_X)"
      ],
      "execution_count": null,
      "outputs": []
    },
    {
      "cell_type": "code",
      "metadata": {
        "id": "laXw2kXY1tTf",
        "colab": {
          "base_uri": "https://localhost:8080/"
        },
        "outputId": "4edb0955-675e-43a7-aaf8-18475bc484dd"
      },
      "source": [
        "print(train_X_Tfidf.shape)"
      ],
      "execution_count": null,
      "outputs": [
        {
          "output_type": "stream",
          "name": "stdout",
          "text": [
            "(3900, 5032)\n"
          ]
        }
      ]
    },
    {
      "cell_type": "code",
      "metadata": {
        "id": "w296mi6p1tTf",
        "colab": {
          "base_uri": "https://localhost:8080/"
        },
        "outputId": "69fb7fad-cadb-4870-9929-1427eac727cd"
      },
      "source": [
        "print(train_X_Tfidf[0])"
      ],
      "execution_count": null,
      "outputs": [
        {
          "output_type": "stream",
          "name": "stdout",
          "text": [
            "  (0, 4983)\t0.5635480157417216\n",
            "  (0, 2717)\t0.5335939210290623\n",
            "  (0, 1825)\t0.6306275932707028\n"
          ]
        }
      ]
    },
    {
      "cell_type": "code",
      "metadata": {
        "id": "gs9KFXpI1tTg",
        "colab": {
          "base_uri": "https://localhost:8080/",
          "height": 235
        },
        "outputId": "a3b3c1c7-d66a-47c5-e381-2d1024b728b6"
      },
      "source": [
        "# Coverting to dense matrix and putting in a dataframe to view the Tfidf matrix\n",
        "dense_mat = train_X_Tfidf.todense()\n",
        "tfidf_Mat = pd.DataFrame(dense_mat, columns=Tfidf_vect.get_feature_names())\n",
        "tfidf_Mat.head()"
      ],
      "execution_count": null,
      "outputs": [
        {
          "output_type": "execute_result",
          "data": {
            "text/plain": [
              "   aaooooright  aathi   ab  abbey  abeg  abel  aberdeen  abi  ability  abiola  \\\n",
              "0          0.0    0.0  0.0    0.0   0.0   0.0       0.0  0.0      0.0     0.0   \n",
              "1          0.0    0.0  0.0    0.0   0.0   0.0       0.0  0.0      0.0     0.0   \n",
              "2          0.0    0.0  0.0    0.0   0.0   0.0       0.0  0.0      0.0     0.0   \n",
              "3          0.0    0.0  0.0    0.0   0.0   0.0       0.0  0.0      0.0     0.0   \n",
              "4          0.0    0.0  0.0    0.0   0.0   0.0       0.0  0.0      0.0     0.0   \n",
              "\n",
              "   ...  zealand  zebra  zero  zhong  zindgi  zoe  zogtorius  zoom  zouk  zyada  \n",
              "0  ...      0.0    0.0   0.0    0.0     0.0  0.0        0.0   0.0   0.0    0.0  \n",
              "1  ...      0.0    0.0   0.0    0.0     0.0  0.0        0.0   0.0   0.0    0.0  \n",
              "2  ...      0.0    0.0   0.0    0.0     0.0  0.0        0.0   0.0   0.0    0.0  \n",
              "3  ...      0.0    0.0   0.0    0.0     0.0  0.0        0.0   0.0   0.0    0.0  \n",
              "4  ...      0.0    0.0   0.0    0.0     0.0  0.0        0.0   0.0   0.0    0.0  \n",
              "\n",
              "[5 rows x 5032 columns]"
            ],
            "text/html": [
              "\n",
              "  <div id=\"df-1eb34702-2978-47f1-b605-e88c85736b88\">\n",
              "    <div class=\"colab-df-container\">\n",
              "      <div>\n",
              "<style scoped>\n",
              "    .dataframe tbody tr th:only-of-type {\n",
              "        vertical-align: middle;\n",
              "    }\n",
              "\n",
              "    .dataframe tbody tr th {\n",
              "        vertical-align: top;\n",
              "    }\n",
              "\n",
              "    .dataframe thead th {\n",
              "        text-align: right;\n",
              "    }\n",
              "</style>\n",
              "<table border=\"1\" class=\"dataframe\">\n",
              "  <thead>\n",
              "    <tr style=\"text-align: right;\">\n",
              "      <th></th>\n",
              "      <th>aaooooright</th>\n",
              "      <th>aathi</th>\n",
              "      <th>ab</th>\n",
              "      <th>abbey</th>\n",
              "      <th>abeg</th>\n",
              "      <th>abel</th>\n",
              "      <th>aberdeen</th>\n",
              "      <th>abi</th>\n",
              "      <th>ability</th>\n",
              "      <th>abiola</th>\n",
              "      <th>...</th>\n",
              "      <th>zealand</th>\n",
              "      <th>zebra</th>\n",
              "      <th>zero</th>\n",
              "      <th>zhong</th>\n",
              "      <th>zindgi</th>\n",
              "      <th>zoe</th>\n",
              "      <th>zogtorius</th>\n",
              "      <th>zoom</th>\n",
              "      <th>zouk</th>\n",
              "      <th>zyada</th>\n",
              "    </tr>\n",
              "  </thead>\n",
              "  <tbody>\n",
              "    <tr>\n",
              "      <th>0</th>\n",
              "      <td>0.0</td>\n",
              "      <td>0.0</td>\n",
              "      <td>0.0</td>\n",
              "      <td>0.0</td>\n",
              "      <td>0.0</td>\n",
              "      <td>0.0</td>\n",
              "      <td>0.0</td>\n",
              "      <td>0.0</td>\n",
              "      <td>0.0</td>\n",
              "      <td>0.0</td>\n",
              "      <td>...</td>\n",
              "      <td>0.0</td>\n",
              "      <td>0.0</td>\n",
              "      <td>0.0</td>\n",
              "      <td>0.0</td>\n",
              "      <td>0.0</td>\n",
              "      <td>0.0</td>\n",
              "      <td>0.0</td>\n",
              "      <td>0.0</td>\n",
              "      <td>0.0</td>\n",
              "      <td>0.0</td>\n",
              "    </tr>\n",
              "    <tr>\n",
              "      <th>1</th>\n",
              "      <td>0.0</td>\n",
              "      <td>0.0</td>\n",
              "      <td>0.0</td>\n",
              "      <td>0.0</td>\n",
              "      <td>0.0</td>\n",
              "      <td>0.0</td>\n",
              "      <td>0.0</td>\n",
              "      <td>0.0</td>\n",
              "      <td>0.0</td>\n",
              "      <td>0.0</td>\n",
              "      <td>...</td>\n",
              "      <td>0.0</td>\n",
              "      <td>0.0</td>\n",
              "      <td>0.0</td>\n",
              "      <td>0.0</td>\n",
              "      <td>0.0</td>\n",
              "      <td>0.0</td>\n",
              "      <td>0.0</td>\n",
              "      <td>0.0</td>\n",
              "      <td>0.0</td>\n",
              "      <td>0.0</td>\n",
              "    </tr>\n",
              "    <tr>\n",
              "      <th>2</th>\n",
              "      <td>0.0</td>\n",
              "      <td>0.0</td>\n",
              "      <td>0.0</td>\n",
              "      <td>0.0</td>\n",
              "      <td>0.0</td>\n",
              "      <td>0.0</td>\n",
              "      <td>0.0</td>\n",
              "      <td>0.0</td>\n",
              "      <td>0.0</td>\n",
              "      <td>0.0</td>\n",
              "      <td>...</td>\n",
              "      <td>0.0</td>\n",
              "      <td>0.0</td>\n",
              "      <td>0.0</td>\n",
              "      <td>0.0</td>\n",
              "      <td>0.0</td>\n",
              "      <td>0.0</td>\n",
              "      <td>0.0</td>\n",
              "      <td>0.0</td>\n",
              "      <td>0.0</td>\n",
              "      <td>0.0</td>\n",
              "    </tr>\n",
              "    <tr>\n",
              "      <th>3</th>\n",
              "      <td>0.0</td>\n",
              "      <td>0.0</td>\n",
              "      <td>0.0</td>\n",
              "      <td>0.0</td>\n",
              "      <td>0.0</td>\n",
              "      <td>0.0</td>\n",
              "      <td>0.0</td>\n",
              "      <td>0.0</td>\n",
              "      <td>0.0</td>\n",
              "      <td>0.0</td>\n",
              "      <td>...</td>\n",
              "      <td>0.0</td>\n",
              "      <td>0.0</td>\n",
              "      <td>0.0</td>\n",
              "      <td>0.0</td>\n",
              "      <td>0.0</td>\n",
              "      <td>0.0</td>\n",
              "      <td>0.0</td>\n",
              "      <td>0.0</td>\n",
              "      <td>0.0</td>\n",
              "      <td>0.0</td>\n",
              "    </tr>\n",
              "    <tr>\n",
              "      <th>4</th>\n",
              "      <td>0.0</td>\n",
              "      <td>0.0</td>\n",
              "      <td>0.0</td>\n",
              "      <td>0.0</td>\n",
              "      <td>0.0</td>\n",
              "      <td>0.0</td>\n",
              "      <td>0.0</td>\n",
              "      <td>0.0</td>\n",
              "      <td>0.0</td>\n",
              "      <td>0.0</td>\n",
              "      <td>...</td>\n",
              "      <td>0.0</td>\n",
              "      <td>0.0</td>\n",
              "      <td>0.0</td>\n",
              "      <td>0.0</td>\n",
              "      <td>0.0</td>\n",
              "      <td>0.0</td>\n",
              "      <td>0.0</td>\n",
              "      <td>0.0</td>\n",
              "      <td>0.0</td>\n",
              "      <td>0.0</td>\n",
              "    </tr>\n",
              "  </tbody>\n",
              "</table>\n",
              "<p>5 rows × 5032 columns</p>\n",
              "</div>\n",
              "      <button class=\"colab-df-convert\" onclick=\"convertToInteractive('df-1eb34702-2978-47f1-b605-e88c85736b88')\"\n",
              "              title=\"Convert this dataframe to an interactive table.\"\n",
              "              style=\"display:none;\">\n",
              "        \n",
              "  <svg xmlns=\"http://www.w3.org/2000/svg\" height=\"24px\"viewBox=\"0 0 24 24\"\n",
              "       width=\"24px\">\n",
              "    <path d=\"M0 0h24v24H0V0z\" fill=\"none\"/>\n",
              "    <path d=\"M18.56 5.44l.94 2.06.94-2.06 2.06-.94-2.06-.94-.94-2.06-.94 2.06-2.06.94zm-11 1L8.5 8.5l.94-2.06 2.06-.94-2.06-.94L8.5 2.5l-.94 2.06-2.06.94zm10 10l.94 2.06.94-2.06 2.06-.94-2.06-.94-.94-2.06-.94 2.06-2.06.94z\"/><path d=\"M17.41 7.96l-1.37-1.37c-.4-.4-.92-.59-1.43-.59-.52 0-1.04.2-1.43.59L10.3 9.45l-7.72 7.72c-.78.78-.78 2.05 0 2.83L4 21.41c.39.39.9.59 1.41.59.51 0 1.02-.2 1.41-.59l7.78-7.78 2.81-2.81c.8-.78.8-2.07 0-2.86zM5.41 20L4 18.59l7.72-7.72 1.47 1.35L5.41 20z\"/>\n",
              "  </svg>\n",
              "      </button>\n",
              "      \n",
              "  <style>\n",
              "    .colab-df-container {\n",
              "      display:flex;\n",
              "      flex-wrap:wrap;\n",
              "      gap: 12px;\n",
              "    }\n",
              "\n",
              "    .colab-df-convert {\n",
              "      background-color: #E8F0FE;\n",
              "      border: none;\n",
              "      border-radius: 50%;\n",
              "      cursor: pointer;\n",
              "      display: none;\n",
              "      fill: #1967D2;\n",
              "      height: 32px;\n",
              "      padding: 0 0 0 0;\n",
              "      width: 32px;\n",
              "    }\n",
              "\n",
              "    .colab-df-convert:hover {\n",
              "      background-color: #E2EBFA;\n",
              "      box-shadow: 0px 1px 2px rgba(60, 64, 67, 0.3), 0px 1px 3px 1px rgba(60, 64, 67, 0.15);\n",
              "      fill: #174EA6;\n",
              "    }\n",
              "\n",
              "    [theme=dark] .colab-df-convert {\n",
              "      background-color: #3B4455;\n",
              "      fill: #D2E3FC;\n",
              "    }\n",
              "\n",
              "    [theme=dark] .colab-df-convert:hover {\n",
              "      background-color: #434B5C;\n",
              "      box-shadow: 0px 1px 3px 1px rgba(0, 0, 0, 0.15);\n",
              "      filter: drop-shadow(0px 1px 2px rgba(0, 0, 0, 0.3));\n",
              "      fill: #FFFFFF;\n",
              "    }\n",
              "  </style>\n",
              "\n",
              "      <script>\n",
              "        const buttonEl =\n",
              "          document.querySelector('#df-1eb34702-2978-47f1-b605-e88c85736b88 button.colab-df-convert');\n",
              "        buttonEl.style.display =\n",
              "          google.colab.kernel.accessAllowed ? 'block' : 'none';\n",
              "\n",
              "        async function convertToInteractive(key) {\n",
              "          const element = document.querySelector('#df-1eb34702-2978-47f1-b605-e88c85736b88');\n",
              "          const dataTable =\n",
              "            await google.colab.kernel.invokeFunction('convertToInteractive',\n",
              "                                                     [key], {});\n",
              "          if (!dataTable) return;\n",
              "\n",
              "          const docLinkHtml = 'Like what you see? Visit the ' +\n",
              "            '<a target=\"_blank\" href=https://colab.research.google.com/notebooks/data_table.ipynb>data table notebook</a>'\n",
              "            + ' to learn more about interactive tables.';\n",
              "          element.innerHTML = '';\n",
              "          dataTable['output_type'] = 'display_data';\n",
              "          await google.colab.output.renderOutput(dataTable, element);\n",
              "          const docLink = document.createElement('div');\n",
              "          docLink.innerHTML = docLinkHtml;\n",
              "          element.appendChild(docLink);\n",
              "        }\n",
              "      </script>\n",
              "    </div>\n",
              "  </div>\n",
              "  "
            ]
          },
          "metadata": {},
          "execution_count": 40
        }
      ]
    },
    {
      "cell_type": "code",
      "metadata": {
        "colab": {
          "base_uri": "https://localhost:8080/"
        },
        "id": "wNjnMXsC051R",
        "outputId": "49070276-0a31-478e-a2eb-1dcaee72e614"
      },
      "source": [
        "print([col for col in tfidf_Mat.columns])"
      ],
      "execution_count": null,
      "outputs": [
        {
          "output_type": "stream",
          "name": "stdout",
          "text": [
            "['aaooooright', 'aathi', 'ab', 'abbey', 'abeg', 'abel', 'aberdeen', 'abi', 'ability', 'abiola', 'abj', 'able', 'abnormally', 'abouta', 'absolutly', 'abstract', 'abt', 'abta', 'aburo', 'abuse', 'abuser', 'ac', 'academic', 'acc', 'accent', 'accenture', 'accept', 'access', 'accessible', 'accidant', 'accident', 'accidentally', 'accommodation', 'accommodationvoucher', 'accomodate', 'accomodation', 'accordingly', 'account', 'accumulation', 'achan', 'ache', 'achieve', 'acnt', 'act', 'action', 'activate', 'active', 'activity', 'actor', 'actual', 'actually', 'ad', 'adam', 'add', 'addamsfa', 'addict', 'addie', 'address', 'adewale', 'adi', 'adjustable', 'admin', 'admirer', 'admission', 'admit', 'adore', 'adrian', 'adult', 'advance', 'adventure', 'advice', 'advise', 'affair', 'affection', 'affectionate', 'affidavit', 'afghanistan', 'afraid', 'african', 'aft', 'afternon', 'afternoon', 'aftr', 'ag', 'agalla', 'age', 'agency', 'agidhane', 'ago', 'agree', 'ah', 'aha', 'ahead', 'ahhh', 'ahhhh', 'ahmad', 'ahold', 'aid', 'aids', 'aig', 'aight', 'air', 'airport', 'aiya', 'aiyah', 'aiyar', 'aiyo', 'ajith', 'ak', 'aka', 'al', 'alaipayuthe', 'albi', 'album', 'alcohol', 'aldrine', 'alert', 'aletter', 'alex', 'alfie', 'algarve', 'algebra', 'ali', 'alibi', 'alive', 'allah', 'allalo', 'allday', 'alle', 'allo', 'allow', 'alright', 'alrite', 'alwa', 'alwys', 'amanda', 'amazing', 'ambitious', 'ambrith', 'american', 'ami', 'amigo', 'ammae', 'ammo', 'amnow', 'amore', 'amp', 'amrca', 'amrita', 'ams', 'amt', 'amused', 'amy', 'ana', 'anand', 'andre', 'andrews', 'andros', 'angel', 'angry', 'animal', 'animation', 'anjie', 'anjola', 'anna', 'annie', 'anniversary', 'annoncement', 'announcement', 'annoyin', 'annoying', 'anonymous', 'anot', 'ans', 'ansr', 'answer', 'answerin', 'antelope', 'antha', 'anthony', 'anti', 'anybody', 'anymore', 'anyplace', 'anythiing', 'anythin', 'anythingtomorrow', 'anytime', 'anyways', 'aom', 'apart', 'apartment', 'apeshit', 'apnt', 'apo', 'apologise', 'apologize', 'app', 'apparently', 'appeal', 'appear', 'appendix', 'applebee', 'application', 'apply', 'appointment', 'appreciate', 'approach', 'appropriate', 'approve', 'approx', 'appt', 'april', 'aproach', 'apt', 'aptitude', 'aquarius', 'ar', 'arab', 'arcade', 'ard', 'area', 'aretake', 'argentina', 'argh', 'argue', 'argument', 'arie', 'arise', 'arithmetic', 'arm', 'armand', 'armenia', 'arng', 'arngd', 'arnt', 'aroundn', 'arr', 'arrange', 'arrest', 'arrive', 'arrow', 'arsenal', 'art', 'artist', 'arty', 'arun', 'asap', 'ashe', 'ashley', 'ashwini', 'asian', 'ask', 'askd', 'askin', 'aslamalaikkum', 'asleep', 'aspect', 'ass', 'assessment', 'asshole', 'assistance', 'asssssholeeee', 'assume', 'asthere', 'asthma', 'astne', 'astrology', 'astronomer', 'atlanta', 'atlast', 'atm', 'attach', 'attached', 'attack', 'attempt', 'atten', 'attend', 'attention', 'attribute', 'auction', 'audiition', 'audition', 'audrey', 'audrie', 'august', 'aunt', 'auntie', 'aunty', 'aust', 'australia', 'auto', 'autocorrect', 'av', 'availa', 'available', 'avalarr', 'avatar', 'ave', 'avent', 'avoid', 'await', 'awake', 'award', 'away', 'awesome', 'awkward', 'awww', 'ay', 'ayn', 'ba', 'baaaaaaaabe', 'baaaaabe', 'babe', 'babes', 'baby', 'babygoodbye', 'babysitte', 'bac', 'backdoor', 'bad', 'badass', 'bag', 'bahama', 'baig', 'bailiff', 'bajarangabali', 'bak', 'balance', 'ball', 'balloon', 'bam', 'ban', 'bandage', 'bang', 'bangb', 'bangbabe', 'bank', 'banneduk', 'bar', 'barbie', 'barcelona', 'bare', 'barely', 'bari', 'barkley', 'barmed', 'barolla', 'barry', 'base', 'basic', 'basically', 'basket', 'bat', 'batch', 'batchlor', 'bath', 'bathe', 'batt', 'battery', 'battle', 'bay', 'bb', 'bbd', 'bbdeluxe', 'bbq', 'bc', 'bcaz', 'bck', 'bcm', 'bcoz', 'bcum', 'bcz', 'bday', 'beach', 'bear', 'beating', 'beautiful', 'beauty', 'bec', 'becausethey', 'becoz', 'bed', 'bedbut', 'bedreal', 'bedrm', 'bedroom', 'beeen', 'beehoon', 'beer', 'beerage', 'befor', 'beg', 'begin', 'behalf', 'behave', 'bein', 'believe', 'belive', 'bell', 'bellearli', 'belligerent', 'belly', 'belong', 'belovd', 'beloved', 'belt', 'ben', 'beneficiary', 'benefit', 'bergkamp', 'bet', 'beta', 'beth', 'betta', 'bettersn', 'bettr', 'beware', 'bf', 'bff', 'bfore', 'bhaji', 'bhaskar', 'bhayandar', 'bian', 'bid', 'big', 'bike', 'bill', 'billing', 'billion', 'billy', 'bilo', 'bimbo', 'bin', 'bird', 'birla', 'birth', 'birthdate', 'birthday', 'bishan', 'bit', 'bitch', 'bitching', 'bite', 'bk', 'black', 'blackberry', 'blacko', 'blah', 'blake', 'blame', 'blank', 'blanket', 'blastin', 'bleak', 'bleh', 'bless', 'blessing', 'blimey', 'blind', 'block', 'blogge', 'bloke', 'blonde', 'bloo', 'blood', 'bloody', 'bloomberg', 'blow', 'blu', 'blue', 'bluetooth', 'bluff', 'blur', 'bluray', 'bmw', 'board', 'boat', 'boatin', 'bob', 'body', 'bold', 'bollox', 'boltblue', 'bong', 'bonus', 'boo', 'boob', 'book', 'bookedthe', 'boost', 'booty', 'bore', 'bored', 'borin', 'boring', 'borrow', 'boss', 'boston', 'bot', 'bother', 'bottle', 'bout', 'bowa', 'bowl', 'box', 'boy', 'boye', 'boyf', 'boyfriend', 'boytoy', 'brah', 'brain', 'brainless', 'brainy', 'brand', 'brandy', 'brat', 'brave', 'bray', 'brb', 'bread', 'break', 'breaker', 'breakin', 'breath', 'breathe', 'breather', 'breezy', 'bribe', 'bright', 'brighten', 'brilliant', 'brilliantly', 'brin', 'bring', 'bristol', 'british', 'britney', 'bro', 'broad', 'broke', 'broken', 'brolly', 'bros', 'broth', 'brotha', 'brother', 'brownie', 'browse', 'browser', 'browsin', 'bruce', 'brum', 'bruv', 'bslvyl', 'bsnl', 'bstfrnd', 'bt', 'btw', 'btwn', 'buck', 'bud', 'budget', 'buff', 'buffet', 'bugis', 'build', 'building', 'bulb', 'bullshit', 'bun', 'bunker', 'burden', 'burger', 'burgundy', 'burial', 'burn', 'burrito', 'bus', 'busetop', 'business', 'busty', 'busy', 'butt', 'butthere', 'buy', 'buyer', 'buying', 'buzy', 'buzz', 'buzzzz', 'bw', 'bx', 'byatch', 'bye', 'cabin', 'cable', 'cafe', 'cage', 'cake', 'cal', 'calculate', 'calculation', 'cali', 'calicut', 'california', 'callback', 'callcost', 'caller', 'callertune', 'callfreefone', 'callin', 'calling', 'callon', 'calm', 'cam', 'camcorder', 'came', 'camera', 'camp', 'campus', 'camry', 'canada', 'canal', 'canary', 'cancel', 'cancer', 'canlove', 'canname', 'cantdo', 'canteen', 'cap', 'capital', 'cappuccino', 'captain', 'car', 'card', 'cardiff', 'cardin', 'care', 'career', 'careful', 'carefully', 'caring', 'carlie', 'carlin', 'carlos', 'carly', 'caroline', 'carpark', 'carry', 'carryin', 'cartoon', 'case', 'cash', 'casing', 'cast', 'castor', 'casualty', 'cat', 'catch', 'category', 'cause', 'cave', 'caveboy', 'cbe', 'cc', 'ccna', 'cd', 'cds', 'ceiling', 'celeb', 'celebrate', 'celebration', 'cell', 'census', 'center', 'centre', 'cer', 'cereal', 'certainly', 'certificate', 'cha', 'chachi', 'chad', 'chain', 'challenge', 'challenging', 'champney', 'chance', 'change', 'chap', 'chapter', 'character', 'charge', 'charity', 'charle', 'charles', 'charlie', 'chart', 'chase', 'chastity', 'chat', 'chatline', 'chatting', 'cheap', 'cheaper', 'cheat', 'chechi', 'check', 'checkin', 'checking', 'checkmate', 'cheek', 'cheer', 'cheery', 'cheese', 'cheesy', 'cheeto', 'chennai', 'cheque', 'cherish', 'chess', 'chest', 'chex', 'chg', 'chic', 'chick', 'chicken', 'chickene', 'chik', 'chikku', 'child', 'childish', 'children', 'chile', 'chill', 'chillaxin', 'chillin', 'china', 'chinatown', 'chinchilla', 'chinese', 'chinky', 'chinnu', 'chip', 'chit', 'chk', 'chloe', 'choice', 'choose', 'chop', 'chore', 'christ', 'christians', 'christmas', 'christmassy', 'chuckin', 'church', 'ciao', 'cine', 'cinema', 'citizen', 'city', 'citylink', 'cl', 'cla', 'claim', 'claire', 'clash', 'class', 'classic', 'classmate', 'claypot', 'cld', 'clean', 'clear', 'clearly', 'clever', 'click', 'cliff', 'clip', 'clock', 'close', 'closed', 'cloth', 'clothe', 'cloud', 'clover', 'club', 'clue', 'cm', 'cme', 'cmon', 'cn', 'cnl', 'cnn', 'co', 'coach', 'coast', 'coax', 'coca', 'coccoone', 'cochin', 'cock', 'cocksucker', 'code', 'coffee', 'coherently', 'coimbatore', 'coin', 'cola', 'colany', 'cold', 'colin', 'collage', 'collapse', 'colleague', 'collect', 'collection', 'college', 'color', 'colour', 'colourful', 'comb', 'combination', 'come', 'comedy', 'comfey', 'comfort', 'comin', 'command', 'comment', 'commercial', 'commit', 'common', 'community', 'comp', 'company', 'compare', 'compass', 'compensation', 'competition', 'complacent', 'complain', 'complaint', 'complementary', 'complete', 'completely', 'complexity', 'compliment', 'complimentary', 'compulsory', 'computational', 'computer', 'computerless', 'conacte', 'concentrate', 'concentration', 'concern', 'concert', 'conclusion', 'condition', 'conference', 'configure', 'confirm', 'confirmd', 'conform', 'confuse', 'confused', 'congrat', 'congratulation', 'connect', 'connection', 'consider', 'consistently', 'console', 'constant', 'constantly', 'contact', 'content', 'contented', 'contention', 'continent', 'continue', 'contract', 'contribute', 'control', 'convenience', 'conversation', 'convert', 'converter', 'convey', 'convince', 'convincing', 'cook', 'cookie', 'cool', 'coope', 'cooperative', 'cop', 'cope', 'copy', 'corect', 'cornwall', 'corrct', 'correct', 'correction', 'correctly', 'corrupt', 'corvette', 'cos', 'cosign', 'cost', 'costa', 'couch', 'cougar', 'cough', 'count', 'countin', 'countinlot', 'country', 'coupla', 'couple', 'courage', 'course', 'court', 'courtroom', 'cousin', 'cover', 'coveragd', 'coz', 'cozy', 'cr', 'crab', 'crack', 'craigslist', 'cramp', 'crash', 'crave', 'craving', 'crazy', 'crazyin', 'crckt', 'cream', 'create', 'creative', 'creativity', 'credit', 'creepy', 'cribbs', 'cricketer', 'crickite', 'crisis', 'crore', 'cross', 'crowd', 'croydon', 'crucial', 'crucify', 'cruise', 'cruisin', 'cry', 'cs', 'cst', 'cstore', 'cthen', 'cu', 'cuck', 'cud', 'cuddle', 'cuddling', 'culture', 'cum', 'cumin', 'cup', 'cupboard', 'cuppa', 'curious', 'current', 'currently', 'curry', 'curtsey', 'cust', 'custcare', 'custom', 'customer', 'customercare', 'cut', 'cute', 'cutefrnd', 'cutie', 'cuz', 'cyclist', 'cyst', 'dad', 'daddy', 'dai', 'daily', 'damn', 'dan', 'dancce', 'dance', 'dancin', 'dane', 'danger', 'dangerous', 'dare', 'dark', 'darkness', 'darle', 'darlin', 'darling', 'darren', 'dartboard', 'das', 'dasara', 'dat', 'date', 'dave', 'dawn', 'day', 'daytime', 'daywith', 'dd', 'de', 'dead', 'deal', 'dealer', 'dealing', 'dear', 'dearer', 'dearly', 'death', 'dec', 'decade', 'december', 'decide', 'decimal', 'decision', 'deck', 'declare', 'decorating', 'dedicate', 'dedicated', 'deduct', 'deep', 'deer', 'def', 'defeat', 'defer', 'deficient', 'definite', 'definitely', 'definitly', 'defo', 'degree', 'dehydrate', 'dehydration', 'del', 'delay', 'delete', 'delhi', 'delicious', 'deliver', 'deliveredtomorrow', 'delivery', 'deltomorrow', 'deluxe', 'dem', 'demand', 'den', 'deni', 'dental', 'dentist', 'deny', 'department', 'depend', 'dependent', 'deposit', 'depressed', 'depression', 'dept', 'derek', 'derp', 'describe', 'desert', 'deserve', 'designation', 'desire', 'desparate', 'despite', 'dessert', 'destiny', 'detail', 'determine', 'detroit', 'deus', 'develop', 'developer', 'device', 'devil', 'devour', 'dey', 'dha', 'dhina', 'dhorte', 'di', 'dial', 'diamond', 'dice', 'dick', 'dict', 'dictionary', 'diddy', 'didntgive', 'die', 'diesel', 'diet', 'diff', 'differ', 'difference', 'different', 'difficult', 'difficulty', 'dificult', 'digi', 'digit', 'digital', 'dignity', 'dime', 'dimension', 'din', 'dine', 'dinero', 'ding', 'dining', 'dinner', 'dint', 'dip', 'dippeditinadew', 'direct', 'directly', 'director', 'dirt', 'dirty', 'dis', 'disaster', 'disastrous', 'disc', 'disclose', 'disconnect', 'discount', 'discreet', 'discuss', 'disk', 'dislike', 'dismay', 'dismissial', 'display', 'distance', 'distract', 'disturb', 'ditto', 'divert', 'division', 'divorce', 'diwali', 'dizzamn', 'dlf', 'dload', 'dnot', 'dnt', 'dob', 'dobby', 'doc', 'dock', 'doctor', 'document', 'dodda', 'dog', 'dogging', 'doggy', 'doin', 'doinat', 'doke', 'dokey', 'doll', 'dollar', 'dom', 'domain', 'don', 'donate', 'donno', 'dontcha', 'dontignore', 'dontplease', 'doom', 'door', 'dorm', 'dormitory', 'dot', 'double', 'doug', 'dough', 'download', 'downon', 'downs', 'downstem', 'dps', 'dr', 'dracula', 'drama', 'dramastorm', 'drastic', 'draw', 'dreading', 'dream', 'dreams', 'dress', 'dresser', 'drink', 'drinkin', 'drinking', 'drive', 'drivin', 'driving', 'drizzling', 'drm', 'drop', 'drug', 'drum', 'drunk', 'drunken', 'dry', 'dryer', 'dt', 'dub', 'dubsack', 'duchess', 'duck', 'dude', 'duffer', 'dull', 'dumb', 'dun', 'dungeree', 'dunno', 'duo', 'durban', 'durham', 'dusk', 'dust', 'duvet', 'dvd', 'dvg', 'dwn', 'eachother', 'ear', 'early', 'earn', 'earth', 'easily', 'east', 'eastender', 'easter', 'easy', 'eat', 'eatin', 'ebay', 'echo', 'eckankar', 'ecstasy', 'ed', 'edge', 'edhae', 'edison', 'edrunk', 'education', 'educational', 'edukkukayee', 'ee', 'eek', 'eerie', 'eerulli', 'effect', 'efficient', 'efreefone', 'eg', 'egbon', 'egg', 'ego', 'eh', 'eighth', 'eightish', 'eire', 'el', 'ela', 'elaborate', 'elaine', 'elama', 'elaya', 'eld', 'election', 'electricity', 'elliot', 'em', 'email', 'embarasse', 'embarassing', 'embarrass', 'emigrate', 'emily', 'emotion', 'employer', 'en', 'enc', 'end', 'ending', 'endof', 'enemy', 'energy', 'eng', 'engage', 'engalnd', 'engin', 'england', 'english', 'enjoy', 'enjoyin', 'enketa', 'ennal', 'enter', 'entertaining', 'entey', 'entire', 'entitle', 'entrepreneur', 'entry', 'enufcredeit', 'enuff', 'envelope', 'eppolum', 'epsilon', 'equally', 'er', 'ericsson', 'err', 'error', 'ertini', 'eruku', 'erupt', 'escalator', 'escape', 'ese', 'eshxxxxxxxxxxx', 'especially', 'esplanade', 'essay', 'essential', 'establish', 'etc', 'ethnicity', 'ettans', 'euro', 'eurodisinc', 'europe', 'evaluation', 'evaporate', 'eve', 'evening', 'event', 'eventually', 'everybody', 'everyboy', 'everyso', 'everytime', 'eviction', 'evn', 'evng', 'evo', 'evone', 'evr', 'evrey', 'evry', 'evrydy', 'ew', 'ex', 'exact', 'exactly', 'exam', 'excellent', 'exciting', 'excuse', 'exe', 'executive', 'exercise', 'exeter', 'exhaust', 'exhibition', 'exist', 'exmpel', 'exorcism', 'exorcist', 'exp', 'expect', 'expensive', 'experience', 'expert', 'expire', 'expiry', 'explain', 'explicit', 'expose', 'express', 'expression', 'ext', 'extra', 'extreme', 'ey', 'eye', 'fa', 'fab', 'faber', 'face', 'facebook', 'fact', 'factory', 'fade', 'faggot', 'faglord', 'fail', 'faint', 'fair', 'faith', 'fake', 'fakeye', 'fal', 'fall', 'famamus', 'familiar', 'family', 'fan', 'fancy', 'fantastic', 'fantasy', 'far', 'farm', 'farrell', 'fart', 'fassyole', 'fast', 'fat', 'fate', 'father', 'fathima', 'fault', 'fav', 'fave', 'favor', 'favorite', 'favour', 'favourite', 'fb', 'fear', 'feathery', 'feature', 'feb', 'february', 'fee', 'feed', 'feel', 'feelin', 'feeling', 'fellow', 'female', 'feng', 'festival', 'fetch', 'fever', 'ffffuuuuuuu', 'fgkslpo', 'fgkslpopw', 'field', 'fieldof', 'fifa', 'fight', 'fightng', 'figure', 'file', 'fill', 'film', 'filth', 'filthy', 'filthyguy', 'final', 'finalise', 'finally', 'finance', 'financial', 'find', 'fine', 'finger', 'finish', 'finished', 'fink', 'finn', 'fire', 'fireplace', 'firsg', 'fish', 'fishhead', 'fit', 'fix', 'fixedline', 'flag', 'flake', 'flaky', 'flame', 'flash', 'flat', 'flatter', 'fletcher', 'flight', 'flights', 'flim', 'flip', 'flippin', 'flirt', 'flirting', 'flood', 'floor', 'floppy', 'florida', 'flow', 'flower', 'fluid', 'flurry', 'fly', 'flyng', 'fm', 'fml', 'foley', 'follow', 'fond', 'fondly', 'fone', 'fonin', 'food', 'fool', 'foot', 'football', 'footbl', 'footie', 'footprint', 'footy', 'force', 'foregate', 'foreign', 'forever', 'forevr', 'forget', 'forgive', 'forgot', 'format', 'formatting', 'forth', 'fortune', 'forum', 'forward', 'forwarded', 'forwarding', 'foundurself', 'fourth', 'fox', 'fps', 'fr', 'fraction', 'fran', 'frank', 'franxx', 'fraud', 'fre', 'freak', 'free', 'freedom', 'freeentry', 'freefone', 'freek', 'freely', 'freemsg', 'freephone', 'freeze', 'fren', 'french', 'frens', 'frequently', 'fresher', 'fri', 'friday', 'fridge', 'friend', 'friendsare', 'friendship', 'fringe', 'frm', 'frmcloud', 'frnd', 'frndship', 'frndshp', 'frndsship', 'frndz', 'frnt', 'fro', 'frog', 'fromm', 'frosty', 'fry', 'ft', 'fuck', 'fuckin', 'fucking', 'fudge', 'fuel', 'fujitsu', 'ful', 'fulfil', 'fumbling', 'fun', 'fund', 'fundamental', 'funky', 'funny', 'furniture', 'future', 'fuuuuck', 'fyi', 'ga', 'gailxx', 'gain', 'gal', 'galileo', 'gam', 'game', 'games', 'gamestar', 'gandhipuram', 'ganesh', 'gang', 'gap', 'garage', 'garbage', 'garden', 'gari', 'gary', 'gas', 'gastroenteritis', 'gate', 'gautham', 'gauti', 'gay', 'gayle', 'gaze', 'gb', 'gbp', 'gd', 'gdeve', 'ge', 'gee', 'geeee', 'geeeee', 'gender', 'generally', 'genius', 'gentle', 'gentleman', 'gently', 'genuine', 'genus', 'geoenvironmental', 'gep', 'ger', 'germany', 'getie', 'gets', 'gettin', 'getting', 'gf', 'ghodbandar', 'ghost', 'gibb', 'gift', 'giggle', 'gigolo', 'gimme', 'gimmi', 'gin', 'girl', 'girlfrnd', 'girlie', 'gist', 'giv', 'glad', 'gland', 'glass', 'glo', 'global', 'glorious', 'glory', 'gm', 'gmw', 'gn', 'gnarls', 'gnun', 'goal', 'gobi', 'god', 'goigng', 'goin', 'gokila', 'gold', 'golddigger', 'golden', 'goldvike', 'golf', 'gon', 'gona', 'gonnamissu', 'good', 'goodevene', 'goodfriend', 'goodmorne', 'goodmorning', 'goodnight', 'goodnite', 'goodnoon', 'goodo', 'google', 'gopalettan', 'gorgeous', 'gosh', 'gossip', 'got', 'gota', 'gotany', 'gotmarrie', 'goto', 'goverment', 'gower', 'gpu', 'graduate', 'grahmbell', 'gram', 'grand', 'grandfather', 'grant', 'graphic', 'grateful', 'grave', 'gravel', 'gravity', 'gravy', 'gray', 'great', 'greatly', 'greatness', 'greece', 'green', 'greet', 'greeting', 'grief', 'grin', 'grinder', 'grinule', 'grl', 'grocer', 'groovy', 'groovye', 'ground', 'group', 'grow', 'grown', 'grownup', 'grr', 'grumble', 'grumpy', 'gsex', 'gsoh', 'gt', 'gua', 'guarantee', 'gucci', 'gud', 'gudnite', 'gudnyt', 'guess', 'guide', 'guild', 'guilty', 'guitar', 'gumby', 'guoyang', 'gurl', 'gut', 'guy', 'gv', 'gve', 'gym', 'gymnastic', 'gyno', 'ha', 'habit', 'hack', 'haf', 'haha', 'hahaha', 'hai', 'hail', 'hair', 'haircut', 'hairdresser', 'haiyoh', 'haiz', 'half', 'hall', 'halla', 'hallaq', 'halloween', 'ham', 'hamster', 'hand', 'handle', 'handset', 'handsome', 'hang', 'hanger', 'hangin', 'hank', 'hannaford', 'hanuman', 'hanumanji', 'happen', 'happenin', 'happily', 'happiness', 'happy', 'hard', 'hardcore', 'hardly', 'harish', 'harlem', 'harri', 'harry', 'hasbro', 'hassle', 'hat', 'hate', 'haughaighgtujhyguj', 'haul', 'haunt', 'hav', 'hava', 'haventcn', 'havin', 'havnt', 'hcl', 'hdd', 'head', 'headache', 'headin', 'heal', 'healthy', 'hear', 'hearin', 'hearing', 'heart', 'hearted', 'heater', 'heavily', 'heavy', 'hee', 'hehe', 'height', 'helen', 'hell', 'hella', 'hello', 'helloooo', 'help', 'helpful', 'helpline', 'heltini', 'henry', 'hep', 'hero', 'heron', 'hesitate', 'hesitation', 'hex', 'hey', 'hg', 'hhahhaahahah', 'hi', 'hide', 'high', 'hilarious', 'hill', 'hillsborough', 'himso', 'hip', 'hiphop', 'hire', 'history', 'hit', 'hitler', 'hitman', 'hittng', 'hiya', 'hl', 'hlday', 'hm', 'hme', 'hmm', 'hmmm', 'hmmmm', 'hmv', 'ho', 'hockey', 'hogidhe', 'hogli', 'hogolo', 'hol', 'hold', 'holder', 'hole', 'holiday', 'holla', 'hollalater', 'home', 'homeowner', 'hon', 'honest', 'honey', 'honeybee', 'honeymoon', 'hont', 'hoo', 'hoody', 'hook', 'hoop', 'hop', 'hope', 'hopeful', 'hopefully', 'hopeso', 'hor', 'horniest', 'horny', 'horo', 'horrible', 'horse', 'hos', 'hospital', 'host', 'hostel', 'hostile', 'hot', 'hotel', 'hotmix', 'hour', 'hourish', 'house', 'houseful', 'housewife', 'housework', 'housing', 'howard', 'howda', 'howdy', 'howu', 'howz', 'hp', 'hppnss', 'hr', 'hrishi', 'hrs', 'hsbc', 'html', 'huai', 'hubby', 'hudgi', 'hug', 'huge', 'hugh', 'huh', 'huime', 'hum', 'human', 'humanity', 'hun', 'hungry', 'hunny', 'hunt', 'hurricane', 'hurry', 'hurt', 'husband', 'hussey', 'hustle', 'hut', 'hv', 'hvae', 'hw', 'hyde', 'hype', 'hypotheticalhuagauahahuagahyuhagga', 'iam', 'ias', 'ibh', 'ibhltd', 'ibiza', 'ibm', 'ibn', 'ic', 'iccha', 'ice', 'icic', 'icky', 'icon', 'idea', 'ideal', 'identifi', 'identification', 'identifier', 'idiot', 'idk', 'idps', 'idu', 'iff', 'ignorant', 'ignore', 'ijust', 'ikea', 'ikno', 'iknow', 'il', 'ileave', 'ill', 'illness', 'illspeak', 'ilol', 'im', 'image', 'imagine', 'imf', 'imin', 'imma', 'immediately', 'immunisation', 'imp', 'impatient', 'implication', 'important', 'importantly', 'impose', 'impossible', 'imposter', 'impress', 'impressed', 'impression', 'impressively', 'improve', 'inc', 'inch', 'incident', 'inclu', 'include', 'inclusive', 'incomm', 'inconsiderate', 'inconvenient', 'incorrect', 'increase', 'incredible', 'increment', 'inde', 'independence', 'independently', 'india', 'indian', 'indians', 'indicate', 'inever', 'infact', 'infernal', 'influx', 'info', 'inform', 'information', 'infra', 'infront', 'ing', 'initiate', 'ink', 'inmind', 'inning', 'innocent', 'innu', 'inr', 'insha', 'inshah', 'inside', 'inspection', 'inst', 'instal', 'install', 'instant', 'instantly', 'instead', 'instruction', 'insurance', 'intelligent', 'intention', 'interest', 'interested', 'interesting', 'interflora', 'interfue', 'internet', 'interview', 'interviw', 'intha', 'intrepid', 'intro', 'intrude', 'invader', 'invention', 'invest', 'investigate', 'invite', 'invnte', 'invoice', 'involve', 'iouri', 'ip', 'ipad', 'ipaditan', 'ipod', 'iq', 'iraq', 'iriver', 'iron', 'irritation', 'irulinae', 'iscoming', 'ish', 'island', 'issue', 'italian', 'itcould', 'item', 'ithink', 'itna', 'itwhichturnedinto', 'itxt', 'itz', 'ivatte', 'iwana', 'iyo', 'iz', 'izzit', 'jabo', 'jack', 'jacket', 'jackpot', 'jackson', 'jada', 'jade', 'jaklin', 'jam', 'james', 'jamster', 'jamz', 'jan', 'janarige', 'jane', 'janinexx', 'january', 'jap', 'japanese', 'jason', 'java', 'jay', 'jaya', 'jazz', 'jb', 'jd', 'je', 'jealous', 'jeans', 'jeetey', 'jeevithathile', 'jen', 'jenne', 'jenny', 'jenxxx', 'jeremiah', 'jerk', 'jersey', 'jess', 'jesus', 'jetton', 'jewelry', 'ji', 'jia', 'jiayin', 'jiu', 'jjc', 'jo', 'joanna', 'job', 'jobyet', 'jod', 'jog', 'john', 'join', 'joke', 'jokin', 'jolly', 'jolt', 'jon', 'jontin', 'jordan', 'jorge', 'jot', 'journey', 'joy', 'jp', 'js', 'jsco', 'jst', 'jstfrnd', 'jsut', 'ju', 'juan', 'judgemental', 'juicy', 'juliana', 'julianaland', 'july', 'jump', 'jumper', 'june', 'jungle', 'jurong', 'jus', 'justbeen', 'justify', 'justthought', 'juswoke', 'juz', 'kaaj', 'kadeem', 'kaiez', 'kaila', 'kaitlyn', 'kalisidare', 'kalli', 'kallis', 'kama', 'kanagu', 'kane', 'kano', 'kappa', 'karaoke', 'karnan', 'karo', 'kate', 'katexxx', 'kath', 'kavalan', 'kay', 'kb', 'ke', 'keen', 'keluviri', 'ken', 'kent', 'kerala', 'keralacircle', 'keris', 'kettoda', 'key', 'keyword', 'kfc', 'kg', 'khelate', 'ki', 'kicchu', 'kick', 'kickoff', 'kid', 'kidz', 'kill', 'kind', 'kinda', 'kindly', 'king', 'kingdom', 'kintu', 'kip', 'kisi', 'kiss', 'kit', 'kittum', 'knackered', 'knee', 'knock', 'know', 'knw', 'ko', 'kochi', 'kodstini', 'kodthini', 'konw', 'korche', 'korean', 'korli', 'korte', 'kotee', 'kothi', 'kr', 'kuch', 'kusruthi', 'kvb', 'kz', 'la', 'lab', 'lac', 'lack', 'laden', 'lady', 'lag', 'lage', 'lambda', 'lambu', 'lamp', 'lancaster', 'land', 'landing', 'landline', 'landlineonly', 'landmark', 'lane', 'langport', 'language', 'lanka', 'lanre', 'lap', 'lapdancer', 'laptop', 'lara', 'large', 'lark', 'late', 'lately', 'later', 'latest', 'latr', 'laugh', 'laughing', 'laurie', 'lautech', 'lavender', 'law', 'lay', 'layin', 'lazy', 'lb', 'lccltd', 'ldn', 'le', 'lead', 'leadership', 'league', 'learn', 'leave', 'lect', 'lecture', 'lecturer', 'left', 'leftover', 'leg', 'legal', 'legitimat', 'leh', 'lei', 'lekdog', 'lemme', 'length', 'leo', 'leona', 'leonardo', 'lesser', 'lesson', 'let', 'letter', 'level', 'li', 'liao', 'library', 'lick', 'lido', 'lie', 'life', 'lifeis', 'lifetime', 'lifpartnr', 'lift', 'light', 'lighter', 'lik', 'like', 'likely', 'likeyour', 'lil', 'lily', 'lim', 'limit', 'limp', 'lindsay', 'line', 'linear', 'linerental', 'lingerie', 'lingo', 'link', 'linux', 'lion', 'lionm', 'lionp', 'lip', 'liquor', 'list', 'listen', 'listn', 'literally', 'little', 'live', 'liver', 'liverpool', 'living', 'lk', 'll', 'llc', 'lmao', 'lo', 'load', 'loan', 'lobby', 'local', 'location', 'locaxx', 'lock', 'lodge', 'lodging', 'log', 'login', 'logo', 'logoff', 'logon', 'loko', 'lol', 'lolnice', 'lololo', 'londn', 'london', 'lonely', 'long', 'lonline', 'loo', 'look', 'lookatme', 'lookin', 'looking', 'lool', 'loooooool', 'looovvve', 'loose', 'lor', 'lose', 'loser', 'loss', 'lot', 'lotr', 'lotsly', 'lotsof', 'lotta', 'lotz', 'lou', 'loud', 'lounge', 'lousy', 'lov', 'lovable', 'love', 'loved', 'lovejen', 'lovely', 'loveme', 'lover', 'loverboy', 'lovin', 'loving', 'lovingly', 'lovly', 'low', 'loxahatchee', 'loyal', 'loyalty', 'lrg', 'lst', 'lt', 'ltd', 'ltdhelpdesk', 'lttrs', 'luck', 'luckily', 'lucky', 'lucozade', 'lucy', 'lucyxx', 'lunch', 'lunchtime', 'lunsford', 'lush', 'luton', 'luv', 'luvd', 'luvs', 'lux', 'luxury', 'lv', 'lvblefrnd', 'lyf', 'lyfu', 'lyk', 'lyric', 'ma', 'maaaan', 'maangalyam', 'maat', 'mac', 'macedonia', 'macha', 'machan', 'machine', 'macho', 'mack', 'mad', 'madam', 'madodu', 'madoke', 'madstini', 'madurai', 'maga', 'maggi', 'magic', 'magical', 'mah', 'mahal', 'mahaveer', 'mahfuuz', 'maid', 'mail', 'mailbox', 'main', 'maintain', 'major', 'makie', 'makin', 'malaria', 'malarky', 'male', 'mall', 'mallika', 'man', 'manage', 'management', 'manchester', 'manda', 'mandan', 'mandara', 'mandy', 'maneesha', 'manege', 'manky', 'manual', 'map', 'maraikara', 'marandratha', 'march', 'maretare', 'margaret', 'margin', 'mark', 'market', 'marketing', 'marrge', 'marriage', 'marry', 'marsm', 'maruti', 'marvel', 'mas', 'mask', 'massage', 'massive', 'master', 'match', 'mate', 'math', 'mathe', 'mathematic', 'matra', 'matric', 'matter', 'matthew', 'mature', 'maturity', 'maximize', 'maximum', 'mayb', 'maybe', 'mb', 'mc', 'mca', 'mcat', 'meal', 'mean', 'meaning', 'meaningless', 'measure', 'meat', 'meatball', 'mecause', 'med', 'medical', 'medicine', 'mee', 'meet', 'meetin', 'meeting', 'meg', 'mega', 'meh', 'mei', 'meive', 'mel', 'melle', 'melody', 'melt', 'member', 'membership', 'memory', 'men', 'mental', 'mention', 'mentor', 'menu', 'meow', 'merely', 'merememberin', 'merry', 'mesage', 'mess', 'message', 'messaging', 'messenger', 'messy', 'method', 'mfl', 'mia', 'michael', 'mid', 'middle', 'midnight', 'miiiiiiissssssssss', 'mila', 'mile', 'mileage', 'milk', 'miller', 'million', 'milta', 'min', 'mina', 'minapn', 'mind', 'minded', 'minecraft', 'mini', 'minimum', 'minmobsmore', 'minnaminunginte', 'minor', 'minut', 'minute', 'miracle', 'mirror', 'mis', 'misbehave', 'mise', 'miserable', 'misplace', 'miss', 'misscall', 'missed', 'missin', 'mission', 'misss', 'missunderstde', 'missy', 'mist', 'mistake', 'misundrstud', 'mite', 'mitsake', 'mittelschmertz', 'miwa', 'mix', 'mj', 'mjzgroup', 'mm', 'mmm', 'mmmm', 'mmmmm', 'mmmmmm', 'mmmmmmm', 'mmsto', 'mns', 'mnth', 'mo', 'moan', 'mob', 'mobcudb', 'mobile', 'mobilesdirect', 'mobilesvary', 'mobno', 'moby', 'mode', 'model', 'module', 'mofo', 'moji', 'mojibiola', 'mokka', 'mom', 'moment', 'mon', 'monday', 'mone', 'money', 'monkeespeople', 'monkey', 'monkeyaround', 'mono', 'monoc', 'monster', 'month', 'monthly', 'mood', 'moon', 'moral', 'morn', 'mornin', 'morning', 'morphine', 'moseley', 'mother', 'motivate', 'motive', 'motorola', 'mountain', 'mouth', 'movie', 'mph', 'mquiz', 'mr', 'mre', 'mrng', 'mrt', 'ms', 'msg', 'msge', 'msgrcvd', 'msgrcvdhg', 'msgs', 'msn', 'mt', 'mtalk', 'mth', 'mtmsg', 'mu', 'muah', 'muchxxlove', 'mudyadhu', 'mufti', 'muht', 'multiply', 'mum', 'mummy', 'mumtaz', 'mundhe', 'munster', 'murali', 'murder', 'murderer', 'mush', 'mushy', 'music', 'musical', 'musta', 'musthu', 'mustprovide', 'mutai', 'mutation', 'muz', 'mw', 'mwah', 'mycall', 'mylife', 'mymoby', 'myparent', 'mys', 'myspace', 'mystery', 'na', 'naal', 'nag', 'nagar', 'nah', 'nahi', 'nail', 'naked', 'nalla', 'nalli', 'nammanna', 'nan', 'nanny', 'nannys', 'nap', 'narcotic', 'naseeb', 'nasty', 'nat', 'natalie', 'natalja', 'national', 'nattil', 'natural', 'nature', 'natwest', 'naughty', 'nauseous', 'nav', 'nb', 'nd', 'ne', 'near', 'nearby', 'nearly', 'necessarily', 'necessary', 'necessity', 'neck', 'necklace', 'need', 'needa', 'needy', 'neekunna', 'neft', 'negative', 'neglect', 'neglet', 'neighbor', 'nervous', 'neshanth', 'net', 'netcollex', 'netflix', 'nething', 'network', 'neva', 'nevere', 'neville', 'nevr', 'new', 'neway', 'newquay', 'news', 'newspaper', 'nic', 'nice', 'nichols', 'nick', 'nickey', 'nig', 'nigeria', 'nigh', 'night', 'nigpun', 'nigro', 'nike', 'nimbomson', 'nimya', 'ninish', 'nino', 'nipost', 'nit', 'nite', 'nitro', 'nmde', 'nobbe', 'noe', 'noice', 'noise', 'noisy', 'nok', 'nokia', 'noline', 'noncomittal', 'noon', 'nooooooo', 'noooooooo', 'nope', 'norcorp', 'norm', 'normal', 'northampton', 'nos', 'nose', 'nosh', 'nosy', 'note', 'notebook', 'nothin', 'notice', 'notify', 'nottingham', 'noun', 'novelty', 'november', 'ntt', 'ntwk', 'nudist', 'nuerologist', 'num', 'number', 'nursery', 'nurungu', 'nus', 'nusstu', 'nuther', 'nver', 'nvm', 'nvq', 'nw', 'nxt', 'ny', 'nyc', 'nydc', 'nyt', 'nytho', 'nz', 'nìte', 'obedient', 'obey', 'oblivious', 'obviously', 'occasion', 'occupy', 'occur', 'ocean', 'odalebeku', 'odi', 'ofcourse', 'offc', 'offcampus', 'offdam', 'offense', 'offer', 'office', 'officer', 'official', 'officially', 'offline', 'ofice', 'ofsi', 'oga', 'ogunrinde', 'oh', 'oi', 'oic', 'oil', 'oja', 'okay', 'okden', 'okey', 'okie', 'okmail', 'okor', 'ola', 'olage', 'olave', 'olayiwola', 'old', 'olol', 'olympic', 'omg', 'omw', 'onam', 'oncall', 'ondu', 'oni', 'onion', 'online', 'onluy', 'onum', 'onwards', 'ooh', 'oooh', 'oooooh', 'ooooooh', 'oop', 'oops', 'open', 'opening', 'operate', 'operator', 'opinion', 'opp', 'opponenter', 'opportunity', 'opt', 'option', 'optout', 'oral', 'orange', 'orc', 'orchard', 'order', 'ore', 'oredi', 'oreo', 'organise', 'orh', 'orig', 'original', 'ortxt', 'oru', 'os', 'oscar', 'oso', 'otbox', 'othrs', 'otside', 'ou', 'ouch', 'ourback', 'outage', 'outfit', 'outfor', 'outgoing', 'outrageous', 'outreach', 'outside', 'outstanding', 'outta', 'ovarian', 'overa', 'overdo', 'overdose', 'overheating', 'overtime', 'ovr', 'ow', 'owo', 'oxygen', 'oyster', 'oz', 'pa', 'pace', 'pack', 'package', 'page', 'pai', 'pain', 'painful', 'paint', 'palm', 'pan', 'panalam', 'pandy', 'panic', 'panick', 'panren', 'pansy', 'pant', 'panther', 'pantie', 'paper', 'paperwork', 'paracetamol', 'parachute', 'paragon', 'parantella', 'parchi', 'parco', 'parent', 'paris', 'park', 'parkin', 'parking', 'participate', 'particular', 'particularly', 'partner', 'partnership', 'party', 'paru', 'pass', 'passable', 'passionate', 'passport', 'password', 'past', 'pataistha', 'patent', 'path', 'pathaya', 'patient', 'patrick', 'patty', 'paul', 'pause', 'pavanaputra', 'pax', 'pay', 'payee', 'payment', 'payoh', 'pc', 'peace', 'peaceful', 'peach', 'peak', 'pear', 'pee', 'peep', 'pehle', 'pen', 'pende', 'pendent', 'peni', 'penis', 'penny', 'people', 'percent', 'percentage', 'perf', 'perfect', 'perform', 'performance', 'perfume', 'peril', 'period', 'peripherals', 'permission', 'perpetual', 'persian', 'persolvo', 'person', 'personal', 'personality', 'personally', 'perspective', 'pert', 'perumbavoor', 'pesky', 'pete', 'petey', 'petrol', 'pg', 'pharmacy', 'phase', 'phd', 'phew', 'phil', 'philosophical', 'philosophy', 'phne', 'phoenix', 'phone', 'phonebook', 'phony', 'photo', 'phrase', 'physic', 'pic', 'pick', 'pickle', 'picture', 'pie', 'piece', 'pierre', 'pig', 'pilate', 'pile', 'pimple', 'pin', 'pink', 'pint', 'pisce', 'piss', 'pissed', 'pix', 'pixel', 'pizza', 'pl', 'place', 'placement', 'plaid', 'plan', 'plane', 'planet', 'planning', 'plate', 'platt', 'play', 'player', 'playin', 'playng', 'plaza', 'pleasant', 'pleased', 'pleasure', 'plenty', 'plm', 'plough', 'pls', 'plum', 'plural', 'plus', 'plz', 'pm', 'pmt', 'po', 'pobox', 'pocay', 'pocy', 'pod', 'poem', 'point', 'poker', 'pokkiri', 'pole', 'police', 'politician', 'polo', 'poly', 'polyc', 'polyh', 'polyph', 'polyphonic', 'pongal', 'ponnungale', 'poo', 'pookie', 'poop', 'poor', 'poorly', 'poortiyagi', 'pop', 'popcorn', 'porn', 'porridge', 'port', 'portal', 'portege', 'portion', 'pos', 'pose', 'posh', 'position', 'positive', 'possession', 'possessiveness', 'possible', 'possibly', 'post', 'postcard', 'postcode', 'potato', 'potential', 'potter', 'pouch', 'pound', 'pour', 'pout', 'power', 'powerful', 'ppl', 'ppm', 'prabha', 'practical', 'practice', 'practicum', 'practise', 'praise', 'prakasam', 'prakasamanu', 'prakesh', 'prap', 'prasanth', 'prashanthettan', 'pray', 'prayer', 'prayr', 'pre', 'predict', 'predicte', 'prediction', 'predictive', 'prefer', 'prem', 'premier', 'premium', 'prepare', 'prepared', 'prepay', 'prepayment', 'prescribe', 'prescription', 'presence', 'present', 'president', 'presnt', 'press', 'prestige', 'pretend', 'pretsorginta', 'pretsovru', 'pretty', 'prevent', 'previous', 'previously', 'prey', 'price', 'pride', 'prin', 'prince', 'princess', 'print', 'printer', 'printing', 'prior', 'priority', 'priscilla', 'privacy', 'private', 'priya', 'prize', 'prizeawaiting', 'pro', 'prob', 'probably', 'problem', 'problematic', 'problum', 'probpop', 'probthat', 'process', 'prod', 'product', 'professional', 'profile', 'profit', 'program', 'project', 'prolly', 'prometazine', 'prominent', 'promise', 'promo', 'promote', 'promotion', 'prompt', 'prone', 'proof', 'proove', 'prop', 'proper', 'properly', 'property', 'propose', 'propsd', 'prospect', 'prove', 'proverb', 'provide', 'proze', 'ps', 'pshew', 'psp', 'psxtra', 'psychic', 'ptbo', 'pthis', 'pub', 'public', 'publish', 'pull', 'pump', 'punch', 'punishment', 'punto', 'puppy', 'pura', 'purchase', 'pure', 'purity', 'purpose', 'purse', 'push', 'pushbutton', 'pussy', 'puttin', 'puzzele', 'puzzle', 'qatar', 'qbank', 'qe', 'quality', 'quarter', 'queen', 'query', 'question', 'quick', 'quickly', 'quiet', 'quit', 'quiteamuze', 'quiz', 'quizclub', 'quote', 'race', 'racing', 'radiator', 'radio', 'raed', 'rael', 'raiden', 'railway', 'rain', 'raise', 'raj', 'rajas', 'rajitha', 'rajnikant', 'rakhesh', 'raksha', 'rally', 'ralph', 'ramaduth', 'raman', 'random', 'randomlly', 'randomly', 'randy', 'range', 'ranju', 'rape', 'rate', 'raviyog', 'rawring', 'ray', 'rayman', 'rct', 'rcv', 'rcvd', 'rd', 'rdy', 'reach', 'reache', 'react', 'reaction', 'read', 'reader', 'readiness', 'reading', 'ready', 'real', 'realise', 'reality', 'realize', 'reallyneed', 'realy', 'reapply', 'rearrange', 'reason', 'reasonable', 'reassurance', 'reassure', 'reboot', 'rec', 'recd', 'receipt', 'receive', 'receivea', 'received', 'recent', 'recently', 'reception', 'recession', 'recharge', 'reckon', 'recognise', 'record', 'recorder', 'recount', 'recovery', 'recreation', 'recycling', 'red', 'redeem', 'redeemable', 'redeemed', 'reduce', 'ree', 'ref', 'reference', 'referin', 'reffere', 'refill', 'reflection', 'reflex', 'refresh', 'refund', 'refuse', 'reg', 'regard', 'register', 'regret', 'regular', 'reject', 'relation', 'relationship', 'relative', 'relax', 'relaxing', 'release', 'reliant', 'relieved', 'religiously', 'relocate', 'rem', 'remain', 'remb', 'remember', 'rememberi', 'remembr', 'remind', 'reminder', 'removal', 'remove', 'rencontre', 'renew', 'renewal', 'rent', 'rental', 'rentl', 'repair', 'repeat', 'repent', 'replace', 'replacement', 'reply', 'report', 'reppurcussion', 'representative', 'republic', 'request', 'require', 'requirement', 'research', 'resend', 'resent', 'reservation', 'reserve', 'reserved', 'reset', 'reslove', 'resolution', 'resolve', 'resort', 'respect', 'respond', 'response', 'responsibility', 'responsible', 'rest', 'restaurant', 'restock', 'restrict', 'resubbe', 'resubmit', 'result', 'resume', 'retard', 'retire', 'retrieve', 'return', 'reunion', 'reveal', 'reverse', 'review', 'revision', 'reward', 'rewarding', 'rgds', 'rhode', 'rhythm', 'rice', 'rich', 'riddance', 'ride', 'right', 'rightio', 'rightly', 'riley', 'rimac', 'ring', 'ringtone', 'rip', 'rise', 'risk', 'rite', 'river', 'road', 'roast', 'rob', 'robinson', 'rock', 'rodger', 'rofl', 'roger', 'role', 'roller', 'romantic', 'romcapspam', 'ron', 'room', 'roomate', 'roommate', 'ros', 'rose', 'rough', 'round', 'row', 'rpl', 'rply', 'rr', 'rs', 'rstm', 'rt', 'rtm', 'rto', 'ru', 'rub', 'rubber', 'rude', 'rudi', 'ruin', 'rule', 'rum', 'rumble', 'rumour', 'run', 'rupaul', 'rush', 'rushing', 'rv', 'rwm', 'ryan', 'sac', 'sachin', 'sacrifice', 'sad', 'sae', 'saee', 'safe', 'safely', 'safety', 'sagamu', 'saibaba', 'sake', 'salad', 'salam', 'salary', 'sale', 'sall', 'salmon', 'salon', 'salt', 'sam', 'samachara', 'samantha', 'sandiago', 'sankatmochan', 'sankranti', 'santa', 'sapna', 'sar', 'sara', 'sarasota', 'sarcasm', 'saristar', 'sariyag', 'sary', 'sashimi', 'sat', 'satanic', 'sathy', 'sathya', 'satisfied', 'satisfy', 'satsgettin', 'satthen', 'saturday', 'saucy', 'savamob', 'save', 'saving', 'sayhey', 'sayin', 'saying', 'sayy', 'sc', 'scammer', 'scarcasim', 'scare', 'scared', 'scary', 'sch', 'schedule', 'school', 'science', 'scold', 'scorable', 'score', 'scoring', 'scotch', 'scotland', 'scotsman', 'scouse', 'scrappy', 'scratch', 'scream', 'screaming', 'screen', 'screwd', 'scrounge', 'scrumptious', 'sculpture', 'sd', 'sday', 'se', 'sea', 'search', 'season', 'seat', 'sec', 'second', 'secondary', 'secret', 'secretary', 'section', 'secure', 'seed', 'seeker', 'sef', 'seh', 'sehwag', 'select', 'selection', 'self', 'selfindependence', 'selfish', 'selflessness', 'sell', 'sem', 'semester', 'semi', 'semiobscure', 'sen', 'send', 'sender', 'senrd', 'sense', 'sensible', 'sent', 'sentence', 'senthil', 'seperate', 'sept', 'serena', 'series', 'seriously', 'serve', 'server', 'service', 'servs', 'set', 'setting', 'settle', 'seven', 'sex', 'sexual', 'sexy', 'sexychat', 'sez', 'sf', 'sh', 'sha', 'shade', 'shag', 'shah', 'shahjahan', 'shake', 'shall', 'shame', 'shampain', 'shangela', 'share', 'shb', 'shd', 'sheet', 'sheffield', 'shelf', 'shell', 'sherawat', 'shesil', 'shexy', 'shhhhh', 'shifad', 'shijas', 'shijutta', 'shindig', 'shine', 'shiny', 'ship', 'shipping', 'shirt', 'shit', 'shite', 'shitin', 'shitload', 'shitstorm', 'shivratri', 'shld', 'shldxxxx', 'shock', 'shoe', 'shola', 'shoot', 'shop', 'shoppin', 'shopping', 'shoranur', 'shore', 'short', 'shortage', 'shortcode', 'shortly', 'shot', 'shout', 'shove', 'shower', 'shrink', 'shrub', 'shu', 'shud', 'shudvetold', 'shuhui', 'shun', 'shut', 'shy', 'si', 'sian', 'sic', 'sick', 'sigh', 'sight', 'sign', 'signal', 'significance', 'significant', 'signin', 'siguviri', 'silence', 'silent', 'silently', 'silly', 'sim', 'simple', 'simply', 'simulate', 'sinco', 'sing', 'singapore', 'singe', 'single', 'sink', 'sip', 'sipix', 'sir', 'sis', 'sister', 'sit', 'site', 'sitll', 'sitter', 'sittin', 'situation', 'siva', 'skateboard', 'skilgme', 'skill', 'skillgame', 'skinny', 'skint', 'skip', 'skirt', 'sky', 'skye', 'skype', 'skyve', 'slaaaaave', 'slack', 'slap', 'slave', 'sleep', 'sleepin', 'sleeping', 'sleepingwith', 'sleepy', 'slide', 'slightly', 'slip', 'slipper', 'slippery', 'slo', 'slot', 'slovely', 'slow', 'slowly', 'slp', 'slurp', 'sm', 'smack', 'small', 'smart', 'smartcall', 'smash', 'smell', 'smeone', 'smidgin', 'smile', 'smiley', 'smith', 'smoke', 'smoothly', 'sms', 'smse', 'smsservice', 'smth', 'sn', 'snake', 'snap', 'snappy', 'snatch', 'sneham', 'snog', 'snow', 'snowball', 'snowboard', 'snowman', 'snuggle', 'sochte', 'social', 'sofa', 'soft', 'software', 'soil', 'soiree', 'sol', 'soladha', 'solihull', 'solve', 'somebody', 'someonone', 'somerset', 'sometext', 'somethin', 'sometme', 'somewhat', 'somewheresomeone', 'somone', 'somtime', 'sonathaya', 'sonetime', 'song', 'sony', 'sonyericsson', 'soo', 'soon', 'soonlot', 'sooooo', 'sophas', 'sore', 'sorrow', 'sorry', 'sort', 'sorta', 'sory', 'soryda', 'sos', 'soul', 'sound', 'soup', 'source', 'south', 'southern', 'souvenier', 'sp', 'space', 'spain', 'spam', 'spanish', 'spare', 'spark', 'sparkling', 'spatula', 'speak', 'spec', 'special', 'speciale', 'specialise', 'specially', 'specific', 'specify', 'speechless', 'speed', 'spele', 'spell', 'spelling', 'spend', 'spice', 'spider', 'spiffe', 'spile', 'spin', 'spinout', 'spiral', 'spirit', 'spiritual', 'spk', 'spl', 'splashmobile', 'split', 'spllee', 'spoil', 'sponsor', 'spontaneously', 'spook', 'spoon', 'sporadically', 'sport', 'spose', 'spot', 'spouse', 'sppok', 'spreadsheet', 'spree', 'spring', 'sprint', 'sptv', 'squat', 'squeeeeeze', 'squishy', 'srs', 'srt', 'sry', 'st', 'stability', 'stable', 'stadium', 'staff', 'stage', 'stagwood', 'stair', 'stalk', 'stamp', 'stand', 'standard', 'stapati', 'star', 'stare', 'starer', 'start', 'starting', 'starve', 'stash', 'state', 'statement', 'station', 'status', 'stay', 'stayin', 'std', 'steak', 'steal', 'steam', 'steering', 'step', 'sterm', 'steve', 'steyn', 'sth', 'stick', 'sticky', 'stifle', 'stil', 'stink', 'stitch', 'stock', 'stockport', 'stomach', 'stomp', 'stone', 'stoner', 'stool', 'stop', 'stopbcm', 'store', 'storm', 'story', 'str', 'straight', 'strain', 'strange', 'stream', 'street', 'stress', 'stressed', 'stressful', 'stressfull', 'stretch', 'strike', 'string', 'strip', 'stripe', 'strong', 'strongly', 'strt', 'struggle', 'stu', 'student', 'studentfinancial', 'studio', 'study', 'studying', 'stuff', 'stunning', 'stupid', 'style', 'stylish', 'sub', 'subject', 'sublet', 'submit', 'subpoly', 'subscribe', 'subscriber', 'subscription', 'subscrition', 'subsequent', 'success', 'successful', 'successfully', 'suck', 'sudden', 'sue', 'suffer', 'sufficient', 'sugababe', 'sugar', 'suggest', 'suit', 'suite', 'suitemate', 'sullivan', 'sum', 'sumfe', 'summer', 'summon', 'sumthin', 'sun', 'sunday', 'sundayish', 'sunny', 'sunoco', 'sunroof', 'sunscreen', 'sunshine', 'suntec', 'sup', 'super', 'superb', 'superior', 'supervisor', 'suply', 'supplier', 'supply', 'support', 'suppose', 'supreme', 'suprman', 'sura', 'sure', 'surely', 'surf', 'surname', 'surprise', 'surprised', 'surrender', 'surround', 'survey', 'surya', 'sutra', 'sux', 'suzy', 'svc', 'swalpa', 'swan', 'swann', 'swashbuckling', 'swat', 'sway', 'swayze', 'swear', 'sweet', 'sweetest', 'sweetheart', 'sweetie', 'swell', 'swhrt', 'swim', 'swimsuit', 'swing', 'swiss', 'switch', 'swollen', 'swoop', 'swt', 'swtheart', 'syd', 'syllabus', 'symbol', 'sync', 'syria', 'syrup', 'system', 'ta', 'table', 'tablet', 'tackle', 'taco', 'tactful', 'tahan', 'tai', 'taj', 'taka', 'takin', 'talent', 'talk', 'talkin', 'tallahassee', 'tallent', 'tampa', 'tank', 'tantrum', 'tap', 'tape', 'tariff', 'tarot', 'tarpon', 'tast', 'taste', 'tat', 'tata', 'taunton', 'taxi', 'taxis', 'taxless', 'taxt', 'tayseer', 'tb', 'tbs', 'tc', 'tcr', 'tcs', 'tea', 'teach', 'teacher', 'team', 'tear', 'tease', 'teasing', 'tech', 'technical', 'technology', 'tee', 'teju', 'tel', 'telephone', 'telephonic', 'tell', 'telling', 'telly', 'telphone', 'telugu', 'temale', 'temp', 'temple', 'tenant', 'tendency', 'tenerife', 'tense', 'tension', 'teresa', 'term', 'termsapply', 'terrible', 'terrific', 'terrorist', 'tesco', 'tessy', 'test', 'tex', 'text', 'textand', 'textbuddy', 'textcomp', 'texte', 'textin', 'textoperator', 'textpod', 'th', 'thangam', 'thank', 'thanksgiving', 'thanku', 'thankyou', 'thanx', 'thasa', 'thatmum', 'theacusation', 'theater', 'theatre', 'thecd', 'theirs', 'thekingshead', 'theme', 'themob', 'theoretically', 'theory', 'thepub', 'theseday', 'thet', 'thew', 'thgt', 'thin', 'thing', 'think', 'thinkin', 'thinking', 'thinkthis', 'thinl', 'thirunelvali', 'thk', 'thkin', 'thm', 'thnk', 'thnq', 'thnx', 'tho', 'thot', 'thou', 'thought', 'thousand', 'thout', 'thread', 'threat', 'thriller', 'throat', 'throw', 'tht', 'thur', 'thursday', 'thx', 'thy', 'tick', 'ticket', 'tie', 'tiger', 'tight', 'tightly', 'tihs', 'til', 'till', 'tim', 'time', 'timi', 'timing', 'tip', 'tired', 'tiring', 'tirunelvai', 'tirunelvali', 'tirupur', 'tis', 'tissco', 'title', 'tiwary', 'tix', 'tiz', 'tke', 'tkts', 'tlk', 'tm', 'tmr', 'tmrw', 'tmw', 'tnc', 'toa', 'tobe', 'toclaim', 'today', 'todays', 'tog', 'tohar', 'toilet', 'tok', 'toke', 'tol', 'tolerance', 'toll', 'tom', 'tomarrow', 'tome', 'tomeandsaid', 'tomo', 'tomorro', 'tomorrow', 'tone', 'tonexs', 'tongue', 'tonight', 'tonite', 'tonsolitusaswell', 'tookplace', 'tool', 'tooo', 'toot', 'tooth', 'toothpaste', 'tootsie', 'topic', 'toplay', 'tor', 'torch', 'torrent', 'tosend', 'toshiba', 'tot', 'total', 'totally', 'tote', 'touch', 'tough', 'tour', 'town', 'toxic', 'toyota', 'tp', 'track', 'trackmarque', 'trade', 'tradition', 'traffic', 'train', 'training', 'trainner', 'tram', 'tranquility', 'transaction', 'transcribe', 'transfer', 'transfre', 'transport', 'trash', 'trauma', 'trav', 'travel', 'treacle', 'treadmill', 'treat', 'treatin', 'treble', 'tree', 'trek', 'trial', 'trip', 'triple', 'trishul', 'triumph', 'trouble', 'troubleshooting', 'trouser', 'truble', 'truck', 'true', 'truffle', 'truly', 'truro', 'trust', 'truth', 'try', 'tryin', 'tsandcs', 'tsc', 'tscs', 'tsunami', 'tsunamis', 'tt', 'ttyl', 'tue', 'tuesday', 'tui', 'tuition', 'tul', 'tulip', 'tunde', 'tunji', 'turkey', 'turn', 'tuth', 'tv', 'twat', 'twice', 'twiggs', 'twilight', 'twin', 'tx', 'txt', 'txtauction', 'txte', 'txtin', 'txtno', 'txts', 'tyler', 'type', 'typical', 'tyrone', 'ubandu', 'ugadi', 'ugh', 'ugo', 'uh', 'uin', 'ujhhhhhhh', 'uk', 'uks', 'ultimate', 'ultimately', 'ultimatum', 'umma', 'ummifying', 'ummmmmaah', 'un', 'unable', 'unbelievable', 'uncle', 'uncomfortable', 'unconscious', 'unconsciously', 'unconvinced', 'uncountable', 'underdtand', 'understand', 'understanding', 'undrstnd', 'unemployed', 'uneventful', 'unfortunately', 'unfortuntly', 'unhappiness', 'unhappy', 'uni', 'unicef', 'uniform', 'unintentionally', 'unique', 'unit', 'united', 'univ', 'university', 'unknown', 'unlike', 'unlimited', 'unmit', 'unnecessarily', 'unrecognized', 'unredeemed', 'unsold', 'unspoken', 'unsub', 'unsubscribe', 'unusual', 'updat', 'update', 'upgrade', 'upload', 'upset', 'upstairs', 'upto', 'uptown', 'ur', 'ure', 'urfeeling', 'urgent', 'urgently', 'urgh', 'urgnt', 'urgoin', 'urgran', 'urination', 'urn', 'urself', 'usa', 'usb', 'usc', 'use', 'useful', 'user', 'usf', 'usher', 'usmle', 'usp', 'usual', 'usually', 'uterus', 'utter', 'uv', 'uve', 'uwana', 'uwant', 'uworld', 'vaazhthukkal', 'vague', 'vaguely', 'vale', 'valentine', 'valid', 'valuable', 'value', 'varaya', 'vargu', 'vary', 'vasai', 'vat', 'vatian', 'vava', 'vday', 've', 'vegas', 'vegetable', 'veggie', 'vehicle', 'velachery', 'velly', 'verify', 'version', 'versus', 'vettam', 'vibrant', 'vibrate', 'vibrator', 'vic', 'victor', 'victoria', 'vid', 'video', 'videochat', 'videophone', 'view', 'vijay', 'vijaykanth', 'vikky', 'vill', 'villa', 'village', 'vinobanagar', 'violate', 'violence', 'violet', 'vip', 'virgil', 'virgin', 'virtual', 'visa', 'visit', 'visitor', 'vital', 'vitamin', 'viva', 'vivek', 'vl', 'voda', 'vodafone', 'vodka', 'voice', 'voicemail', 'volcano', 'vomit', 'vomitin', 'vote', 'voucher', 'vpod', 'vry', 'vth', 'vu', 'wa', 'waaaat', 'wad', 'wah', 'wahala', 'wahee', 'waheed', 'waht', 'wait', 'waitin', 'wake', 'wale', 'walk', 'walkabout', 'walkin', 'wall', 'wallet', 'wallpaper', 'walmart', 'wan', 'wana', 'wanna', 'want', 'wap', 'waqt', 'warm', 'warn', 'warner', 'warning', 'warranty', 'warwick', 'washob', 'waste', 'wat', 'watch', 'watchin', 'watchng', 'wate', 'water', 'watever', 'watevr', 'watt', 'wave', 'way', 'weak', 'weakness', 'weapon', 'wear', 'weather', 'web', 'webadre', 'webeburnin', 'webpage', 'website', 'wed', 'wedding', 'weddingfriend', 'wednesday', 'wee', 'weed', 'week', 'weekday', 'weekend', 'weekly', 'weigh', 'weight', 'weightloss', 'weird', 'weirdo', 'weirdy', 'weiyi', 'welcome', 'wellda', 'welp', 'wen', 'wenever', 'went', 'werebore', 'werethe', 'wesley', 'west', 'western', 'westlife', 'westonzoyland', 'wet', 'wetherspoon', 'wewa', 'whassup', 'whatsup', 'wheat', 'wheellock', 'whenevr', 'whereare', 'wherevr', 'wherre', 'whisper', 'white', 'whn', 'whore', 'whr', 'wi', 'wicked', 'wicket', 'wicklow', 'wid', 'wif', 'wife', 'wifi', 'wihtuot', 'wil', 'wild', 'wildest', 'wildlife', 'willing', 'willpower', 'win', 'wind', 'window', 'wine', 'wing', 'winner', 'winning', 'winterstone', 'wisdom', 'wise', 'wish', 'wished', 'wishin', 'wishlist', 'wiskey', 'wit', 'wither', 'witin', 'witot', 'wiv', 'wizzle', 'wk', 'wkend', 'wkg', 'wkly', 'wks', 'wld', 'wn', 'wnevr', 'wnt', 'wocay', 'woman', 'womdarfull', 'wondar', 'wondarfull', 'wonder', 'wonderful', 'woo', 'wood', 'woohoo', 'woould', 'worc', 'word', 'work', 'workage', 'workin', 'working', 'workout', 'world', 'worm', 'worried', 'worry', 'worrying', 'worth', 'worthless', 'wot', 'wotu', 'woulda', 'wound', 'wow', 'wrc', 'wreck', 'wrench', 'wright', 'write', 'writhe', 'wrk', 'wrld', 'wrnog', 'wrong', 'wrongly', 'wt', 'wtc', 'wtf', 'wud', 'wuld', 'wuldnt', 'wun', 'wylie', 'xafter', 'xam', 'xavier', 'xchat', 'xma', 'xmas', 'xoxo', 'xt', 'xuhui', 'xx', 'xxx', 'xxxx', 'xxxxx', 'xxxxxx', 'xxxxxxx', 'xxxxxxxx', 'xxxxxxxxxxxxxx', 'xy', 'ya', 'yah', 'yahoo', 'yalrigu', 'yalru', 'yam', 'yan', 'yar', 'yard', 'yavnt', 'yaxx', 'yay', 'yck', 'yeah', 'year', 'yeh', 'yell', 'yellow', 'yen', 'yep', 'yer', 'yes', 'yest', 'yesterday', 'yetty', 'yetunde', 'yifeng', 'yijue', 'ym', 'ymca', 'yo', 'yoga', 'yogasana', 'yor', 'yorge', 'youdoe', 'young', 'yourinclusive', 'yourjob', 'youuuuu', 'yoville', 'yr', 'yrs', 'yummy', 'yun', 'yunny', 'yuo', 'yuou', 'yup', 'yupz', 'zac', 'zaher', 'ze', 'zealand', 'zebra', 'zero', 'zhong', 'zindgi', 'zoe', 'zogtorius', 'zoom', 'zouk', 'zyada']\n"
          ]
        }
      ]
    },
    {
      "cell_type": "markdown",
      "metadata": {
        "id": "efGJDXZ61tTh"
      },
      "source": [
        "#### Use the ML Algorithms to Predict the label"
      ]
    },
    {
      "cell_type": "markdown",
      "metadata": {
        "id": "0IHNePCW1tTh"
      },
      "source": [
        "#### Naive Bayes"
      ]
    },
    {
      "cell_type": "code",
      "metadata": {
        "id": "a5y6rOl61tTh",
        "colab": {
          "base_uri": "https://localhost:8080/"
        },
        "outputId": "f5b6c47f-9dae-4885-ed12-2d86f0232383"
      },
      "source": [
        "# fit the training dataset on the NB classifier\n",
        "Naive = naive_bayes.MultinomialNB()\n",
        "Naive.fit(train_X_Tfidf, train_y)\n",
        "\n",
        "# predict the labels on train dataset\n",
        "pred_train = Naive.predict(train_X_Tfidf)\n",
        "\n",
        "# predict the labels on validation dataset\n",
        "pred_test = Naive.predict(test_X_Tfidf)\n",
        "\n",
        "# Use accuracy_score function to get the accuracy\n",
        "print(\"Naive Bayes Accuracy Score on Train set      -> \", accuracy_score(train_y, pred_train)*100)\n",
        "print(\"Naive Bayes Accuracy Score on Validation set -> \", accuracy_score(test_y, pred_test)*100)\n",
        "print(\"Naive Bayes Recall Score on Validation set   -> \", recall_score(test_y, pred_test, pos_label='spam')*100)\n",
        "print(\"Naive Bayes Precision Score on Validation set-> \", precision_score(test_y, pred_test, pos_label='spam')*100)"
      ],
      "execution_count": null,
      "outputs": [
        {
          "output_type": "stream",
          "name": "stdout",
          "text": [
            "Naive Bayes Accuracy Score on Train set      ->  97.0\n",
            "Naive Bayes Accuracy Score on Validation set ->  96.65071770334929\n",
            "Naive Bayes Recall Score on Validation set   ->  75.0\n",
            "Naive Bayes Precision Score on Validation set->  100.0\n"
          ]
        }
      ]
    },
    {
      "cell_type": "code",
      "source": [],
      "metadata": {
        "id": "wjhSEVsfyyfb"
      },
      "execution_count": null,
      "outputs": []
    },
    {
      "cell_type": "markdown",
      "metadata": {
        "id": "yFeZghcz1tTi"
      },
      "source": [
        "#### SVM"
      ]
    },
    {
      "cell_type": "code",
      "metadata": {
        "id": "LzD9f7DI1tTj",
        "colab": {
          "base_uri": "https://localhost:8080/"
        },
        "outputId": "e1cafcdb-a139-494d-bb08-cfaec0319418"
      },
      "source": [
        "# Classifier - Algorithm - SVM\n",
        "# fit the training dataset on the classifier\n",
        "SVM = svm.SVC(kernel='linear')\n",
        "SVM.fit(train_X_Tfidf,train_y)\n",
        "\n",
        "# predict the labels on train dataset\n",
        "pred_train1 = SVM.predict(train_X_Tfidf)\n",
        "\n",
        "# predict the labels on validation dataset\n",
        "pred_test1 = SVM.predict(test_X_Tfidf)\n",
        "\n",
        "# Use accuracy_score function to get the accuracy\n",
        "print(\"SVM Accuracy Score on Train set.     -> \", accuracy_score(train_y, pred_train1)*100)\n",
        "print(\"SVM Accuracy Score on Validation set -> \", accuracy_score(test_y, pred_test1)*100)\n",
        "print(\"SVM Recall Score on Validation set.  -> \", recall_score(test_y, pred_test1, pos_label='spam')*100)\n",
        "print(\"SVM Precision Score on Validation set-> \", precision_score(test_y, pred_test1, pos_label='spam')*100)"
      ],
      "execution_count": null,
      "outputs": [
        {
          "output_type": "stream",
          "name": "stdout",
          "text": [
            "SVM Accuracy Score on Train set.     ->  99.2051282051282\n",
            "SVM Accuracy Score on Validation set ->  98.20574162679426\n",
            "SVM Recall Score on Validation set.  ->  88.83928571428571\n",
            "SVM Precision Score on Validation set->  97.54901960784314\n"
          ]
        }
      ]
    },
    {
      "cell_type": "code",
      "source": [],
      "metadata": {
        "id": "hUA4tSfM6wLt"
      },
      "execution_count": null,
      "outputs": []
    },
    {
      "cell_type": "markdown",
      "source": [
        "\n",
        "```\n",
        "True-Positive: Predicted is positive, and it’s true\n",
        "\n",
        "True-Negative: Predicted is negative, and it’s true\n",
        "\n",
        "False-Positive: Predicted is positive, but it’s false\n",
        "\n",
        "False-Negative: Predicted is negative, but it’s false\n",
        "\n",
        "\n",
        "Precision: How many of the positive classes that we accurately predicted are positive?\n",
        "\n",
        "Precision = True-Positive/(True-Positive + False-Positive)\n",
        "\n",
        "Recall: How many of the positive classes did we accurately predict? It ought to be as high as is practical.\n",
        "\n",
        "Recall = True-Positive/(True-Positive + False-Negative)\n",
        "\n",
        "Accuracy: How many classes out of all were accurately predicted?\n",
        "\n",
        "Accuracy = (True-Positive + True-Negative)/Data-set size\n",
        "\n",
        "F-Measure: A accuracy and recall combination measure\n",
        "\n",
        "F-measure = 2*Precision*Recall/(Precision + Recall)\n",
        "```\n",
        "\n",
        "\n"
      ],
      "metadata": {
        "id": "_DRa1qmS6wtY"
      }
    },
    {
      "cell_type": "markdown",
      "metadata": {
        "id": "YxhOAyrF1tTj"
      },
      "source": [
        "__Observation__:\n",
        "\n",
        "    Recall is the performance metric in this case.\n",
        "    Based on the Recall score, SVM performed better than Naive Bayes"
      ]
    },
    {
      "cell_type": "code",
      "source": [
        "msg=[\"You have a LUCKY DRAW CONTEST WIN LAKHS\"]\n",
        "msg = [sentence.lower() for sentence in msg]\n"
      ],
      "metadata": {
        "id": "5J1eFjys7eng"
      },
      "execution_count": null,
      "outputs": []
    },
    {
      "cell_type": "code",
      "source": [
        "msg1=[\"i said to attend the meeting now ,If you did not attend then i will kill you idiot\"]"
      ],
      "metadata": {
        "id": "3XN7s0Hq9Fcu"
      },
      "execution_count": null,
      "outputs": []
    },
    {
      "cell_type": "code",
      "source": [
        "def pred(msg):\n",
        "    msg = Tfidf_vect.transform(msg)\n",
        "    prediction = SVM.predict(msg)\n",
        "    return prediction[0]"
      ],
      "metadata": {
        "id": "cn95b8oa7x7U"
      },
      "execution_count": null,
      "outputs": []
    },
    {
      "cell_type": "code",
      "source": [
        "predictions=pred(msg1)"
      ],
      "metadata": {
        "id": "nWXRJlnm7-0c"
      },
      "execution_count": null,
      "outputs": []
    },
    {
      "cell_type": "code",
      "source": [
        "predictions"
      ],
      "metadata": {
        "colab": {
          "base_uri": "https://localhost:8080/",
          "height": 35
        },
        "id": "fb6rTsVI869z",
        "outputId": "8a8f3d61-72a7-4d92-aeba-499e4b2e04d5"
      },
      "execution_count": null,
      "outputs": [
        {
          "output_type": "execute_result",
          "data": {
            "text/plain": [
              "'ham'"
            ],
            "application/vnd.google.colaboratory.intrinsic+json": {
              "type": "string"
            }
          },
          "metadata": {},
          "execution_count": 65
        }
      ]
    },
    {
      "cell_type": "code",
      "metadata": {
        "id": "jkpO7V8a_xtm",
        "colab": {
          "base_uri": "https://localhost:8080/"
        },
        "outputId": "100bfa38-4726-4e80-89da-fb47273761de"
      },
      "source": [
        "# from sklearn.metrics import confusion_matrix\n",
        "# test_X_Tfidf = Tfidf_vect.transform(test_X)\n",
        "# pred_test1 = SVM.predict(test_X_Tfidf)\n",
        "# print(confusion_matrix(test_y, pred_test1))"
      ],
      "execution_count": null,
      "outputs": [
        {
          "output_type": "stream",
          "name": "stdout",
          "text": [
            "[[1443    5]\n",
            " [  25  199]]\n"
          ]
        }
      ]
    }
  ]
}